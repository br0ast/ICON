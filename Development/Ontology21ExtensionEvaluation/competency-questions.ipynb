{
 "cells": [
  {
   "cell_type": "markdown",
   "id": "85c9bc0d-cc4a-4043-8d5e-80ad33e3c018",
   "metadata": {},
   "source": [
    "# Evaluation: Competency Questions\n",
    "\n",
    "In this file, the competency questions will be evaluated over the corresponding dataset. As not all the datasets cover the information requested by each CQ, only a selection of CQ is performed for each dataset. "
   ]
  },
  {
   "cell_type": "code",
   "execution_count": 56,
   "id": "49fa9405-a0bb-4571-a3d4-58a7e2fb6d1f",
   "metadata": {},
   "outputs": [],
   "source": [
    "import rdflib\n",
    "from rdflib.namespace import CSVW, DC, DCAT, DCTERMS, DOAP, FOAF, ODRL2, ORG, OWL, \\\n",
    "                           PROF, PROV, RDF, RDFS, SDO, SH, SKOS, SOSA, SSN, TIME, \\\n",
    "                           VOID, XMLNS, XSD\n",
    "from rdflib import Namespace\n",
    "from rdflib import URIRef\n",
    "\n",
    "from SPARQLWrapper import SPARQLWrapper, JSON\n",
    "\n",
    "from queries import *"
   ]
  },
  {
   "cell_type": "code",
   "execution_count": 57,
   "id": "828175c7-2863-422c-b617-fe6830213055",
   "metadata": {},
   "outputs": [],
   "source": [
    "def sparql_query_setting(query, endpoint):# set the endpoint \n",
    "  sparql = SPARQLWrapper(endpoint)\n",
    "  # set the query\n",
    "  sparql.setQuery(query)\n",
    "  # set the returned format\n",
    "  sparql.setReturnFormat(JSON)\n",
    "  # get the results\n",
    "  results = sparql.query().convert()\n",
    "  return results"
   ]
  },
  {
   "cell_type": "markdown",
   "id": "56f8c54f-402b-417b-897d-22cde6d50c86",
   "metadata": {},
   "source": [
    "## Datasets\n",
    "* The Iconology Dataset was newly described according to the ICON 2.1 ontology. It is available in data > icondataset-icon-2-1.ttl\n",
    "* IICONGRAPH Arco test: a test version containing a subset of the IICONGRAOH statements extracted from ArCo, focusing on personifications and their attributes. The dataset is available in data > complex_e.ttl\n",
    "* IICONGRAPH Wikidata: it corresponds to the part of the IICONGRAPH dataset extracted from wikidata. It corresponds to the file available at [https://doi.org/10.5281/zenodo.10294589](https://doi.org/10.5281/zenodo.10294589) . Given the large size of the dataset, it was uploaded on a Blazegraph local server to perform the queries"
   ]
  },
  {
   "cell_type": "code",
   "execution_count": 37,
   "id": "368b432a-f41a-4122-aa3b-5e6e4d3b0c47",
   "metadata": {},
   "outputs": [
    {
     "data": {
      "text/plain": [
       "<Graph identifier=N4b3cf43fc3b1427b9438c0235eb4b57c (<class 'rdflib.graph.Graph'>)>"
      ]
     },
     "execution_count": 37,
     "metadata": {},
     "output_type": "execute_result"
    }
   ],
   "source": [
    "# iconology dataset 2.1\n",
    "g_ic = rdflib.Graph()\n",
    "g_ic.parse(\"data/icondataset-icon-2-1.ttl\", format=\"ttl\")\n",
    "# we add ICON ontology version 2.1\n",
    "g_ic.parse(\"data/icon.rdf\", format=\"xml\")"
   ]
  },
  {
   "cell_type": "code",
   "execution_count": 39,
   "id": "2c2d6766-c20a-422e-bd7b-bf83054901cf",
   "metadata": {},
   "outputs": [
    {
     "data": {
      "text/plain": [
       "<Graph identifier=N183d8974c19c4892ad4f40cac6d0b68b (<class 'rdflib.graph.Graph'>)>"
      ]
     },
     "execution_count": 39,
     "metadata": {},
     "output_type": "execute_result"
    }
   ],
   "source": [
    "# IICONGRAPH ArCo subset\n",
    "iig_a = rdflib.Graph()\n",
    "iig_a.parse(\"data/complex_e.ttl\", format=\"ttl\")\n",
    "# we add ICON ontology version 2.1\n",
    "iig_a.parse(\"data/icon.rdf\", format=\"xml\")"
   ]
  },
  {
   "cell_type": "code",
   "execution_count": 76,
   "id": "9a160ac2-545a-4d8e-95ce-1a05fb5858b9",
   "metadata": {},
   "outputs": [],
   "source": [
    "# IICONGRAPH Wikidata loaded on the local blazegraph SPARQL endpoint\n",
    "\n",
    "#iig_wd.parse(\"data/iicongraphwikidata.ttl\", format=\"ttl\")\n",
    "iig_wd_sparql = \"http://127.0.0.1:9999/bigdata/sparql\""
   ]
  },
  {
   "cell_type": "markdown",
   "id": "685db69d-0e31-4d5d-b52d-dc6b3d0ea9c8",
   "metadata": {},
   "source": [
    "## Competency questions"
   ]
  },
  {
   "cell_type": "markdown",
   "id": "bf449954-84e8-4001-84c0-34b08aee1baf",
   "metadata": {},
   "source": [
    "### CCQ1: What is the recognized color of the subject depicted in the artwork?\n",
    "\n",
    "ccq1 is expressed by query color_2_1"
   ]
  },
  {
   "cell_type": "code",
   "execution_count": 40,
   "id": "6fd8c87a-6b6f-4fc8-a1c6-82c1b6921562",
   "metadata": {},
   "outputs": [
    {
     "name": "stdout",
     "output_type": "stream",
     "text": [
      "(rdflib.term.URIRef('https://w3id.org/icon/data/ART1001test-AM7'), rdflib.term.URIRef('https://w3id.org/icon/data/cloth'), rdflib.term.URIRef('https://w3id.org/icon/data/quality/blue-color'), rdflib.term.Literal('blue color'))\n",
      "(rdflib.term.URIRef('https://w3id.org/icon/data/ART1315-AM27'), rdflib.term.URIRef('https://w3id.org/icon/data/clothes'), rdflib.term.URIRef('https://w3id.org/icon/data/quality/blue-color'), rdflib.term.Literal('blue color'))\n",
      "(rdflib.term.URIRef('https://w3id.org/icon/data/ART1009test-AM10'), rdflib.term.URIRef('https://w3id.org/icon/data/clothes'), rdflib.term.URIRef('https://w3id.org/icon/data/quality/blue-color'), rdflib.term.Literal('blue color'))\n",
      "(rdflib.term.URIRef('https://w3id.org/icon/data/ART1017test-AM3'), rdflib.term.URIRef('https://w3id.org/icon/data/cloth'), rdflib.term.URIRef('https://w3id.org/icon/data/quality/blue-color'), rdflib.term.Literal('blue color'))\n",
      "(rdflib.term.URIRef('https://w3id.org/icon/data/ART1187-AM10'), rdflib.term.URIRef('https://w3id.org/icon/data/mantle'), rdflib.term.URIRef('https://w3id.org/icon/data/quality/blue-color'), rdflib.term.Literal('blue color'))\n"
     ]
    }
   ],
   "source": [
    "ccq1res = g_ic.query(color_2_1)\n",
    "\n",
    "n = 0\n",
    "for row in ccq1res:\n",
    "    if n < 5: \n",
    "        print(row)\n",
    "        n+=1"
   ]
  },
  {
   "cell_type": "markdown",
   "id": "a3f839f2-67b3-451c-8008-4c2e23279e22",
   "metadata": {},
   "source": [
    "### CCQ2: What is the recognized material of the subject depicted in the artwork?\n",
    "\n",
    "ccq2 is expressed by query material_2_1"
   ]
  },
  {
   "cell_type": "code",
   "execution_count": 41,
   "id": "e3311127-33f0-49d6-92ef-192c8ab18de5",
   "metadata": {},
   "outputs": [
    {
     "name": "stdout",
     "output_type": "stream",
     "text": [
      "(rdflib.term.URIRef('https://w3id.org/icon/data/ART1017test-AM19'), rdflib.term.URIRef('https://w3id.org/icon/data/floor'), rdflib.term.URIRef('https://w3id.org/icon/data/quality/material-marble'), rdflib.term.Literal('material marble'))\n",
      "(rdflib.term.URIRef('https://w3id.org/icon/data/ART1199-AM16'), rdflib.term.URIRef('https://w3id.org/icon/data/block'), rdflib.term.URIRef('https://w3id.org/icon/data/quality/material-marble'), rdflib.term.Literal('material marble'))\n",
      "(rdflib.term.URIRef('https://w3id.org/icon/data/ART1197-AM19'), rdflib.term.URIRef('https://w3id.org/icon/data/cup'), rdflib.term.URIRef('https://w3id.org/icon/data/quality/material-silver'), rdflib.term.Literal('material silver'))\n",
      "(rdflib.term.URIRef('https://w3id.org/icon/data/ART1251-AM6'), rdflib.term.URIRef('https://w3id.org/icon/data/coat'), rdflib.term.URIRef('https://w3id.org/icon/data/quality/material-leather'), rdflib.term.Literal('material leather'))\n",
      "(rdflib.term.URIRef('https://w3id.org/icon/data/ART1017test-AM17'), rdflib.term.URIRef('https://w3id.org/icon/data/glass-sphere'), rdflib.term.URIRef('https://w3id.org/icon/data/quality/material-glass'), rdflib.term.Literal('material glass'))\n"
     ]
    }
   ],
   "source": [
    "ccq2res = g_ic.query(material_2_1)\n",
    "\n",
    "n = 0\n",
    "for row in ccq2res:\n",
    "    if n < 5: \n",
    "        print(row)\n",
    "        n+=1"
   ]
  },
  {
   "cell_type": "markdown",
   "id": "f200edc1-d4cd-4a15-8171-88c6b334bc49",
   "metadata": {},
   "source": [
    "### CCQ3: What is the recognized quantity of the subject depicted in the artwork?\n",
    "\n",
    "ccq3 is expressed by query quantity_2_1"
   ]
  },
  {
   "cell_type": "code",
   "execution_count": 42,
   "id": "0e24fb33-8dd4-4014-a40c-06dc6b2cbdc7",
   "metadata": {},
   "outputs": [
    {
     "name": "stdout",
     "output_type": "stream",
     "text": [
      "(rdflib.term.URIRef('https://w3id.org/icon/data/ART1009test-AM3'), rdflib.term.URIRef('https://w3id.org/icon/data/wings'), rdflib.term.Literal('two'))\n",
      "(rdflib.term.URIRef('https://w3id.org/icon/data/ART1021-AM2'), rdflib.term.URIRef('https://w3id.org/icon/data/serpent'), rdflib.term.Literal('two'))\n",
      "(rdflib.term.URIRef('https://w3id.org/icon/data/ART1124-AM2'), rdflib.term.URIRef('https://w3id.org/icon/data/head'), rdflib.term.Literal('two'))\n",
      "(rdflib.term.URIRef('https://w3id.org/icon/data/ART1125-AM2'), rdflib.term.URIRef('https://w3id.org/icon/data/head'), rdflib.term.Literal('two'))\n",
      "(rdflib.term.URIRef('https://w3id.org/icon/data/ART1134-AM22'), rdflib.term.URIRef('https://w3id.org/icon/data/man'), rdflib.term.Literal('two'))\n"
     ]
    }
   ],
   "source": [
    "ccq3res = g_ic.query(quantity_2_1)\n",
    "\n",
    "n = 0\n",
    "for row in ccq3res:\n",
    "    if n < 5: \n",
    "        print(row)\n",
    "        n+=1"
   ]
  },
  {
   "cell_type": "markdown",
   "id": "f327ed93-f40d-4599-b4f4-03b71358572e",
   "metadata": {},
   "source": [
    "### CCQ4: What is the recognized role of the subject represented in the artwork?\n",
    "\n",
    "ccq4 is expressed by query role_2_1"
   ]
  },
  {
   "cell_type": "code",
   "execution_count": 43,
   "id": "eb24b4bb-df20-4f4f-8a31-d7a9844c4375",
   "metadata": {},
   "outputs": [
    {
     "name": "stdout",
     "output_type": "stream",
     "text": [
      "(rdflib.term.URIRef('https://w3id.org/icon/data/ART1197-IMG2'), rdflib.term.URIRef('https://w3id.org/icon/data/bacchus'), rdflib.term.URIRef('https://w3id.org/icon/data/role/discoverer-of-honey'))\n",
      "(rdflib.term.URIRef('https://w3id.org/icon/data/ART1199-IMG3'), rdflib.term.URIRef('https://w3id.org/icon/data/person/saint-luke'), rdflib.term.URIRef('https://w3id.org/icon/data/role/evangelist'))\n",
      "(rdflib.term.URIRef('https://w3id.org/icon/data/ART1308-IMG2'), rdflib.term.URIRef('https://w3id.org/icon/data/anteros'), rdflib.term.URIRef('https://w3id.org/icon/data/role/assuring-reciprocity-in-amorous-relations'))\n",
      "(rdflib.term.URIRef('https://w3id.org/icon/data/ART1196-1-IMG2'), rdflib.term.URIRef('https://w3id.org/icon/data/person/francesco-del-pugliese'), rdflib.term.URIRef('https://w3id.org/icon/data/role/teacher-of-mankind'))\n",
      "(rdflib.term.URIRef('https://w3id.org/icon/data/ART1196-1-IMG2'), rdflib.term.URIRef('https://w3id.org/icon/data/vulcan'), rdflib.term.URIRef('https://w3id.org/icon/data/role/teacher-of-mankind'))\n"
     ]
    }
   ],
   "source": [
    "ccq4res = g_ic.query(role_2_1)\n",
    "\n",
    "n = 0\n",
    "for row in ccq4res:\n",
    "    if n < 5: \n",
    "        print(row)\n",
    "        n+=1"
   ]
  },
  {
   "cell_type": "markdown",
   "id": "58880b99-64b2-406d-995f-9bf9c38bb466",
   "metadata": {},
   "source": [
    "### TCQ1 What are the further qualities of the recognized level 1 subjects, inde\n",
    "pendently of their type\n",
    "QUery: qual_2_1 t type?"
   ]
  },
  {
   "cell_type": "code",
   "execution_count": 54,
   "id": "2351a608-05d5-4662-83a2-b5fa3a3545ff",
   "metadata": {},
   "outputs": [
    {
     "name": "stdout",
     "output_type": "stream",
     "text": [
      "(rdflib.term.URIRef('https://w3id.org/icon/data/ART1523'), rdflib.term.URIRef('https://w3id.org/icon/data/gesture-of-grief'), rdflib.term.URIRef('https://w3id.org/icon/data/quality/pose-with-open-arms-thrown-backwards'))\n",
      "(rdflib.term.URIRef('https://w3id.org/icon/data/ART1000'), rdflib.term.URIRef('https://w3id.org/icon/data/woman'), rdflib.term.URIRef('https://w3id.org/icon/data/quality/nudity'))\n",
      "(rdflib.term.URIRef('https://w3id.org/icon/data/ART1000'), rdflib.term.URIRef('https://w3id.org/icon/data/man'), rdflib.term.URIRef('https://w3id.org/icon/data/quality/seminude'))\n",
      "(rdflib.term.URIRef('https://w3id.org/icon/data/ART1001test'), rdflib.term.URIRef('https://w3id.org/icon/data/balance'), rdflib.term.URIRef('https://w3id.org/icon/data/quality/empty'))\n",
      "(rdflib.term.URIRef('https://w3id.org/icon/data/ART1001type'), rdflib.term.URIRef('https://w3id.org/icon/data/figure'), rdflib.term.URIRef('https://w3id.org/icon/data/quality/reclining-pose'))\n"
     ]
    }
   ],
   "source": [
    "tcq1res = g_ic.query(qual_2_1)\n",
    "\n",
    "n = 0\n",
    "for row in tcq1res:\n",
    "    if n < 5: \n",
    "        print(row)\n",
    "        n+=1"
   ]
  },
  {
   "cell_type": "code",
   "execution_count": 77,
   "id": "b43f7745-35ce-434b-8297-2fbeef51aa10",
   "metadata": {},
   "outputs": [
    {
     "name": "stdout",
     "output_type": "stream",
     "text": [
      "{'art': {'type': 'uri', 'value': 'http://www.wikidata.org/entity/Q4281369'}, 'subj': {'type': 'uri', 'value': 'http://www.wikidata.org/entity/Q109995'}, 'qual': {'type': 'uri', 'value': 'http://www.wikidata.org/entity/Q23444'}}\n",
      "{'art': {'type': 'uri', 'value': 'http://www.wikidata.org/entity/Q17334119'}, 'subj': {'type': 'uri', 'value': 'http://www.wikidata.org/entity/Q934849'}, 'qual': {'type': 'uri', 'value': 'http://www.wikidata.org/entity/Q373160'}}\n",
      "{'art': {'type': 'uri', 'value': 'http://www.wikidata.org/entity/Q23308491'}, 'subj': {'type': 'uri', 'value': 'http://www.wikidata.org/entity/Q33163'}, 'qual': {'type': 'uri', 'value': 'http://www.wikidata.org/entity/Q3142'}}\n",
      "{'art': {'type': 'uri', 'value': 'http://www.wikidata.org/entity/Q20200075'}, 'subj': {'type': 'uri', 'value': 'http://www.wikidata.org/entity/Q189299'}, 'qual': {'type': 'uri', 'value': 'http://www.wikidata.org/entity/Q208045'}}\n",
      "{'art': {'type': 'uri', 'value': 'http://www.wikidata.org/entity/Q113553163'}, 'subj': {'type': 'uri', 'value': 'http://www.wikidata.org/entity/Q189299'}, 'qual': {'type': 'uri', 'value': 'http://www.wikidata.org/entity/Q106816855'}}\n",
      "{'art': {'type': 'uri', 'value': 'http://www.wikidata.org/entity/Q70699215'}, 'subj': {'type': 'uri', 'value': 'http://www.wikidata.org/entity/Q18953992'}, 'qual': {'type': 'uri', 'value': 'http://www.wikidata.org/entity/Q23444'}}\n",
      "{'art': {'type': 'uri', 'value': 'http://www.wikidata.org/entity/Q70699215'}, 'subj': {'type': 'uri', 'value': 'http://www.wikidata.org/entity/Q18953992'}, 'qual': {'type': 'uri', 'value': 'http://www.wikidata.org/entity/Q42519'}}\n",
      "{'art': {'type': 'uri', 'value': 'http://www.wikidata.org/entity/Q106813261'}, 'subj': {'type': 'uri', 'value': 'http://www.wikidata.org/entity/Q958210'}, 'qual': {'type': 'uri', 'value': 'http://www.wikidata.org/entity/Q3142'}}\n",
      "{'art': {'type': 'uri', 'value': 'http://www.wikidata.org/entity/Q113262'}, 'subj': {'type': 'uri', 'value': 'http://www.wikidata.org/entity/Q958210'}, 'qual': {'type': 'uri', 'value': 'http://www.wikidata.org/entity/Q23445'}}\n",
      "{'art': {'type': 'uri', 'value': 'http://www.wikidata.org/entity/Q11907350'}, 'subj': {'type': 'uri', 'value': 'http://www.wikidata.org/entity/Q958210'}, 'qual': {'type': 'uri', 'value': 'http://www.wikidata.org/entity/Q3133'}}\n"
     ]
    }
   ],
   "source": [
    "qual_2_1_wd = qual_2_1 + \"\"\"LIMIT 10\"\"\"\n",
    "tcq1res_wd = sparql_query_setting(qual_2_1_wd, iig_wd_sparql)\n",
    "for b in tcq1res_wd['results']['bindings']: \n",
    "    print(b)\n",
    "    "
   ]
  },
  {
   "cell_type": "code",
   "execution_count": null,
   "id": "20e84164-f831-450a-87a8-0a92353e262a",
   "metadata": {},
   "outputs": [],
   "source": []
  },
  {
   "cell_type": "markdown",
   "id": "8f956442-4131-4b7f-835a-460de80333a4",
   "metadata": {},
   "source": [
    "### TCQ2 What are the attributes of the recognized second-level subjects, independently of their type?\n",
    "\n",
    "Query: attributes_2_1"
   ]
  },
  {
   "cell_type": "code",
   "execution_count": 61,
   "id": "d110bf42-3183-48b8-b6d7-1d6bd85e5c2d",
   "metadata": {},
   "outputs": [
    {
     "name": "stdout",
     "output_type": "stream",
     "text": [
      "(rdflib.term.URIRef('https://w3id.org/icon/data/ART1259'), rdflib.term.URIRef('https://w3id.org/icon/data/saturn'), rdflib.term.URIRef('https://w3id.org/icon/data/gloomy'))\n",
      "(rdflib.term.URIRef('https://w3id.org/icon/data/ART1260'), rdflib.term.URIRef('https://w3id.org/icon/data/saturn'), rdflib.term.URIRef('https://w3id.org/icon/data/gloomy'))\n",
      "(rdflib.term.URIRef('https://w3id.org/icon/data/ART1000'), rdflib.term.URIRef('https://w3id.org/icon/data/venus'), rdflib.term.URIRef('https://w3id.org/icon/data/dove'))\n",
      "(rdflib.term.URIRef('https://w3id.org/icon/data/ART1000'), rdflib.term.URIRef('https://w3id.org/icon/data/jupiter'), rdflib.term.URIRef('https://w3id.org/icon/data/eagle'))\n",
      "(rdflib.term.URIRef('https://w3id.org/icon/data/ART1002'), rdflib.term.URIRef('https://w3id.org/icon/data/orpheus'), rdflib.term.URIRef('https://w3id.org/icon/data/lyre'))\n"
     ]
    }
   ],
   "source": [
    "tcq2res = g_ic.query(attributes_2_1)\n",
    "\n",
    "n = 0\n",
    "for row in tcq2res:\n",
    "    if n < 5: \n",
    "        print(row)\n",
    "        n+=1"
   ]
  },
  {
   "cell_type": "code",
   "execution_count": 62,
   "id": "fff98a73-f616-4af3-8b16-d7362f8f5b9b",
   "metadata": {},
   "outputs": [
    {
     "name": "stdout",
     "output_type": "stream",
     "text": [
      "(rdflib.term.URIRef('https://w3id.org/arco/resource/HistoricOrArtisticProperty/0300141045-0'), rdflib.term.URIRef('https://w3id.org/iicongraph/data/christ'), rdflib.term.URIRef('https://w3id.org/iicongraph/data/banner'))\n",
      "(rdflib.term.URIRef('https://w3id.org/arco/resource/HistoricOrArtisticProperty/0300141045-0'), rdflib.term.URIRef('https://w3id.org/iicongraph/data/saintMaryMagdalene'), rdflib.term.URIRef('https://w3id.org/iicongraph/data/jarWithOil'))\n",
      "(rdflib.term.URIRef('https://w3id.org/arco/resource/HistoricOrArtisticProperty/0301934243'), rdflib.term.URIRef('https://w3id.org/iicongraph/data/hercules'), rdflib.term.URIRef('https://w3id.org/iicongraph/data/club'))\n",
      "(rdflib.term.URIRef('https://w3id.org/arco/resource/HistoricOrArtisticProperty/0700014321'), rdflib.term.URIRef('https://w3id.org/iicongraph/data/saintVincent'), rdflib.term.URIRef('https://w3id.org/iicongraph/data/palm'))\n",
      "(rdflib.term.URIRef('https://w3id.org/arco/resource/HistoricOrArtisticProperty/0800030461'), rdflib.term.URIRef('https://w3id.org/iicongraph/data/cupid'), rdflib.term.URIRef('https://w3id.org/iicongraph/data/quiver'))\n"
     ]
    }
   ],
   "source": [
    "tcq2res = iig_a.query(attributes_2_1)\n",
    "\n",
    "n = 0\n",
    "for row in tcq2res:\n",
    "    if n < 5: \n",
    "        print(row)\n",
    "        n+=1"
   ]
  },
  {
   "cell_type": "markdown",
   "id": "c5875449-95db-42f0-afe7-9e5e68f8c56f",
   "metadata": {},
   "source": [
    "### TCQ3 What are the relations with other subjects of the recognized third-level subjects, independently of their type?\n",
    "\n",
    "Query: lev3_2_1  "
   ]
  },
  {
   "cell_type": "code",
   "execution_count": 65,
   "id": "3f3b3f42-0b37-4879-972c-05e25af82399",
   "metadata": {},
   "outputs": [
    {
     "name": "stdout",
     "output_type": "stream",
     "text": [
      "(rdflib.term.URIRef('https://w3id.org/icon/data/ART1409'), rdflib.term.URIRef('https://w3id.org/icon/data/the-future-like-the-past-is-not-as-real-as-the-present'), rdflib.term.URIRef('https://w3id.org/icon/data/male-head'))\n",
      "(rdflib.term.URIRef('https://w3id.org/icon/data/ART1002test'), rdflib.term.URIRef('https://w3id.org/icon/data/wedding-wish'), rdflib.term.URIRef('https://w3id.org/icon/data/red-cloth-bridal-chamber-decoration'))\n",
      "(rdflib.term.URIRef('https://w3id.org/icon/data/ART1003test'), rdflib.term.URIRef('https://w3id.org/icon/data/lorenzo-de-medici-presented-as-princeps-of-the-empire'), rdflib.term.URIRef('https://w3id.org/icon/data/young-mago-future-time'))\n",
      "(rdflib.term.URIRef('https://w3id.org/icon/data/ART1003test'), rdflib.term.URIRef('https://w3id.org/icon/data/political-aspirations-of-the-medici-family'), rdflib.term.URIRef('https://w3id.org/icon/data/young-mago-future-time'))\n",
      "(rdflib.term.URIRef('https://w3id.org/icon/data/ART1004'), rdflib.term.URIRef('https://w3id.org/icon/data/redemption'), rdflib.term.URIRef('https://w3id.org/icon/data/dragoon-devil'))\n"
     ]
    }
   ],
   "source": [
    "tcq3res = g_ic.query(lev3_2_1)\n",
    "\n",
    "n = 0\n",
    "for row in tcq3res:\n",
    "    if n < 5: \n",
    "        print(row)\n",
    "        n+=1"
   ]
  },
  {
   "cell_type": "markdown",
   "id": "0ac31d76-953a-4c0b-84cd-489bbd7bfcd4",
   "metadata": {},
   "source": [
    "### TCQ4 What sources are cited as evidence for subject recognition, independently of the subject type?\n",
    "\n",
    "query: source_2_1"
   ]
  },
  {
   "cell_type": "code",
   "execution_count": 70,
   "id": "ece5db72-51de-4f24-b2b0-a2afa9598a3c",
   "metadata": {},
   "outputs": [
    {
     "name": "stdout",
     "output_type": "stream",
     "text": [
      "(rdflib.term.URIRef('https://w3id.org/icon/data/ART1030'), rdflib.term.URIRef('https://w3id.org/icon/data/1014bibl-content'), rdflib.term.URIRef('https://w3id.org/icon/data/helmet'))\n",
      "(rdflib.term.URIRef('https://w3id.org/icon/data/ART1030'), rdflib.term.URIRef('https://w3id.org/icon/data/1014bibl-content-caput-galeatum'), rdflib.term.URIRef('https://w3id.org/icon/data/helmet'))\n",
      "(rdflib.term.URIRef('https://w3id.org/icon/data/ART1043'), rdflib.term.URIRef('https://w3id.org/icon/data/1023bibl-content'), rdflib.term.URIRef('https://w3id.org/icon/data/man'))\n",
      "(rdflib.term.URIRef('https://w3id.org/icon/data/ART1043'), rdflib.term.URIRef('https://w3id.org/icon/data/1023bibl-content'), rdflib.term.URIRef('https://w3id.org/icon/data/halo'))\n",
      "(rdflib.term.URIRef('https://w3id.org/icon/data/ART1043'), rdflib.term.URIRef('https://w3id.org/icon/data/1023bibl-content'), rdflib.term.URIRef('https://w3id.org/icon/data/chart'))\n"
     ]
    }
   ],
   "source": [
    "tcq4res = g_ic.query(source_2_1)\n",
    "\n",
    "n = 0\n",
    "for row in tcq4res:\n",
    "    if n < 5: \n",
    "        print(row)\n",
    "        n+=1"
   ]
  },
  {
   "cell_type": "markdown",
   "id": "b6ed54b6-c3d3-421a-9e58-96951d811a06",
   "metadata": {},
   "source": [
    "### TCQ5 Who are the agents responsible for the interpretation of the artwork?\n",
    "\n",
    "The query is expressed by query person_interpr_2_1"
   ]
  },
  {
   "cell_type": "code",
   "execution_count": 80,
   "id": "c679230c-b05d-41c1-a302-58d38e15dac2",
   "metadata": {},
   "outputs": [
    {
     "name": "stdout",
     "output_type": "stream",
     "text": [
      "(rdflib.term.URIRef('https://w3id.org/icon/data/ART1001type-DESC'), rdflib.term.Literal('https://w3id.org/icon/data/person/erwin-panofsky'))\n",
      "(rdflib.term.URIRef('https://w3id.org/icon/data/ART1009-DESC'), rdflib.term.Literal('https://w3id.org/icon/data/person/erwin-panofsky, https://w3id.org/icon/data/person/fritz-saxl'))\n",
      "(rdflib.term.URIRef('https://w3id.org/icon/data/ART1035-DESC'), rdflib.term.Literal('https://w3id.org/icon/data/person/erwin-panofsky, https://w3id.org/icon/data/person/fritz-saxl'))\n",
      "(rdflib.term.URIRef('https://w3id.org/icon/data/ART1101-DESC'), rdflib.term.Literal('https://w3id.org/icon/data/person/erwin-panofsky'))\n",
      "(rdflib.term.URIRef('https://w3id.org/icon/data/ART1106-DESC'), rdflib.term.Literal('https://w3id.org/icon/data/person/erwin-panofsky'))\n"
     ]
    }
   ],
   "source": [
    "tcq5res = g_ic.query(person_interpr_2_1)\n",
    "\n",
    "n = 0\n",
    "for row in tcq5res:\n",
    "    if n < 5: \n",
    "        print(row)\n",
    "        n+=1"
   ]
  },
  {
   "cell_type": "code",
   "execution_count": null,
   "id": "78ff9c91-997b-4934-a913-167f84b4af03",
   "metadata": {},
   "outputs": [],
   "source": []
  }
 ],
 "metadata": {
  "kernelspec": {
   "display_name": "Python 3 (ipykernel)",
   "language": "python",
   "name": "python3"
  },
  "language_info": {
   "codemirror_mode": {
    "name": "ipython",
    "version": 3
   },
   "file_extension": ".py",
   "mimetype": "text/x-python",
   "name": "python",
   "nbconvert_exporter": "python",
   "pygments_lexer": "ipython3",
   "version": "3.12.1"
  }
 },
 "nbformat": 4,
 "nbformat_minor": 5
}

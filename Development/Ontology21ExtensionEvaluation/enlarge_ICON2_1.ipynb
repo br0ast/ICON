{
 "cells": [
  {
   "cell_type": "code",
   "execution_count": 15,
   "metadata": {},
   "outputs": [],
   "source": [
    "from rdflib import URIRef, BNode, Literal, Graph\n",
    "from rdflib.namespace import CSVW, DC, DCAT, DCTERMS, DOAP, FOAF, ODRL2, ORG, OWL, \\\n",
    "                           PROF, PROV, RDF, RDFS, SDO, SH, SKOS, SOSA, SSN, TIME, \\\n",
    "                           VOID, XMLNS, XSD\n",
    "from rdflib import Namespace, Literal, XSD"
   ]
  },
  {
   "cell_type": "markdown",
   "metadata": {
    "id": "fqfmvk4DcKu3"
   },
   "source": [
    "# Graph Creation"
   ]
  },
  {
   "cell_type": "code",
   "execution_count": 16,
   "metadata": {
    "colab": {
     "base_uri": "https://localhost:8080/"
    },
    "id": "XqOVnv-MJCVI",
    "outputId": "ab1732ec-a301-4e15-8e6c-98dffde64c7e"
   },
   "outputs": [
    {
     "name": "stdout",
     "output_type": "stream",
     "text": [
      "[a rdfg:Graph;rdflib:storage [a rdflib:Store;rdfs:label 'Memory']].\n"
     ]
    }
   ],
   "source": [
    "icon = Namespace(\"https://w3id.org/icon/ontology/\")  #ontology name\n",
    "sim =  Namespace(\"https://w3id.org/simulation/ontology/\")\n",
    "crm = Namespace(\"http://www.cidoc-crm.org/cidoc-crm/\")\n",
    "d = Namespace(\"https://w3id.org/icon/data/\")\n",
    "v = Namespace(\"http://iconvocabulary.org/\")\n",
    "dul = Namespace(\"http://www.ontologydesignpatterns.org/ont/dul/DUL.owl#\")\n",
    "foaf = Namespace(\"http://xmlns.com/foaf/spec/\")\n",
    "cito = Namespace(\"http://purl.org/spar/cito/\")\n",
    "pro = Namespace(\"http://purl.org/spar/pro/\")\n",
    "skos = Namespace(\"http://www.w3.org/2004/02/skos/core#\")\n",
    "owl = Namespace(\"http://www.w3.org/2002/07/owl#\")\n",
    "dct = Namespace(\"http://purl.org/dc/terms/\")\n",
    "dc = Namespace(\"http://purl.org/dc/elements/1.1/\")\n",
    "prov = Namespace(\"http://www.w3.org/ns/prov#\")\n",
    "dcatapit = Namespace(\"http://dati.gov.it/onto/dcatapit#\")\n",
    "dcat = Namespace(\"http://www.w3.org/ns/dcat#\")\n",
    "xsd = Namespace(\"http://www.w3.org/2001/XMLSchema#\")\n",
    "schema = Namespace(\"https://schema.org/\")\n",
    "\n",
    "\n",
    "\n",
    "g = Graph() #we create the graph\n",
    "g.bind(\"icon\", icon)\n",
    "g.bind(\"sim\", sim)\n",
    "g.bind(\"rdf\", RDF)\n",
    "g.bind(\"crm\", crm)\n",
    "g.bind(\"rdfs\", RDFS)\n",
    "g.bind(\"d\", d)\n",
    "g.bind(\"dul\", dul)\n",
    "g.bind(\"foaf\", foaf)\n",
    "g.bind(\"cito\", cito)\n",
    "g.bind(\"pro\", pro)\n",
    "g.bind(\"skos\", skos)\n",
    "g.bind(\"owl\", owl)\n",
    "g.bind(\"dct\", dct)\n",
    "g.bind(\"prov\", prov)\n",
    "g.bind(\"dcatapit\", dcatapit)\n",
    "g.bind(\"dcat\", dcat)\n",
    "g.bind(\"prov\", prov)\n",
    "g.bind(\"xsd\", xsd)\n",
    "g.bind(\"schema\", schema)\n",
    "\n",
    "print(g)"
   ]
  },
  {
   "cell_type": "markdown",
   "metadata": {
    "id": "2IghVymOps2d"
   },
   "source": [
    "## Dataset metadata\n",
    "\n"
   ]
  },
  {
   "cell_type": "code",
   "execution_count": 17,
   "metadata": {
    "colab": {
     "base_uri": "https://localhost:8080/"
    },
    "id": "QIaDNPeTlffj",
    "outputId": "b1098354-34e1-4991-bb91-ef482bfea817"
   },
   "outputs": [
    {
     "data": {
      "text/plain": [
       "<Graph identifier=Naeeb70ce96cc4a5cbb461ed1e01ed405 (<class 'rdflib.graph.Graph'>)>"
      ]
     },
     "execution_count": 17,
     "metadata": {},
     "output_type": "execute_result"
    }
   ],
   "source": [
    "g.add((URIRef(d), RDF.type, URIRef(dcatapit.Dataset)))\n",
    "g.add((URIRef(d), RDF.type, URIRef(dcat.Dataset)))\n",
    "#g.add((URIRef(d), dct.identifier, Literal(\"IconDatasetSubgraph.version2\")))\n",
    "g.add((URIRef(d), dct.identifier, Literal(\"IconDataset.version2\")))\n",
    "g.add((URIRef(d), dct.title, Literal(\"Icon Dataset\", lang=\"en\")))\n",
    "#g.add((URIRef(d), dct.description, Literal(\"Subgraph of the Iconology dataset of the interpretations extracted from 'Studies in Iconology' by Erwin.\")))\n",
    "\n",
    "g.add((URIRef(d), dct.description, Literal(\"Dataset of the iconographical and iconological interpretations extracted from articles and books written by Panofsky. Augmented for testing\")))\n",
    "g.add((URIRef(d), dct.theme, URIRef(\"http://publications.europa.eu/resource/authority/data-theme/EDUC\")))\n",
    "g.add((URIRef(d), dct.subject, URIRef(\"http://vocab.getty.edu/aat/300055859\")))\n",
    "g.add((URIRef(d), dct.subject, URIRef(\"http://vocab.getty.edu/aat/300054235\")))\n",
    "g.add((URIRef(d), dct.subject, URIRef(\"http://vocab.getty.edu/aat/500216547\")))\n",
    "g.add((URIRef(d), dct.issued, Literal(\"2024-03-06\", datatype=xsd.Date)))\n",
    "#g.add((URIRef(d), dct.modified, Literal(\"2021-06-1\", datatype=XSD.Date)))\n",
    "g.add((URIRef(d), dct.keyword, Literal(\"iconology\")))\n",
    "g.add((URIRef(d), dct.keyword, Literal(\"iconography\")))\n",
    "g.add((URIRef(d), dct.keyword, Literal(\"art interpretation\")))\n",
    "g.add((URIRef(d), dct.keyword, Literal(\"art history\")))\n",
    "g.add((URIRef(d), dct.keyword, Literal(\"artworks\")))\n",
    "g.add((URIRef(d), owl.versionInfo, Literal(\"2.2\")))\n",
    "g.add((URIRef(d), dct.creator, URIRef(\"https://orcid.org/0000-0002-5636-8328\")))\n",
    "g.add((URIRef(\"https://orcid.org/0000-0002-5636-8328\"), RDF.type, URIRef(dcatapit.Agent)))\n",
    "g.add((URIRef(d), dct.distribution, URIRef(d+\"TurtleDistribution\")))\n",
    "g.add((URIRef(d+\"TurtleDistribution\"), RDF.type, dcatapit.Distribution))\n",
    "# g.add((URIRef(d+\"TurtleDistribution\"), dct.format, URIRef(\"http://publications.europa.eu/resource/authority/file-type/RDF_TURTLE\")))\n",
    "g.add((URIRef(d+\"TurtleDistribution\"), dct.license, URIRef(\"http://creativecommons.org/licenses/by-sa/4.0/\")))\n",
    "g.add((URIRef(d+\"TurtleDistribution\"), dcat.downloadURL, URIRef(\"https://raw.githubusercontent.com/SofiBar/IconologyDataset/main/data/icondataset.ttl\")))\n",
    "g.add((URIRef(d+\"TurtleDistribution\"), dcat.accessURL,  URIRef(\"https://projects.dharc.unibo.it/icondataset/sparql\")))\n",
    "\n",
    "g.add((URIRef(d), prov.wasDerivedFrom, URIRef(\"http://www.worldcat.org/oclc/265570808\")))\n",
    "g.add((URIRef(d), prov.wasDerivedFrom, URIRef(\"http://www.worldcat.org/oclc/217473356\")))\n",
    "g.add((URIRef(d), prov.wasDerivedFrom, URIRef(\"https://doi.org/10.2307/1522803\")))\n",
    "g.add((URIRef(d), prov.wasDerivedFrom, URIRef(\"http://www.worldcat.org/oclc/803192922\")))\n",
    "g.add((URIRef(d), dct.language, URIRef(\"http://publications.europa.eu/resource/authority/language/ENG\")))"
   ]
  },
  {
   "cell_type": "markdown",
   "metadata": {
    "id": "D2JR251N5BLE"
   },
   "source": [
    "# Enlarge the graph"
   ]
  },
  {
   "cell_type": "code",
   "execution_count": 18,
   "metadata": {
    "id": "GeoTydu4xs5x",
    "scrolled": true
   },
   "outputs": [],
   "source": [
    "#g = Graph()\n",
    "g.parse(\"data/icondataset-icon-2-0.ttl\", format=\"turtle\")\n",
    "g_final = Graph()\n",
    "\n",
    "for s, p, o in g:\n",
    "  g_final.add((s, p, o))"
   ]
  },
  {
   "cell_type": "code",
   "execution_count": 19,
   "metadata": {
    "colab": {
     "base_uri": "https://localhost:8080/"
    },
    "id": "8_X0XPHRlYPR",
    "outputId": "0e2354e0-5f93-46b4-8b2a-dcf5ec1c0ab8"
   },
   "outputs": [
    {
     "name": "stdout",
     "output_type": "stream",
     "text": [
      "1\n",
      "2\n",
      "3\n",
      "4\n",
      "5\n",
      "6\n",
      "7\n",
      "8\n",
      "9\n",
      "10\n",
      "11\n",
      "12\n",
      "13\n",
      "14\n",
      "15\n",
      "16\n",
      "17\n",
      "18\n",
      "19\n",
      "20\n",
      "21\n",
      "22\n",
      "23\n",
      "24\n",
      "25\n",
      "26\n",
      "27\n",
      "28\n",
      "29\n",
      "30\n",
      "31\n",
      "32\n",
      "33\n",
      "34\n",
      "35\n",
      "36\n",
      "37\n",
      "38\n",
      "39\n",
      "40\n",
      "41\n",
      "42\n",
      "43\n",
      "44\n",
      "45\n",
      "46\n",
      "47\n",
      "48\n",
      "49\n",
      "50\n",
      "51\n",
      "52\n",
      "53\n",
      "54\n",
      "55\n",
      "56\n",
      "57\n",
      "58\n",
      "59\n",
      "60\n",
      "61\n",
      "62\n",
      "63\n",
      "64\n",
      "65\n",
      "66\n",
      "67\n",
      "68\n",
      "69\n",
      "70\n",
      "71\n",
      "72\n",
      "73\n",
      "74\n",
      "75\n",
      "76\n",
      "77\n",
      "78\n",
      "79\n",
      "80\n",
      "81\n",
      "82\n",
      "83\n",
      "84\n",
      "85\n",
      "86\n",
      "87\n",
      "88\n",
      "89\n",
      "90\n",
      "91\n",
      "92\n",
      "93\n",
      "94\n",
      "95\n",
      "96\n",
      "97\n",
      "98\n",
      "99\n",
      "100\n"
     ]
    }
   ],
   "source": [
    "# decuplicate res:\n",
    "\n",
    "dec = 0\n",
    "while dec < 100:\n",
    "  temp_g = Graph()\n",
    "  for s, p, o in g:\n",
    "    new_s = str(s)+str(dec)\n",
    "    new_o = str(o)+str(dec)\n",
    "    if p != RDF.type:\n",
    "     # if p != RDFS.label:\n",
    "      if type(o) != Literal:\n",
    "        temp_g.add((URIRef(new_s), p, URIRef(new_o)))\n",
    "      else:\n",
    "        temp_g.add((URIRef(new_s), p, Literal(new_o)))\n",
    "    else:\n",
    "      temp_g.add((URIRef(new_s), p, URIRef(o)))\n",
    "  dec+=1\n",
    "  print(dec)\n",
    "  for s, p, o in temp_g:\n",
    "    g_final.add((s, p, o))\n"
   ]
  },
  {
   "cell_type": "markdown",
   "metadata": {
    "id": "h0UFnyeA3bAo"
   },
   "source": [
    "# Serialization"
   ]
  },
  {
   "cell_type": "code",
   "execution_count": 20,
   "metadata": {
    "colab": {
     "base_uri": "https://localhost:8080/"
    },
    "id": "XvvhZA_j78CG",
    "outputId": "cf085c5b-8d24-4fa5-a260-62ed957f9d8f"
   },
   "outputs": [
    {
     "data": {
      "text/plain": [
       "<Graph identifier=N6a113e8c156443bfa977e4ad60b73b75 (<class 'rdflib.graph.Graph'>)>"
      ]
     },
     "execution_count": 20,
     "metadata": {},
     "output_type": "execute_result"
    }
   ],
   "source": [
    "g_final.serialize(destination = \"data/icondataset_2_0_x100.ttl\", format=\"turtle\")\n",
    "#g.serialize(destination = \"icondataset.rdf\", format=\"xml\")\n",
    "# v = g.serialize(format=\"xml\")"
   ]
  },
  {
   "cell_type": "code",
   "execution_count": null,
   "metadata": {
    "id": "Ghw9wsqWyP4O"
   },
   "outputs": [],
   "source": []
  },
  {
   "cell_type": "markdown",
   "metadata": {
    "id": "NxyjZRZLyReH"
   },
   "source": [
    "## Efficiency test (with rdflib)"
   ]
  },
  {
   "cell_type": "code",
   "execution_count": 15,
   "metadata": {
    "id": "OZyKGGBYsej7"
   },
   "outputs": [],
   "source": [
    "icon_sparql = \"https://projects.dharc.unibo.it/icondataset/sparql\"\n",
    "import time\n",
    "def sparql_query_time(query, endpoint):# set the endpoint\n",
    "  sparql = SPARQLWrapper(endpoint)\n",
    "  # set the query\n",
    "  sparql.setQuery(query)\n",
    "  # set the returned format\n",
    "  sparql.setReturnFormat(JSON)\n",
    "  # get the result\n",
    "  start = time.time()\n",
    "  results = sparql.query().convert()\n",
    "  end = time.time()\n",
    "  t = end - start\n",
    "  return t"
   ]
  },
  {
   "cell_type": "code",
   "execution_count": 35,
   "metadata": {
    "colab": {
     "base_uri": "https://localhost:8080/"
    },
    "id": "FDbv1fgBs84v",
    "outputId": "7c9a39af-54f0-4d50-b7c5-048b4ab15134"
   },
   "outputs": [
    {
     "name": "stdout",
     "output_type": "stream",
     "text": [
      "12.581616640090942\n"
     ]
    }
   ],
   "source": [
    "# test\n",
    "qP = \"\"\"\n",
    " PREFIX d: <https://w3id.org/icon/data/>\n",
    "    PREFIX icon: <https://w3id.org/icon/ontology/>\n",
    "    PREFIX sim: <https://w3id.org/simulation/ontology/>\n",
    "    PREFIX dul: <http://www.ontologydesignpatterns.org/ont/dul/DUL.owl#>\n",
    "    PREFIX crm: <http://www.cidoc-crm.org/cidoc-crm/>\n",
    "\n",
    "    SELECT DISTINCT ?artwork ?subj1 ?type1 ?subj2 ?type2 ?subj3 ?type3  WHERE {\n",
    "    VALUES ?rel1 {icon:hasExpressionalMeaning icon:hasFactualMeaning crm:P138_depicts}\n",
    "    VALUES ?rel2 {icon:hasCharacter icon:hasEvent icon:hasNamedObject icon:hasPlace icon:hasPersonification icon:hasSymbol}\n",
    "\n",
    "    ?subj3 (^icon:recognizedCulturalPhenomenon | ^icon:recognizedConcept) / ^icon:recognizedIntrinsicMeaning ?iconol .\n",
    "    ?subj3 a ?type3.\n",
    "    ?iconol icon:aboutWorkOfArt ?artwork .\n",
    "    ?icrec icon:aboutWorkOfArt ?artwork;\n",
    "            a icon:IconographicalRecognition.\n",
    "    {?icrec icon:recognizedImage ?image. ?image ?rel2 ?subj2 }\n",
    "    UNION\n",
    "    {?icrec icon:recognizedInvenzione ?subj2}\n",
    "    ?subj2 a ?type2.\n",
    "    ?preicrec icon:aboutWorkOfArt ?artwork;\n",
    "        a icon:PreiconographicalRecognition;\n",
    "        icon:recognizedArtisticMotif | icon:recognizedComposition ?lev1.\n",
    "    {?lev1 icon:hasPart ?am. ?am ?rel1 ?subj1} UNION {?lev1 ?rel1 ?subj1}\n",
    "    # ?subj1 rdfs:label ?subj1Label;\n",
    "    ?subj1 a ?type1.\n",
    "    #  ?type1 rdfs:label ?type1Label.\n",
    "    # ?subj1 rdfs:label ?subj1Label.\n",
    "\n",
    "    } ORDER BY ?artwork\n",
    "        \"\"\"\n",
    "resultP = sparql_query_time(qP, icon_sparql)\n",
    "print(resultP)"
   ]
  },
  {
   "cell_type": "code",
   "execution_count": 19,
   "metadata": {
    "colab": {
     "base_uri": "https://localhost:8080/"
    },
    "id": "DzwYYkMTvGC1",
    "outputId": "955472b0-1b63-4fe2-913d-250534a7c99b"
   },
   "outputs": [
    {
     "data": {
      "text/plain": [
       "time.struct_time(tm_year=2024, tm_mon=3, tm_mday=12, tm_hour=22, tm_min=16, tm_sec=53, tm_wday=1, tm_yday=72, tm_isdst=0)"
      ]
     },
     "execution_count": 19,
     "metadata": {},
     "output_type": "execute_result"
    }
   ],
   "source": [
    "time.gmtime()"
   ]
  }
 ],
 "metadata": {
  "colab": {
   "collapsed_sections": [
    "y0eycx8aUSJP",
    "cNwtIt-jUqKG",
    "cKmeAeP0qhsJ",
    "_eLSEHEivs3j",
    "TCy_wfzHwBqX",
    "WI103Pzga8uo",
    "WQKNB4SSyh-Y",
    "dmR40ivUhihm"
   ],
   "provenance": []
  },
  "kernelspec": {
   "display_name": "Python 3 (ipykernel)",
   "language": "python",
   "name": "python3"
  },
  "language_info": {
   "codemirror_mode": {
    "name": "ipython",
    "version": 3
   },
   "file_extension": ".py",
   "mimetype": "text/x-python",
   "name": "python",
   "nbconvert_exporter": "python",
   "pygments_lexer": "ipython3",
   "version": "3.12.1"
  }
 },
 "nbformat": 4,
 "nbformat_minor": 4
}

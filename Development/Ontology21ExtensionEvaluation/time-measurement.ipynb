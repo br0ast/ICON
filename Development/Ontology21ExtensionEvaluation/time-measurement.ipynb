{
 "cells": [
  {
   "cell_type": "markdown",
   "id": "c1a3f4a2-347a-44cc-9ea7-e0d16b521415",
   "metadata": {},
   "source": [
    "# Time measurement"
   ]
  },
  {
   "cell_type": "code",
   "execution_count": 1,
   "id": "cd2d9bad-b08f-4d03-bdbe-7a263a6c653f",
   "metadata": {},
   "outputs": [],
   "source": [
    "from queries import *\n",
    "from rdflib import URIRef, BNode, Literal, Graph\n",
    "from rdflib.namespace import CSVW, DC, DCAT, DCTERMS, DOAP, FOAF, ODRL2, ORG, OWL, \\\n",
    "                           PROF, PROV, RDF, RDFS, SDO, SH, SKOS, SOSA, SSN, TIME, \\\n",
    "                           VOID, XMLNS, XSD\n",
    "from rdflib import Namespace, Literal, XSD\n",
    "import time\n",
    "from SPARQLWrapper import SPARQLWrapper, JSON\n",
    "import ssl"
   ]
  },
  {
   "cell_type": "code",
   "execution_count": 17,
   "id": "df908ae1-73d4-47d1-98f5-fb58f5cc9a2b",
   "metadata": {},
   "outputs": [],
   "source": [
    "local_sparql = \"http://127.0.0.1:9999/bigdata/sparql\""
   ]
  },
  {
   "cell_type": "code",
   "execution_count": 3,
   "id": "4ccaed74-a6e4-40c5-8953-c30b91803ca9",
   "metadata": {},
   "outputs": [],
   "source": [
    "def sparql_query_time(query):# set the endpoint\n",
    "    \"Function that returns the time of query execution in seconds\"\n",
    "    sparql = SPARQLWrapper(local_sparql)\n",
    "    # set the query\n",
    "    sparql.setQuery(query)\n",
    "    # set the returned format\n",
    "    sparql.setReturnFormat(JSON)\n",
    "    # get the result\n",
    "    start = time.time()\n",
    "    results = sparql.query().convert()\n",
    "    end = time.time()\n",
    "    t = end - start\n",
    "    # number of results\n",
    "    print(\"number of results: \", len(results['results']['bindings']))\n",
    "    return t"
   ]
  },
  {
   "cell_type": "code",
   "execution_count": 4,
   "id": "c68187f1-a7a5-401d-b917-a349bb92aa67",
   "metadata": {},
   "outputs": [],
   "source": [
    "def sparql_query_setting(query, endpoint):# set the endpoint \n",
    "  sparql = SPARQLWrapper(endpoint)\n",
    "  # set the query\n",
    "  sparql.setQuery(query)\n",
    "  # set the returned format\n",
    "  sparql.setReturnFormat(JSON)\n",
    "  # get the results\n",
    "  results = sparql.query().convert()\n",
    "  return results"
   ]
  },
  {
   "cell_type": "code",
   "execution_count": 5,
   "id": "341ffcb5-6239-4b81-92e8-bc333a4a74b2",
   "metadata": {},
   "outputs": [],
   "source": [
    "def avg_time(q):\n",
    "    \"makes the query 10 times and restitute the average time in seconds (float number) rounded to 3\"\n",
    "    n= 0 \n",
    "    q_times = []\n",
    "    while n < 10: \n",
    "        t = sparql_query_time(q)\n",
    "        q_times.append(t)\n",
    "        print(t)\n",
    "        n+=1\n",
    "    mn = min(q_times)\n",
    "    mx = max(q_times)\n",
    "    diff = mx - mn \n",
    "    print(\"the maximum time variation is: \", diff)\n",
    "    avg = sum(q_times) / len(q_times)\n",
    "    avg2 = round(avg, 3)\n",
    "    return avg2"
   ]
  },
  {
   "cell_type": "markdown",
   "id": "f0da052a-fd85-4d2c-9041-25b13a157380",
   "metadata": {},
   "source": [
    "### Results with the Icon dataset (ICON 2.1) x 100 times\n",
    "\n",
    "The test is conducted over the dataset multiplied 100 times on a local server (Blazegraph). 8 gigabytes of memory were allocated to the local server. To reduce the variation of time answer, determined by multiple factors (e.g., system optimization and caching), we repeated each query 10 times and computed the average time of answer."
   ]
  },
  {
   "cell_type": "code",
   "execution_count": 12,
   "id": "c1c83745-9752-442c-a90c-8f1102bcb052",
   "metadata": {},
   "outputs": [
    {
     "name": "stdout",
     "output_type": "stream",
     "text": [
      "number of results:  44317\n",
      "21.67806839942932\n",
      "number of results:  44317\n",
      "19.1393563747406\n",
      "number of results:  44317\n",
      "17.863255739212036\n",
      "number of results:  44317\n",
      "17.90449333190918\n",
      "number of results:  44317\n",
      "23.519780158996582\n",
      "number of results:  44317\n",
      "18.135751724243164\n",
      "number of results:  44317\n",
      "17.786726713180542\n",
      "number of results:  44317\n",
      "17.771416425704956\n",
      "number of results:  44317\n",
      "17.205940008163452\n",
      "number of results:  44317\n",
      "23.8924617767334\n",
      "the maximum time variation is:  6.686521768569946\n",
      "19.49\n"
     ]
    }
   ],
   "source": [
    "p20g_x100 = avg_time(person_interpretation_2_0)\n",
    "print(p20g_x100)"
   ]
  },
  {
   "cell_type": "code",
   "execution_count": 13,
   "id": "0c49f274-929a-4492-a64d-a980fd8728e0",
   "metadata": {},
   "outputs": [
    {
     "name": "stdout",
     "output_type": "stream",
     "text": [
      "number of results:  44317\n",
      "1.187208652496338\n",
      "number of results:  44317\n",
      "0.3633706569671631\n",
      "number of results:  44317\n",
      "0.25170469284057617\n",
      "number of results:  44317\n",
      "0.2630655765533447\n",
      "number of results:  44317\n",
      "0.20528316497802734\n",
      "number of results:  44317\n",
      "0.33074092864990234\n",
      "number of results:  44317\n",
      "0.29932284355163574\n",
      "number of results:  44317\n",
      "0.34652209281921387\n",
      "number of results:  44317\n",
      "0.7750167846679688\n",
      "number of results:  44317\n",
      "0.7745254039764404\n",
      "the maximum time variation is:  0.9819254875183105\n",
      "0.48\n"
     ]
    }
   ],
   "source": [
    "p21g_x100 = avg_time(person_interpretation_2_1)\n",
    "print(p21g_x100)"
   ]
  },
  {
   "cell_type": "code",
   "execution_count": 14,
   "id": "ea015342-b20d-4e19-9e11-d7182a5b1280",
   "metadata": {},
   "outputs": [
    {
     "name": "stdout",
     "output_type": "stream",
     "text": [
      "number of results:  3087\n",
      "0.7578842639923096\n",
      "number of results:  3087\n",
      "0.21857905387878418\n",
      "number of results:  3087\n",
      "0.19416141510009766\n",
      "number of results:  3087\n",
      "0.21828508377075195\n",
      "number of results:  3087\n",
      "0.20376348495483398\n",
      "number of results:  3087\n",
      "0.19785428047180176\n",
      "number of results:  3087\n",
      "0.24776029586791992\n",
      "number of results:  3087\n",
      "0.19271469116210938\n",
      "number of results:  3087\n",
      "0.2042226791381836\n",
      "number of results:  3087\n",
      "0.21403884887695312\n",
      "the maximum time variation is:  0.5651695728302002\n",
      "0.265\n"
     ]
    }
   ],
   "source": [
    "col21g_x100 = avg_time(color_2_1)\n",
    "print(col21g_x100)"
   ]
  },
  {
   "cell_type": "code",
   "execution_count": 9,
   "id": "455375fe-1b69-4980-a875-08b66f51bc4b",
   "metadata": {},
   "outputs": [
    {
     "name": "stdout",
     "output_type": "stream",
     "text": [
      "number of results:  549\n",
      "0.1816871166229248\n",
      "number of results:  549\n",
      "0.05756950378417969\n",
      "number of results:  549\n",
      "0.046472787857055664\n",
      "number of results:  549\n",
      "0.0533144474029541\n",
      "number of results:  549\n",
      "0.09839630126953125\n",
      "number of results:  549\n",
      "0.09573817253112793\n",
      "number of results:  549\n",
      "0.049405813217163086\n",
      "number of results:  549\n",
      "0.06916642189025879\n",
      "number of results:  549\n",
      "0.1156766414642334\n",
      "number of results:  549\n",
      "0.09864163398742676\n",
      "the maximum time variation is:  0.13521432876586914\n",
      "0.087\n"
     ]
    }
   ],
   "source": [
    "mat21g_x100 = avg_time(material_2_1)\n",
    "print(mat21g_x100)"
   ]
  },
  {
   "cell_type": "code",
   "execution_count": 15,
   "id": "9cab8d5f-3ea6-4e69-b569-717053e205c3",
   "metadata": {},
   "outputs": [
    {
     "name": "stdout",
     "output_type": "stream",
     "text": [
      "number of results:  9790\n",
      "0.6618356704711914\n",
      "number of results:  9790\n",
      "0.41500115394592285\n",
      "number of results:  9790\n",
      "0.513756275177002\n",
      "number of results:  9790\n",
      "0.530937671661377\n",
      "number of results:  9790\n",
      "0.43325328826904297\n",
      "number of results:  9790\n",
      "0.5201971530914307\n",
      "number of results:  9790\n",
      "0.5786092281341553\n",
      "number of results:  9790\n",
      "0.501558780670166\n",
      "number of results:  9790\n",
      "0.49413323402404785\n",
      "number of results:  9790\n",
      "0.49787092208862305\n",
      "the maximum time variation is:  0.24683451652526855\n",
      "0.515\n"
     ]
    }
   ],
   "source": [
    "quant21g_x100 = avg_time(quantity_2_1)\n",
    "print(quant21g_x100)"
   ]
  },
  {
   "cell_type": "code",
   "execution_count": 23,
   "id": "1ec1abc5-bbe0-4e56-a528-24a458d0c34d",
   "metadata": {},
   "outputs": [
    {
     "name": "stdout",
     "output_type": "stream",
     "text": [
      "number of results:  1133\n",
      "0.4850809574127197\n",
      "number of results:  1133\n",
      "0.4546983242034912\n",
      "number of results:  1133\n",
      "0.14074921607971191\n",
      "number of results:  1133\n",
      "0.17726683616638184\n",
      "number of results:  1133\n",
      "0.16945958137512207\n",
      "number of results:  1133\n",
      "0.2069861888885498\n",
      "number of results:  1133\n",
      "0.16097688674926758\n",
      "number of results:  1133\n",
      "0.11571049690246582\n",
      "number of results:  1133\n",
      "0.14948344230651855\n",
      "number of results:  1133\n",
      "0.13348770141601562\n",
      "the maximum time variation is:  0.3693704605102539\n",
      "0.219\n"
     ]
    }
   ],
   "source": [
    "role21g_x100 = avg_time(role_2_1)\n",
    "print(role21g_x100)"
   ]
  },
  {
   "cell_type": "markdown",
   "id": "a1c7a686-7625-4777-b927-d5c2ffd93b72",
   "metadata": {},
   "source": [
    "### Results with the Icon dataset (ICON 2.0) x 100 times"
   ]
  },
  {
   "cell_type": "code",
   "execution_count": 18,
   "id": "41944e47-0ceb-4ab6-b2ed-417be97e9c18",
   "metadata": {},
   "outputs": [
    {
     "name": "stdout",
     "output_type": "stream",
     "text": [
      "number of results:  3087\n",
      "16.5722496509552\n",
      "number of results:  3087\n",
      "5.0166237354278564\n",
      "number of results:  3087\n",
      "1.2523467540740967\n",
      "number of results:  3087\n",
      "1.1595385074615479\n",
      "number of results:  3087\n",
      "1.2901101112365723\n",
      "number of results:  3087\n",
      "1.9461748600006104\n",
      "number of results:  3087\n",
      "7.21870231628418\n",
      "number of results:  3087\n",
      "7.477941036224365\n",
      "number of results:  3087\n",
      "7.846013069152832\n",
      "number of results:  3087\n",
      "8.012808084487915\n",
      "the maximum time variation is:  15.412711143493652\n",
      "5.779\n"
     ]
    }
   ],
   "source": [
    "col20g_x100 = avg_time(color_2_0)\n",
    "print(col20g_x100)"
   ]
  },
  {
   "cell_type": "code",
   "execution_count": 19,
   "id": "e7e09a56-9843-4f13-ac9f-b33d38859bf7",
   "metadata": {},
   "outputs": [
    {
     "name": "stdout",
     "output_type": "stream",
     "text": [
      "number of results:  549\n",
      "7.570982933044434\n",
      "number of results:  549\n",
      "6.813771486282349\n",
      "number of results:  549\n",
      "6.975714206695557\n",
      "number of results:  549\n",
      "7.419989824295044\n",
      "number of results:  549\n",
      "7.529155731201172\n",
      "number of results:  549\n",
      "7.46694278717041\n",
      "number of results:  549\n",
      "7.469334363937378\n",
      "number of results:  549\n",
      "7.621078014373779\n",
      "number of results:  549\n",
      "7.61555552482605\n",
      "number of results:  549\n",
      "7.790699481964111\n",
      "the maximum time variation is:  0.9769279956817627\n",
      "7.427\n"
     ]
    }
   ],
   "source": [
    "mat20g_x100 = avg_time(material_2_0)\n",
    "print(mat20g_x100)"
   ]
  },
  {
   "cell_type": "code",
   "execution_count": 20,
   "id": "c5948b19-cf76-44d2-85f6-f1099e349185",
   "metadata": {},
   "outputs": [
    {
     "name": "stdout",
     "output_type": "stream",
     "text": [
      "number of results:  9790\n",
      "7.942925453186035\n",
      "number of results:  9790\n",
      "7.260224103927612\n",
      "number of results:  9790\n",
      "7.175269365310669\n",
      "number of results:  9790\n",
      "7.179646253585815\n",
      "number of results:  9790\n",
      "7.116050958633423\n",
      "number of results:  9790\n",
      "7.1797919273376465\n",
      "number of results:  9790\n",
      "7.120513200759888\n",
      "number of results:  9790\n",
      "7.1661436557769775\n",
      "number of results:  9790\n",
      "6.938008069992065\n",
      "number of results:  9790\n",
      "6.984546661376953\n",
      "the maximum time variation is:  1.0049173831939697\n",
      "7.206\n"
     ]
    }
   ],
   "source": [
    "quant20g_x100 = avg_time(quantity_2_0)\n",
    "print(quant20g_x100)"
   ]
  },
  {
   "cell_type": "markdown",
   "id": "527b8dc2-0f39-4915-b3c1-4c4de3bfab71",
   "metadata": {},
   "source": [
    "## Super properties evaluation (Icon Dataset, ICON 2.1 x 100)"
   ]
  },
  {
   "cell_type": "markdown",
   "id": "3eb7c436-5bef-4f31-baae-c51ff218f073",
   "metadata": {},
   "source": [
    "The evaluation of the benefits of information retrieval was conducted by importing the ontology in the augmented version of the Iconology dataset"
   ]
  },
  {
   "cell_type": "code",
   "execution_count": 8,
   "id": "870f7dad-2995-4e07-b4de-c5d6db054421",
   "metadata": {},
   "outputs": [
    {
     "name": "stdout",
     "output_type": "stream",
     "text": [
      "number of results:  283249\n",
      "27.43596625328064\n",
      "number of results:  283249\n",
      "20.648818969726562\n",
      "number of results:  283249\n",
      "22.94103217124939\n",
      "number of results:  283249\n",
      "20.39822554588318\n",
      "number of results:  283249\n",
      "20.6588032245636\n",
      "number of results:  283249\n",
      "20.062238693237305\n",
      "number of results:  283249\n",
      "22.939693450927734\n",
      "number of results:  283249\n",
      "21.315004587173462\n",
      "number of results:  283249\n",
      "20.38872504234314\n",
      "number of results:  283249\n",
      "20.18906259536743\n",
      "the maximum time variation is:  7.373727560043335\n",
      "21.698\n"
     ]
    }
   ],
   "source": [
    "lev1g_x100 = avg_time(lev_1)\n",
    "print(lev1g_x100)"
   ]
  },
  {
   "cell_type": "code",
   "execution_count": 9,
   "id": "03186c31-2a87-4e2b-bac2-841b3de922fe",
   "metadata": {},
   "outputs": [
    {
     "name": "stdout",
     "output_type": "stream",
     "text": [
      "number of results:  283249\n",
      "14.923674821853638\n",
      "number of results:  283249\n",
      "14.98058295249939\n",
      "number of results:  283249\n",
      "15.549049139022827\n",
      "number of results:  283249\n",
      "14.556781768798828\n",
      "number of results:  283249\n",
      "14.30823016166687\n",
      "number of results:  283249\n",
      "14.612742900848389\n",
      "number of results:  283249\n",
      "19.74864912033081\n",
      "number of results:  283249\n",
      "15.038000345230103\n",
      "number of results:  283249\n",
      "14.759052276611328\n",
      "number of results:  283249\n",
      "15.251121997833252\n",
      "the maximum time variation is:  5.44041895866394\n",
      "15.373\n"
     ]
    }
   ],
   "source": [
    "lev1_super_g_x100 = avg_time(lev_1_super)\n",
    "print(lev1_super_g_x100)"
   ]
  },
  {
   "cell_type": "code",
   "execution_count": 10,
   "id": "18217af4-ce42-4b7c-b900-2a4f2dab86c2",
   "metadata": {},
   "outputs": [
    {
     "name": "stdout",
     "output_type": "stream",
     "text": [
      "number of results:  100993\n",
      "13.796391248703003\n",
      "number of results:  100993\n",
      "14.573480367660522\n",
      "number of results:  100993\n",
      "12.43298053741455\n",
      "number of results:  100993\n",
      "12.49301791191101\n",
      "number of results:  100993\n",
      "12.48176622390747\n",
      "number of results:  100993\n",
      "13.271012544631958\n",
      "number of results:  100993\n",
      "12.31830096244812\n",
      "number of results:  100993\n",
      "12.411893606185913\n",
      "number of results:  100993\n",
      "12.410187244415283\n",
      "number of results:  100993\n",
      "12.340458393096924\n",
      "the maximum time variation is:  2.2551794052124023\n",
      "12.853\n"
     ]
    }
   ],
   "source": [
    "lev2g_x100 = avg_time(lev_2)\n",
    "print(lev2g_x100)"
   ]
  },
  {
   "cell_type": "code",
   "execution_count": 11,
   "id": "13239bc9-8e29-4908-b533-e688ef2af05f",
   "metadata": {},
   "outputs": [
    {
     "name": "stdout",
     "output_type": "stream",
     "text": [
      "number of results:  100993\n",
      "6.05664587020874\n",
      "number of results:  100993\n",
      "6.6332106590271\n",
      "number of results:  100993\n",
      "5.918444871902466\n",
      "number of results:  100993\n",
      "5.991471767425537\n",
      "number of results:  100993\n",
      "5.945488929748535\n",
      "number of results:  100993\n",
      "6.020473480224609\n",
      "number of results:  100993\n",
      "5.814812421798706\n",
      "number of results:  100993\n",
      "5.899298191070557\n",
      "number of results:  100993\n",
      "5.794074535369873\n",
      "number of results:  100993\n",
      "6.08493447303772\n",
      "the maximum time variation is:  0.8391361236572266\n",
      "6.016\n"
     ]
    }
   ],
   "source": [
    "lev2_super_g_x100 = avg_time(lev_2_super)\n",
    "print(lev2_super_g_x100)"
   ]
  },
  {
   "cell_type": "code",
   "execution_count": 6,
   "id": "a04f29e1-b77f-47ee-abd6-091840a31eea",
   "metadata": {},
   "outputs": [
    {
     "name": "stdout",
     "output_type": "stream",
     "text": [
      "number of results:  93007\n",
      "16.911346673965454\n",
      "number of results:  93007\n",
      "6.907042503356934\n",
      "number of results:  93007\n",
      "8.564359664916992\n",
      "number of results:  93007\n",
      "5.861864328384399\n",
      "number of results:  93007\n",
      "5.286163568496704\n",
      "number of results:  93007\n",
      "5.448986291885376\n",
      "number of results:  93007\n",
      "5.058072566986084\n",
      "number of results:  93007\n",
      "5.241426944732666\n",
      "number of results:  93007\n",
      "5.953034400939941\n",
      "number of results:  93007\n",
      "6.363853216171265\n",
      "the maximum time variation is:  11.85327410697937\n",
      "7.16\n"
     ]
    }
   ],
   "source": [
    "lev3g_x100 = avg_time(lev_3)\n",
    "print(lev3g_x100)"
   ]
  },
  {
   "cell_type": "code",
   "execution_count": 7,
   "id": "97e23614-45cc-47c2-98f6-f677988cca97",
   "metadata": {},
   "outputs": [
    {
     "name": "stdout",
     "output_type": "stream",
     "text": [
      "number of results:  93007\n",
      "5.149579048156738\n",
      "number of results:  93007\n",
      "5.117779970169067\n",
      "number of results:  93007\n",
      "5.065600395202637\n",
      "number of results:  93007\n",
      "5.660477638244629\n",
      "number of results:  93007\n",
      "5.237042665481567\n",
      "number of results:  93007\n",
      "5.110870599746704\n",
      "number of results:  93007\n",
      "5.035066843032837\n",
      "number of results:  93007\n",
      "5.082710266113281\n",
      "number of results:  93007\n",
      "5.165229797363281\n",
      "number of results:  93007\n",
      "4.996005296707153\n",
      "the maximum time variation is:  0.6644723415374756\n",
      "5.162\n"
     ]
    }
   ],
   "source": [
    "lev3_super_g_x100 = avg_time(lev_3_super)\n",
    "print(lev3_super_g_x100)"
   ]
  },
  {
   "cell_type": "code",
   "execution_count": null,
   "id": "46eac947-2a61-4d6a-91df-3b668765baf3",
   "metadata": {},
   "outputs": [],
   "source": []
  }
 ],
 "metadata": {
  "kernelspec": {
   "display_name": "Python 3 (ipykernel)",
   "language": "python",
   "name": "python3"
  },
  "language_info": {
   "codemirror_mode": {
    "name": "ipython",
    "version": 3
   },
   "file_extension": ".py",
   "mimetype": "text/x-python",
   "name": "python",
   "nbconvert_exporter": "python",
   "pygments_lexer": "ipython3",
   "version": "3.12.1"
  }
 },
 "nbformat": 4,
 "nbformat_minor": 5
}

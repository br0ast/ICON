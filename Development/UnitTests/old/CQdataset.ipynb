{
 "cells": [
  {
   "cell_type": "code",
   "execution_count": 1,
   "id": "fa679262",
   "metadata": {},
   "outputs": [],
   "source": [
    "import rdflib\n",
    "from rdflib.namespace import CSVW, DC, DCAT, DCTERMS, DOAP, FOAF, ODRL2, ORG, OWL, \\\n",
    "                           PROF, PROV, RDF, RDFS, SDO, SH, SKOS, SOSA, SSN, TIME, \\\n",
    "                           VOID, XMLNS, XSD\n",
    "from rdflib import Namespace\n",
    "from rdflib import URIRef"
   ]
  },
  {
   "cell_type": "code",
   "execution_count": 2,
   "id": "48a884fe",
   "metadata": {
    "scrolled": true
   },
   "outputs": [
    {
     "data": {
      "text/plain": [
       "<Graph identifier=N2393c43ded954d0fbb7d993989ac0868 (<class 'rdflib.graph.Graph'>)>"
      ]
     },
     "execution_count": 2,
     "metadata": {},
     "output_type": "execute_result"
    }
   ],
   "source": [
    "newg = rdflib.Graph() # we create a new graph\n",
    "newg.parse(\"dataset.ttl\", format=\"ttl\")"
   ]
  },
  {
   "cell_type": "markdown",
   "id": "aa2f23d2",
   "metadata": {},
   "source": [
    "# Competency questions level 0"
   ]
  },
  {
   "cell_type": "markdown",
   "id": "21796022",
   "metadata": {},
   "source": [
    "## CQ 0.1\n",
    "What are the sources supporting each subject recognition at each level?"
   ]
  },
  {
   "cell_type": "markdown",
   "id": "881ac192",
   "metadata": {},
   "source": [
    "### CQ 0.1.1\n",
    "What are the sources supporting what recognition about ART1195? In which level are they recognized?</br>\n",
    "\n",
    "**Expected results** : \n",
    "\n",
    "| **rec**    | **type**    | **source**       |\n",
    "|------------|-------------|------------------|\n",
    "| ART1195-ICREC1-1\t|   IconographicalRecognition\t| 1163bibl-content | \n",
    "| ART1195-ICREC1-2\t|   IconographicalRecognition\t| 1163bibl-content | \n",
    "| ART1195-ICREC1-3\t|   IconographicalRecognition  |  1163bibl-content | \n",
    "| ART1195-ICREC1-4\t|   IconographicalRecognition\t| 1163bibl-content | \n",
    "| ART1195-ICREC1-4\t|   IconographicalRecognition |   1163bibl-content-illic-nutritus-ab-nimphis | \n",
    "| ART1195-ICREC1-5\t|   IconographicalRecognition\t| 1163bibl-content | \n",
    "| ART1195-ICREC1-5\t|   IconographicalRecognition| \t1163bibl-content-illic-nutritus-ab-nimphis | \n",
    "| ART1195-ICONOLREC1-1 | IconologicalRecognition\t| 1163bibl-content | \n",
    "| ART1195-ICONOLREC1-1 | IconologicalRecognition\t| 1163bibl-content-illic-nutritus-ab-nimphis | \n",
    "| ART1195-ICONOLREC1-4 | IconologicalRecognition\t| 1164bibl-content | \n",
    "| ART1195-ICONOLREC1-4 | IconologicalRecognition  |   ART1196 | \n",
    "| ART1195-ICONOLREC1-4 | IconologicalRecognition| \tART1249 | \n",
    "| ART1195-ICONOLREC1-4|  IconologicalRecognition| \tART1250 |  \n",
    "| ART1195-ICONOLREC1-4 | IconologicalRecognition  |   ART1251 | \n",
    "| ART1195-ICONOLREC1-4|  IconologicalRecognition\t| 1164bibl-content-vol-iv | \n"
   ]
  },
  {
   "cell_type": "code",
   "execution_count": 29,
   "id": "432b0a64",
   "metadata": {},
   "outputs": [
    {
     "name": "stdout",
     "output_type": "stream",
     "text": [
      "(rdflib.term.URIRef('http://icondataset.org/ART1195-ICONOLREC1-1'), rdflib.term.URIRef('https://w3id.org/icon/ontology/IconologicalRecognition'), rdflib.term.URIRef('http://icondataset.org/1163bibl-content'))\n",
      "(rdflib.term.URIRef('http://icondataset.org/ART1195-ICONOLREC1-1'), rdflib.term.URIRef('https://w3id.org/icon/ontology/IconologicalRecognition'), rdflib.term.URIRef('http://icondataset.org/1163bibl-content-illic-nutritus-ab-nimphis'))\n",
      "(rdflib.term.URIRef('http://icondataset.org/ART1195-ICONOLREC1-4'), rdflib.term.URIRef('https://w3id.org/icon/ontology/IconologicalRecognition'), rdflib.term.URIRef('http://icondataset.org/1164bibl-content'))\n",
      "(rdflib.term.URIRef('http://icondataset.org/ART1195-ICONOLREC1-4'), rdflib.term.URIRef('https://w3id.org/icon/ontology/IconologicalRecognition'), rdflib.term.URIRef('http://icondataset.org/1164bibl-content-vol-iv'))\n",
      "(rdflib.term.URIRef('http://icondataset.org/ART1195-ICONOLREC1-4'), rdflib.term.URIRef('https://w3id.org/icon/ontology/IconologicalRecognition'), rdflib.term.URIRef('http://icondataset.org/ART1196'))\n",
      "(rdflib.term.URIRef('http://icondataset.org/ART1195-ICONOLREC1-4'), rdflib.term.URIRef('https://w3id.org/icon/ontology/IconologicalRecognition'), rdflib.term.URIRef('http://icondataset.org/ART1249'))\n",
      "(rdflib.term.URIRef('http://icondataset.org/ART1195-ICONOLREC1-4'), rdflib.term.URIRef('https://w3id.org/icon/ontology/IconologicalRecognition'), rdflib.term.URIRef('http://icondataset.org/ART1250'))\n",
      "(rdflib.term.URIRef('http://icondataset.org/ART1195-ICONOLREC1-4'), rdflib.term.URIRef('https://w3id.org/icon/ontology/IconologicalRecognition'), rdflib.term.URIRef('http://icondataset.org/ART1251'))\n",
      "(rdflib.term.URIRef('http://icondataset.org/ART1195-ICREC1-1'), rdflib.term.URIRef('https://w3id.org/icon/ontology/IconographicalRecognition'), rdflib.term.URIRef('http://icondataset.org/1163bibl-content'))\n",
      "(rdflib.term.URIRef('http://icondataset.org/ART1195-ICREC1-2'), rdflib.term.URIRef('https://w3id.org/icon/ontology/IconographicalRecognition'), rdflib.term.URIRef('http://icondataset.org/1163bibl-content'))\n",
      "(rdflib.term.URIRef('http://icondataset.org/ART1195-ICREC1-3'), rdflib.term.URIRef('https://w3id.org/icon/ontology/IconographicalRecognition'), rdflib.term.URIRef('http://icondataset.org/1163bibl-content'))\n",
      "(rdflib.term.URIRef('http://icondataset.org/ART1195-ICREC1-4'), rdflib.term.URIRef('https://w3id.org/icon/ontology/IconographicalRecognition'), rdflib.term.URIRef('http://icondataset.org/1163bibl-content'))\n",
      "(rdflib.term.URIRef('http://icondataset.org/ART1195-ICREC1-4'), rdflib.term.URIRef('https://w3id.org/icon/ontology/IconographicalRecognition'), rdflib.term.URIRef('http://icondataset.org/1163bibl-content-illic-nutritus-ab-nimphis'))\n",
      "(rdflib.term.URIRef('http://icondataset.org/ART1195-ICREC1-5'), rdflib.term.URIRef('https://w3id.org/icon/ontology/IconographicalRecognition'), rdflib.term.URIRef('http://icondataset.org/1163bibl-content'))\n",
      "(rdflib.term.URIRef('http://icondataset.org/ART1195-ICREC1-5'), rdflib.term.URIRef('https://w3id.org/icon/ontology/IconographicalRecognition'), rdflib.term.URIRef('http://icondataset.org/1163bibl-content-illic-nutritus-ab-nimphis'))\n"
     ]
    }
   ],
   "source": [
    "\n",
    "cq = '''\n",
    "PREFIX d: <http://icondataset.org/> \n",
    "PREFIX icon: <https://w3id.org/icon/ontology/> \n",
    "PREFIX cito: <http://purl.org/spar/cito/>\n",
    "\n",
    "\n",
    "SELECT DISTINCT ?rec ?type ?source WHERE {\n",
    "?rec icon:aboutWorkOfArt d:ART1195; \n",
    "     cito:citesAsEvidence ?source; \n",
    "     a ?type.\n",
    "\n",
    "}\n",
    "'''\n",
    "\n",
    "cqres = newg.query(cq)\n",
    "\n",
    "for row in cqres:\n",
    "    print(row)"
   ]
  },
  {
   "cell_type": "markdown",
   "id": "e618598e",
   "metadata": {},
   "source": [
    "## CQ 0.2 \n",
    "What is the person responsible for every recognition at each level?"
   ]
  },
  {
   "cell_type": "markdown",
   "id": "30517b98",
   "metadata": {},
   "source": [
    "## CQ 0.2.1 \n",
    "What is the person responsible for the recognitions at each level in ART1195? Do they belong to different descriptions? \n",
    "\n",
    "**Expected results** : \n",
    "\n",
    "| **desc**    | **type**    | **person**       |\n",
    "|------------|-------------|------------------|\n",
    "| ART1195-PREICDESC1|   PreiconographicalRecognition| erwin-panofsky | \n",
    "| ART1195-ICDESC1\t|   IconographicalRecognition\t| erwin-panofsky  | \n",
    "| ART1195-ICDESC2\t|   IconographicalRecognition  |  a-e-austin | \n",
    "| ART1195-ICDESC2\t|   IconographicalRecognition\t| l-venturi | \n",
    "| ART1195-ICDESC2\t|   IconographicalRecognition |   r-van-marle | \n",
    "| ART1195-ICREC1-5\t|   IconologicalRecognition\t| erwin-panofsky  | \n",
    "\n",
    "\n"
   ]
  },
  {
   "cell_type": "code",
   "execution_count": 30,
   "id": "189c69f6",
   "metadata": {
    "scrolled": true
   },
   "outputs": [
    {
     "name": "stdout",
     "output_type": "stream",
     "text": [
      "(rdflib.term.URIRef('http://icondataset.org/ART1195-ICDESC1'), rdflib.term.URIRef('https://w3id.org/icon/ontology/IconographicalRecognition'), rdflib.term.URIRef('http://icondataset.org/name-erwin-panofsky'))\n",
      "(rdflib.term.URIRef('http://icondataset.org/ART1195-ICDESC2'), rdflib.term.URIRef('https://w3id.org/icon/ontology/IconographicalRecognition'), rdflib.term.URIRef('http://icondataset.org/name-a-e-austin'))\n",
      "(rdflib.term.URIRef('http://icondataset.org/ART1195-ICDESC2'), rdflib.term.URIRef('https://w3id.org/icon/ontology/IconographicalRecognition'), rdflib.term.URIRef('http://icondataset.org/name-l-venturi'))\n",
      "(rdflib.term.URIRef('http://icondataset.org/ART1195-ICDESC2'), rdflib.term.URIRef('https://w3id.org/icon/ontology/IconographicalRecognition'), rdflib.term.URIRef('http://icondataset.org/name-r-van-marle'))\n",
      "(rdflib.term.URIRef('http://icondataset.org/ART1195-ICONOLDESC1'), rdflib.term.URIRef('https://w3id.org/icon/ontology/IconologicalRecognition'), rdflib.term.URIRef('http://icondataset.org/name-erwin-panofsky'))\n",
      "(rdflib.term.URIRef('http://icondataset.org/ART1195-PREICDESC1'), rdflib.term.URIRef('https://w3id.org/icon/ontology/PreiconographicalRecognition'), rdflib.term.URIRef('http://icondataset.org/name-erwin-panofsky'))\n"
     ]
    }
   ],
   "source": [
    "cq = '''\n",
    "PREFIX d: <http://icondataset.org/> \n",
    "PREFIX icon: <https://w3id.org/icon/ontology/> \n",
    "PREFIX cito: <http://purl.org/spar/cito/>\n",
    "\n",
    "\n",
    "SELECT DISTINCT ?desc ?type ?person WHERE {\n",
    "?rec icon:aboutWorkOfArt d:ART1195; \n",
    "    icon:isListedIn ?desc;\n",
    "     crm:P14_carried_out_by ?person; \n",
    "     a ?type.\n",
    "\n",
    "} ORDER BY ?desc\n",
    "'''\n",
    "\n",
    "cqres = newg.query(cq)\n",
    "\n",
    "for row in cqres:\n",
    "    print(row)"
   ]
  },
  {
   "cell_type": "markdown",
   "id": "3cda9915",
   "metadata": {},
   "source": [
    "## CQ 0.3 \n",
    "What are the artworks that are only interpreted on a pre-iconographical level?"
   ]
  },
  {
   "cell_type": "markdown",
   "id": "4d1048c8",
   "metadata": {},
   "source": [
    "### CQ 0.3.1 \n",
    "What are the artworks that are only interpreted on a pre-iconographical level depicting a woman?\n",
    "\n",
    "**Expected results**: ART1005type, ART1345, ART1541, ART1285"
   ]
  },
  {
   "cell_type": "code",
   "execution_count": 31,
   "id": "950249d3",
   "metadata": {},
   "outputs": [
    {
     "name": "stdout",
     "output_type": "stream",
     "text": [
      "(rdflib.term.URIRef('http://icondataset.org/ART1005type'),)\n",
      "(rdflib.term.URIRef('http://icondataset.org/ART1345'),)\n",
      "(rdflib.term.URIRef('http://icondataset.org/ART1541'),)\n",
      "(rdflib.term.URIRef('http://icondataset.org/ART1285'),)\n"
     ]
    }
   ],
   "source": [
    "cq = '''\n",
    "PREFIX d: <http://icondataset.org/> \n",
    "PREFIX icon: <https://w3id.org/icon/ontology/> \n",
    "PREFIX cito: <http://purl.org/spar/cito/>\n",
    "\n",
    "\n",
    "SELECT DISTINCT ?art WHERE {\n",
    "?rec icon:aboutWorkOfArt ?art; \n",
    "    icon:recognizedArtisticMotif ?am. \n",
    "?am icon:hasFactualMeaning d:woman. \n",
    "     \n",
    "MINUS {?rec2 icon:aboutWorkOfArt ?art;  \n",
    "     a icon:IconographicalRecognition.\n",
    "}\n",
    "\n",
    "MINUS {\n",
    "?rec3 icon:aboutWorkOfArt ?art;  \n",
    "     a icon:IconologicalRecognition.\n",
    "}\n",
    "\n",
    "} \n",
    "'''\n",
    "\n",
    "cqres = newg.query(cq)\n",
    "\n",
    "for row in cqres:\n",
    "    print(row)"
   ]
  },
  {
   "cell_type": "markdown",
   "id": "29b3bd15",
   "metadata": {},
   "source": [
    "## CQ 0.4 \n",
    "What artworks are interpreted on an pre-iconographical and iconological level but not on an iconographic one?\n",
    "**Expected results**: ART1346. "
   ]
  },
  {
   "cell_type": "code",
   "execution_count": 32,
   "id": "34294d99",
   "metadata": {},
   "outputs": [
    {
     "name": "stdout",
     "output_type": "stream",
     "text": [
      "(rdflib.term.URIRef('http://icondataset.org/ART1346'),)\n"
     ]
    }
   ],
   "source": [
    "\n",
    "cq = '''\n",
    "PREFIX d: <http://icondataset.org/> \n",
    "PREFIX icon: <https://w3id.org/icon/ontology/>  \n",
    "\n",
    "\n",
    "SELECT DISTINCT ?art WHERE {\n",
    "?rec icon:aboutWorkOfArt ?art; \n",
    "     a icon:IconologicalRecognition. \n",
    "?rec1 icon:aboutWorkOfArt ?art; \n",
    "   a icon:PreiconographicalRecognition.\n",
    "MINUS {?rec2 icon:aboutWorkOfArt ?art; \n",
    "     a icon:IconographicalRecognition. \n",
    "}\n",
    "\n",
    "}\n",
    "'''\n",
    "\n",
    "cqres = newg.query(cq)\n",
    "\n",
    "for row in cqres:\n",
    "    print(row)"
   ]
  },
  {
   "cell_type": "markdown",
   "id": "fcbc5df2",
   "metadata": {},
   "source": [
    "## CQ 0.5 \n",
    "What are the recognitions supporting another one? Of which type are they?"
   ]
  },
  {
   "cell_type": "markdown",
   "id": "b202ebc9",
   "metadata": {},
   "source": [
    "### CQ 0.5.1\n",
    "What are the recognitions supporting another one for what concerns ART1334? Of which type are they? <br>\n",
    "**Expected results**: \n",
    "\n",
    "| **rec**    | **type**    | **recSupported**       | **typeSupported**       |\n",
    "|------------|-------------|------------------|-------------|\n",
    "| ART1005typeART1334-MOTIFREC1|   FormalMotifRecognition| | ART1334-ICONOLREC2| IconologicalRecognition|\n",
    "\n"
   ]
  },
  {
   "cell_type": "code",
   "execution_count": 33,
   "id": "2180dafc",
   "metadata": {},
   "outputs": [
    {
     "name": "stdout",
     "output_type": "stream",
     "text": [
      "(rdflib.term.URIRef('http://icondataset.org/ART1005typeART1334-MOTIFREC1'), rdflib.term.URIRef('https://w3id.org/icon/ontology/FormalMotifRecognition'), rdflib.term.URIRef('http://icondataset.org/ART1334-ICONOLREC2'), rdflib.term.URIRef('https://w3id.org/icon/ontology/IconologicalRecognition'))\n"
     ]
    }
   ],
   "source": [
    "cq = '''\n",
    "PREFIX d: <http://icondataset.org/> \n",
    "PREFIX icon: <https://w3id.org/icon/ontology/>  \n",
    "PREFIX cito: <http://purl.org/spar/cito/>\n",
    "\n",
    "\n",
    "SELECT DISTINCT ?rec ?type ?recSupported ?typeSupported WHERE {\n",
    "?rec a ?type; \n",
    "    cito:givesSupportTo ?recSupported; \n",
    "    icon:aboutWorkOfArt d:ART1334. \n",
    "?recSupported a ?typeSupported. \n",
    "\n",
    "\n",
    "}\n",
    "'''\n",
    "\n",
    "cqres = newg.query(cq)\n",
    "\n",
    "for row in cqres:\n",
    "    print(row)"
   ]
  },
  {
   "cell_type": "markdown",
   "id": "3d76a0ee",
   "metadata": {},
   "source": [
    "## CQ 0.6 \n",
    "What artworks or parts of it have a style associated?"
   ]
  },
  {
   "cell_type": "markdown",
   "id": "c969d1b8",
   "metadata": {},
   "source": [
    "### CQ 0.6.1 \n",
    "To what objects is associated the style <http://vocab.getty.edu/aat/300020251> \"Egyptian\"? Of which type are they? <br>\n",
    "**Expected results**: \n",
    "\n",
    "| **item**    | **type**    | \n",
    "|------------|-------------|\n",
    "| ART1280-AM5|   ArtisticMotif|"
   ]
  },
  {
   "cell_type": "code",
   "execution_count": 34,
   "id": "8012f5bc",
   "metadata": {},
   "outputs": [
    {
     "name": "stdout",
     "output_type": "stream",
     "text": [
      "(rdflib.term.URIRef('http://icondataset.org/ART1280-AM5'), rdflib.term.URIRef('https://w3id.org/icon/ontology/ArtisticMotif'))\n"
     ]
    }
   ],
   "source": [
    "cq = '''\n",
    "PREFIX d: <http://icondataset.org/> \n",
    "PREFIX icon: <https://w3id.org/icon/ontology/>  \n",
    "PREFIX cito: <http://purl.org/spar/cito/>\n",
    "PREFIX crm: <http://www.cidoc-crm.org/cidoc-crm/> \n",
    "\n",
    "\n",
    "\n",
    "SELECT DISTINCT ?item ?type WHERE {\n",
    "?item crm:P2_has_type <http://vocab.getty.edu/aat/300020251>; \n",
    "    a ?type. \n",
    "\n",
    "\n",
    "}\n",
    "'''\n",
    "\n",
    "cqres = newg.query(cq)\n",
    "\n",
    "for row in cqres:\n",
    "    print(row)"
   ]
  },
  {
   "cell_type": "markdown",
   "id": "695907b3",
   "metadata": {},
   "source": [
    "### CQ 0.6.2 \n",
    "What artworks have \"Classical\" as a common style and a common cultural phenomenon? <br>\n",
    "**Expected results**: ART1256, ART1257"
   ]
  },
  {
   "cell_type": "code",
   "execution_count": 45,
   "id": "9308336d",
   "metadata": {
    "scrolled": true
   },
   "outputs": [
    {
     "name": "stdout",
     "output_type": "stream",
     "text": [
      "(rdflib.term.URIRef('http://icondataset.org/ART1257'), rdflib.term.URIRef('http://icondataset.org/ART1256'))\n",
      "(rdflib.term.URIRef('http://icondataset.org/ART1256'), rdflib.term.URIRef('http://icondataset.org/ART1257'))\n"
     ]
    }
   ],
   "source": [
    "cq = '''\n",
    "PREFIX d: <http://icondataset.org/> \n",
    "PREFIX icon: <https://w3id.org/icon/ontology/>  \n",
    "PREFIX cito: <http://purl.org/spar/cito/>\n",
    "PREFIX crm: <http://www.cidoc-crm.org/cidoc-crm/> \n",
    "\n",
    "\n",
    "SELECT DISTINCT ?artwork ?artwork2 WHERE {\n",
    "?artwork a icon:Artwork; \n",
    "    crm:P2_has_type d:style-classical.\n",
    "?rec icon:aboutWorkOfArt ?artwork; \n",
    "    icon:recognizedIntrinsicMeaning ?meaning. \n",
    "?meaning icon:recognizedCulturalPhenomenon ?phenomenon. \n",
    "\n",
    "?artwork2 a icon:Artwork; \n",
    "    crm:P2_has_type d:style-classical.\n",
    "?rec2 icon:aboutWorkOfArt ?artwork2; \n",
    "    icon:recognizedIntrinsicMeaning ?meaning2. \n",
    "?meaning2 icon:recognizedCulturalPhenomenon ?phenomenon. \n",
    " \n",
    "FILTER (?artwork != ?artwork2)\n",
    "}\n",
    "'''\n",
    "\n",
    "cqres = newg.query(cq)\n",
    "\n",
    "for row in cqres:\n",
    "    print(row)"
   ]
  },
  {
   "cell_type": "markdown",
   "id": "c62047f4",
   "metadata": {},
   "source": [
    "### 0.6.3 \n",
    "What artworks have a different style but the common character \"Cupid\" and a common cultural phenomenon? \n",
    "\n",
    "**Expected results**: \n",
    "\n",
    "| **artwork**    | **artwork2**    | \n",
    "|------------|-------------|\n",
    "| ART1200|  ART1319 |\n",
    "| ART1318|  ART1319 |\n",
    "\n",
    "This query had correct results on a Blazegraph mounted database, we suggest to use it for testing instead of rdflib. "
   ]
  },
  {
   "cell_type": "code",
   "execution_count": 46,
   "id": "db5eb011",
   "metadata": {},
   "outputs": [
    {
     "ename": "KeyboardInterrupt",
     "evalue": "",
     "output_type": "error",
     "traceback": [
      "\u001b[1;31m---------------------------------------------------------------------------\u001b[0m",
      "\u001b[1;31mKeyboardInterrupt\u001b[0m                         Traceback (most recent call last)",
      "\u001b[1;32mC:\\Users\\SOFIAB~1\\AppData\\Local\\Temp/ipykernel_1776/1994922339.py\u001b[0m in \u001b[0;36m<module>\u001b[1;34m\u001b[0m\n\u001b[0;32m     37\u001b[0m \u001b[0mcqres\u001b[0m \u001b[1;33m=\u001b[0m \u001b[0mnewg\u001b[0m\u001b[1;33m.\u001b[0m\u001b[0mquery\u001b[0m\u001b[1;33m(\u001b[0m\u001b[0mcq\u001b[0m\u001b[1;33m)\u001b[0m\u001b[1;33m\u001b[0m\u001b[1;33m\u001b[0m\u001b[0m\n\u001b[0;32m     38\u001b[0m \u001b[1;33m\u001b[0m\u001b[0m\n\u001b[1;32m---> 39\u001b[1;33m \u001b[1;32mfor\u001b[0m \u001b[0mrow\u001b[0m \u001b[1;32min\u001b[0m \u001b[0mcqres\u001b[0m\u001b[1;33m:\u001b[0m\u001b[1;33m\u001b[0m\u001b[1;33m\u001b[0m\u001b[0m\n\u001b[0m\u001b[0;32m     40\u001b[0m     \u001b[0mprint\u001b[0m\u001b[1;33m(\u001b[0m\u001b[0mrow\u001b[0m\u001b[1;33m)\u001b[0m\u001b[1;33m\u001b[0m\u001b[1;33m\u001b[0m\u001b[0m\n",
      "\u001b[1;32m~\\AppData\\Roaming\\Python\\Python39\\site-packages\\rdflib\\query.py\u001b[0m in \u001b[0;36m__iter__\u001b[1;34m(self)\u001b[0m\n\u001b[0;32m    290\u001b[0m \u001b[1;33m\u001b[0m\u001b[0m\n\u001b[0;32m    291\u001b[0m             \u001b[1;32mif\u001b[0m \u001b[0mself\u001b[0m\u001b[1;33m.\u001b[0m\u001b[0m_genbindings\u001b[0m\u001b[1;33m:\u001b[0m\u001b[1;33m\u001b[0m\u001b[1;33m\u001b[0m\u001b[0m\n\u001b[1;32m--> 292\u001b[1;33m                 \u001b[1;32mfor\u001b[0m \u001b[0mb\u001b[0m \u001b[1;32min\u001b[0m \u001b[0mself\u001b[0m\u001b[1;33m.\u001b[0m\u001b[0m_genbindings\u001b[0m\u001b[1;33m:\u001b[0m\u001b[1;33m\u001b[0m\u001b[1;33m\u001b[0m\u001b[0m\n\u001b[0m\u001b[0;32m    293\u001b[0m                     \u001b[1;32mif\u001b[0m \u001b[0mb\u001b[0m\u001b[1;33m:\u001b[0m  \u001b[1;31m# don't add a result row in case of empty binding {}\u001b[0m\u001b[1;33m\u001b[0m\u001b[1;33m\u001b[0m\u001b[0m\n\u001b[0;32m    294\u001b[0m                         \u001b[0mself\u001b[0m\u001b[1;33m.\u001b[0m\u001b[0m_bindings\u001b[0m\u001b[1;33m.\u001b[0m\u001b[0mappend\u001b[0m\u001b[1;33m(\u001b[0m\u001b[0mb\u001b[0m\u001b[1;33m)\u001b[0m\u001b[1;33m\u001b[0m\u001b[1;33m\u001b[0m\u001b[0m\n",
      "\u001b[1;32m~\\AppData\\Roaming\\Python\\Python39\\site-packages\\rdflib\\plugins\\sparql\\evaluate.py\u001b[0m in \u001b[0;36mevalDistinct\u001b[1;34m(ctx, part)\u001b[0m\n\u001b[0;32m    499\u001b[0m \u001b[1;33m\u001b[0m\u001b[0m\n\u001b[0;32m    500\u001b[0m     \u001b[0mdone\u001b[0m \u001b[1;33m=\u001b[0m \u001b[0mset\u001b[0m\u001b[1;33m(\u001b[0m\u001b[1;33m)\u001b[0m\u001b[1;33m\u001b[0m\u001b[1;33m\u001b[0m\u001b[0m\n\u001b[1;32m--> 501\u001b[1;33m     \u001b[1;32mfor\u001b[0m \u001b[0mx\u001b[0m \u001b[1;32min\u001b[0m \u001b[0mres\u001b[0m\u001b[1;33m:\u001b[0m\u001b[1;33m\u001b[0m\u001b[1;33m\u001b[0m\u001b[0m\n\u001b[0m\u001b[0;32m    502\u001b[0m         \u001b[1;32mif\u001b[0m \u001b[0mx\u001b[0m \u001b[1;32mnot\u001b[0m \u001b[1;32min\u001b[0m \u001b[0mdone\u001b[0m\u001b[1;33m:\u001b[0m\u001b[1;33m\u001b[0m\u001b[1;33m\u001b[0m\u001b[0m\n\u001b[0;32m    503\u001b[0m             \u001b[1;32myield\u001b[0m \u001b[0mx\u001b[0m\u001b[1;33m\u001b[0m\u001b[1;33m\u001b[0m\u001b[0m\n",
      "\u001b[1;32m~\\AppData\\Roaming\\Python\\Python39\\site-packages\\rdflib\\plugins\\sparql\\evaluate.py\u001b[0m in \u001b[0;36m<genexpr>\u001b[1;34m(.0)\u001b[0m\n\u001b[0;32m    508\u001b[0m     \u001b[0mres\u001b[0m \u001b[1;33m=\u001b[0m \u001b[0mevalPart\u001b[0m\u001b[1;33m(\u001b[0m\u001b[0mctx\u001b[0m\u001b[1;33m,\u001b[0m \u001b[0mproject\u001b[0m\u001b[1;33m.\u001b[0m\u001b[0mp\u001b[0m\u001b[1;33m)\u001b[0m\u001b[1;33m\u001b[0m\u001b[1;33m\u001b[0m\u001b[0m\n\u001b[0;32m    509\u001b[0m \u001b[1;33m\u001b[0m\u001b[0m\n\u001b[1;32m--> 510\u001b[1;33m     \u001b[1;32mreturn\u001b[0m \u001b[1;33m(\u001b[0m\u001b[0mrow\u001b[0m\u001b[1;33m.\u001b[0m\u001b[0mproject\u001b[0m\u001b[1;33m(\u001b[0m\u001b[0mproject\u001b[0m\u001b[1;33m.\u001b[0m\u001b[0mPV\u001b[0m\u001b[1;33m)\u001b[0m \u001b[1;32mfor\u001b[0m \u001b[0mrow\u001b[0m \u001b[1;32min\u001b[0m \u001b[0mres\u001b[0m\u001b[1;33m)\u001b[0m\u001b[1;33m\u001b[0m\u001b[1;33m\u001b[0m\u001b[0m\n\u001b[0m\u001b[0;32m    511\u001b[0m \u001b[1;33m\u001b[0m\u001b[0m\n\u001b[0;32m    512\u001b[0m \u001b[1;33m\u001b[0m\u001b[0m\n",
      "\u001b[1;32m~\\AppData\\Roaming\\Python\\Python39\\site-packages\\rdflib\\plugins\\sparql\\evaluate.py\u001b[0m in \u001b[0;36mevalFilter\u001b[1;34m(ctx, part)\u001b[0m\n\u001b[0;32m    170\u001b[0m \u001b[1;32mdef\u001b[0m \u001b[0mevalFilter\u001b[0m\u001b[1;33m(\u001b[0m\u001b[0mctx\u001b[0m\u001b[1;33m,\u001b[0m \u001b[0mpart\u001b[0m\u001b[1;33m)\u001b[0m\u001b[1;33m:\u001b[0m\u001b[1;33m\u001b[0m\u001b[1;33m\u001b[0m\u001b[0m\n\u001b[0;32m    171\u001b[0m     \u001b[1;31m# TODO: Deal with dict returned from evalPart!\u001b[0m\u001b[1;33m\u001b[0m\u001b[1;33m\u001b[0m\u001b[1;33m\u001b[0m\u001b[0m\n\u001b[1;32m--> 172\u001b[1;33m     \u001b[1;32mfor\u001b[0m \u001b[0mc\u001b[0m \u001b[1;32min\u001b[0m \u001b[0mevalPart\u001b[0m\u001b[1;33m(\u001b[0m\u001b[0mctx\u001b[0m\u001b[1;33m,\u001b[0m \u001b[0mpart\u001b[0m\u001b[1;33m.\u001b[0m\u001b[0mp\u001b[0m\u001b[1;33m)\u001b[0m\u001b[1;33m:\u001b[0m\u001b[1;33m\u001b[0m\u001b[1;33m\u001b[0m\u001b[0m\n\u001b[0m\u001b[0;32m    173\u001b[0m         if _ebv(\n\u001b[0;32m    174\u001b[0m             \u001b[0mpart\u001b[0m\u001b[1;33m.\u001b[0m\u001b[0mexpr\u001b[0m\u001b[1;33m,\u001b[0m\u001b[1;33m\u001b[0m\u001b[1;33m\u001b[0m\u001b[0m\n",
      "\u001b[1;32m~\\AppData\\Roaming\\Python\\Python39\\site-packages\\rdflib\\plugins\\sparql\\evaluate.py\u001b[0m in \u001b[0;36mevalBGP\u001b[1;34m(ctx, bgp)\u001b[0m\n\u001b[0;32m     84\u001b[0m             \u001b[1;32mcontinue\u001b[0m\u001b[1;33m\u001b[0m\u001b[1;33m\u001b[0m\u001b[0m\n\u001b[0;32m     85\u001b[0m \u001b[1;33m\u001b[0m\u001b[0m\n\u001b[1;32m---> 86\u001b[1;33m         \u001b[1;32mfor\u001b[0m \u001b[0mx\u001b[0m \u001b[1;32min\u001b[0m \u001b[0mevalBGP\u001b[0m\u001b[1;33m(\u001b[0m\u001b[0mc\u001b[0m\u001b[1;33m,\u001b[0m \u001b[0mbgp\u001b[0m\u001b[1;33m[\u001b[0m\u001b[1;36m1\u001b[0m\u001b[1;33m:\u001b[0m\u001b[1;33m]\u001b[0m\u001b[1;33m)\u001b[0m\u001b[1;33m:\u001b[0m\u001b[1;33m\u001b[0m\u001b[1;33m\u001b[0m\u001b[0m\n\u001b[0m\u001b[0;32m     87\u001b[0m             \u001b[1;32myield\u001b[0m \u001b[0mx\u001b[0m\u001b[1;33m\u001b[0m\u001b[1;33m\u001b[0m\u001b[0m\n\u001b[0;32m     88\u001b[0m \u001b[1;33m\u001b[0m\u001b[0m\n",
      "\u001b[1;32m~\\AppData\\Roaming\\Python\\Python39\\site-packages\\rdflib\\plugins\\sparql\\evaluate.py\u001b[0m in \u001b[0;36mevalBGP\u001b[1;34m(ctx, bgp)\u001b[0m\n\u001b[0;32m     84\u001b[0m             \u001b[1;32mcontinue\u001b[0m\u001b[1;33m\u001b[0m\u001b[1;33m\u001b[0m\u001b[0m\n\u001b[0;32m     85\u001b[0m \u001b[1;33m\u001b[0m\u001b[0m\n\u001b[1;32m---> 86\u001b[1;33m         \u001b[1;32mfor\u001b[0m \u001b[0mx\u001b[0m \u001b[1;32min\u001b[0m \u001b[0mevalBGP\u001b[0m\u001b[1;33m(\u001b[0m\u001b[0mc\u001b[0m\u001b[1;33m,\u001b[0m \u001b[0mbgp\u001b[0m\u001b[1;33m[\u001b[0m\u001b[1;36m1\u001b[0m\u001b[1;33m:\u001b[0m\u001b[1;33m]\u001b[0m\u001b[1;33m)\u001b[0m\u001b[1;33m:\u001b[0m\u001b[1;33m\u001b[0m\u001b[1;33m\u001b[0m\u001b[0m\n\u001b[0m\u001b[0;32m     87\u001b[0m             \u001b[1;32myield\u001b[0m \u001b[0mx\u001b[0m\u001b[1;33m\u001b[0m\u001b[1;33m\u001b[0m\u001b[0m\n\u001b[0;32m     88\u001b[0m \u001b[1;33m\u001b[0m\u001b[0m\n",
      "\u001b[1;32m~\\AppData\\Roaming\\Python\\Python39\\site-packages\\rdflib\\plugins\\sparql\\evaluate.py\u001b[0m in \u001b[0;36mevalBGP\u001b[1;34m(ctx, bgp)\u001b[0m\n\u001b[0;32m     84\u001b[0m             \u001b[1;32mcontinue\u001b[0m\u001b[1;33m\u001b[0m\u001b[1;33m\u001b[0m\u001b[0m\n\u001b[0;32m     85\u001b[0m \u001b[1;33m\u001b[0m\u001b[0m\n\u001b[1;32m---> 86\u001b[1;33m         \u001b[1;32mfor\u001b[0m \u001b[0mx\u001b[0m \u001b[1;32min\u001b[0m \u001b[0mevalBGP\u001b[0m\u001b[1;33m(\u001b[0m\u001b[0mc\u001b[0m\u001b[1;33m,\u001b[0m \u001b[0mbgp\u001b[0m\u001b[1;33m[\u001b[0m\u001b[1;36m1\u001b[0m\u001b[1;33m:\u001b[0m\u001b[1;33m]\u001b[0m\u001b[1;33m)\u001b[0m\u001b[1;33m:\u001b[0m\u001b[1;33m\u001b[0m\u001b[1;33m\u001b[0m\u001b[0m\n\u001b[0m\u001b[0;32m     87\u001b[0m             \u001b[1;32myield\u001b[0m \u001b[0mx\u001b[0m\u001b[1;33m\u001b[0m\u001b[1;33m\u001b[0m\u001b[0m\n\u001b[0;32m     88\u001b[0m \u001b[1;33m\u001b[0m\u001b[0m\n",
      "\u001b[1;32m~\\AppData\\Roaming\\Python\\Python39\\site-packages\\rdflib\\plugins\\sparql\\evaluate.py\u001b[0m in \u001b[0;36mevalBGP\u001b[1;34m(ctx, bgp)\u001b[0m\n\u001b[0;32m     84\u001b[0m             \u001b[1;32mcontinue\u001b[0m\u001b[1;33m\u001b[0m\u001b[1;33m\u001b[0m\u001b[0m\n\u001b[0;32m     85\u001b[0m \u001b[1;33m\u001b[0m\u001b[0m\n\u001b[1;32m---> 86\u001b[1;33m         \u001b[1;32mfor\u001b[0m \u001b[0mx\u001b[0m \u001b[1;32min\u001b[0m \u001b[0mevalBGP\u001b[0m\u001b[1;33m(\u001b[0m\u001b[0mc\u001b[0m\u001b[1;33m,\u001b[0m \u001b[0mbgp\u001b[0m\u001b[1;33m[\u001b[0m\u001b[1;36m1\u001b[0m\u001b[1;33m:\u001b[0m\u001b[1;33m]\u001b[0m\u001b[1;33m)\u001b[0m\u001b[1;33m:\u001b[0m\u001b[1;33m\u001b[0m\u001b[1;33m\u001b[0m\u001b[0m\n\u001b[0m\u001b[0;32m     87\u001b[0m             \u001b[1;32myield\u001b[0m \u001b[0mx\u001b[0m\u001b[1;33m\u001b[0m\u001b[1;33m\u001b[0m\u001b[0m\n\u001b[0;32m     88\u001b[0m \u001b[1;33m\u001b[0m\u001b[0m\n",
      "\u001b[1;32m~\\AppData\\Roaming\\Python\\Python39\\site-packages\\rdflib\\plugins\\sparql\\evaluate.py\u001b[0m in \u001b[0;36mevalBGP\u001b[1;34m(ctx, bgp)\u001b[0m\n\u001b[0;32m     84\u001b[0m             \u001b[1;32mcontinue\u001b[0m\u001b[1;33m\u001b[0m\u001b[1;33m\u001b[0m\u001b[0m\n\u001b[0;32m     85\u001b[0m \u001b[1;33m\u001b[0m\u001b[0m\n\u001b[1;32m---> 86\u001b[1;33m         \u001b[1;32mfor\u001b[0m \u001b[0mx\u001b[0m \u001b[1;32min\u001b[0m \u001b[0mevalBGP\u001b[0m\u001b[1;33m(\u001b[0m\u001b[0mc\u001b[0m\u001b[1;33m,\u001b[0m \u001b[0mbgp\u001b[0m\u001b[1;33m[\u001b[0m\u001b[1;36m1\u001b[0m\u001b[1;33m:\u001b[0m\u001b[1;33m]\u001b[0m\u001b[1;33m)\u001b[0m\u001b[1;33m:\u001b[0m\u001b[1;33m\u001b[0m\u001b[1;33m\u001b[0m\u001b[0m\n\u001b[0m\u001b[0;32m     87\u001b[0m             \u001b[1;32myield\u001b[0m \u001b[0mx\u001b[0m\u001b[1;33m\u001b[0m\u001b[1;33m\u001b[0m\u001b[0m\n\u001b[0;32m     88\u001b[0m \u001b[1;33m\u001b[0m\u001b[0m\n",
      "\u001b[1;32m~\\AppData\\Roaming\\Python\\Python39\\site-packages\\rdflib\\plugins\\sparql\\evaluate.py\u001b[0m in \u001b[0;36mevalBGP\u001b[1;34m(ctx, bgp)\u001b[0m\n\u001b[0;32m     84\u001b[0m             \u001b[1;32mcontinue\u001b[0m\u001b[1;33m\u001b[0m\u001b[1;33m\u001b[0m\u001b[0m\n\u001b[0;32m     85\u001b[0m \u001b[1;33m\u001b[0m\u001b[0m\n\u001b[1;32m---> 86\u001b[1;33m         \u001b[1;32mfor\u001b[0m \u001b[0mx\u001b[0m \u001b[1;32min\u001b[0m \u001b[0mevalBGP\u001b[0m\u001b[1;33m(\u001b[0m\u001b[0mc\u001b[0m\u001b[1;33m,\u001b[0m \u001b[0mbgp\u001b[0m\u001b[1;33m[\u001b[0m\u001b[1;36m1\u001b[0m\u001b[1;33m:\u001b[0m\u001b[1;33m]\u001b[0m\u001b[1;33m)\u001b[0m\u001b[1;33m:\u001b[0m\u001b[1;33m\u001b[0m\u001b[1;33m\u001b[0m\u001b[0m\n\u001b[0m\u001b[0;32m     87\u001b[0m             \u001b[1;32myield\u001b[0m \u001b[0mx\u001b[0m\u001b[1;33m\u001b[0m\u001b[1;33m\u001b[0m\u001b[0m\n\u001b[0;32m     88\u001b[0m \u001b[1;33m\u001b[0m\u001b[0m\n",
      "\u001b[1;32m~\\AppData\\Roaming\\Python\\Python39\\site-packages\\rdflib\\plugins\\sparql\\evaluate.py\u001b[0m in \u001b[0;36mevalBGP\u001b[1;34m(ctx, bgp)\u001b[0m\n\u001b[0;32m     84\u001b[0m             \u001b[1;32mcontinue\u001b[0m\u001b[1;33m\u001b[0m\u001b[1;33m\u001b[0m\u001b[0m\n\u001b[0;32m     85\u001b[0m \u001b[1;33m\u001b[0m\u001b[0m\n\u001b[1;32m---> 86\u001b[1;33m         \u001b[1;32mfor\u001b[0m \u001b[0mx\u001b[0m \u001b[1;32min\u001b[0m \u001b[0mevalBGP\u001b[0m\u001b[1;33m(\u001b[0m\u001b[0mc\u001b[0m\u001b[1;33m,\u001b[0m \u001b[0mbgp\u001b[0m\u001b[1;33m[\u001b[0m\u001b[1;36m1\u001b[0m\u001b[1;33m:\u001b[0m\u001b[1;33m]\u001b[0m\u001b[1;33m)\u001b[0m\u001b[1;33m:\u001b[0m\u001b[1;33m\u001b[0m\u001b[1;33m\u001b[0m\u001b[0m\n\u001b[0m\u001b[0;32m     87\u001b[0m             \u001b[1;32myield\u001b[0m \u001b[0mx\u001b[0m\u001b[1;33m\u001b[0m\u001b[1;33m\u001b[0m\u001b[0m\n\u001b[0;32m     88\u001b[0m \u001b[1;33m\u001b[0m\u001b[0m\n",
      "\u001b[1;32m~\\AppData\\Roaming\\Python\\Python39\\site-packages\\rdflib\\plugins\\sparql\\evaluate.py\u001b[0m in \u001b[0;36mevalBGP\u001b[1;34m(ctx, bgp)\u001b[0m\n\u001b[0;32m     84\u001b[0m             \u001b[1;32mcontinue\u001b[0m\u001b[1;33m\u001b[0m\u001b[1;33m\u001b[0m\u001b[0m\n\u001b[0;32m     85\u001b[0m \u001b[1;33m\u001b[0m\u001b[0m\n\u001b[1;32m---> 86\u001b[1;33m         \u001b[1;32mfor\u001b[0m \u001b[0mx\u001b[0m \u001b[1;32min\u001b[0m \u001b[0mevalBGP\u001b[0m\u001b[1;33m(\u001b[0m\u001b[0mc\u001b[0m\u001b[1;33m,\u001b[0m \u001b[0mbgp\u001b[0m\u001b[1;33m[\u001b[0m\u001b[1;36m1\u001b[0m\u001b[1;33m:\u001b[0m\u001b[1;33m]\u001b[0m\u001b[1;33m)\u001b[0m\u001b[1;33m:\u001b[0m\u001b[1;33m\u001b[0m\u001b[1;33m\u001b[0m\u001b[0m\n\u001b[0m\u001b[0;32m     87\u001b[0m             \u001b[1;32myield\u001b[0m \u001b[0mx\u001b[0m\u001b[1;33m\u001b[0m\u001b[1;33m\u001b[0m\u001b[0m\n\u001b[0;32m     88\u001b[0m \u001b[1;33m\u001b[0m\u001b[0m\n",
      "\u001b[1;32m~\\AppData\\Roaming\\Python\\Python39\\site-packages\\rdflib\\plugins\\sparql\\evaluate.py\u001b[0m in \u001b[0;36mevalBGP\u001b[1;34m(ctx, bgp)\u001b[0m\n\u001b[0;32m     84\u001b[0m             \u001b[1;32mcontinue\u001b[0m\u001b[1;33m\u001b[0m\u001b[1;33m\u001b[0m\u001b[0m\n\u001b[0;32m     85\u001b[0m \u001b[1;33m\u001b[0m\u001b[0m\n\u001b[1;32m---> 86\u001b[1;33m         \u001b[1;32mfor\u001b[0m \u001b[0mx\u001b[0m \u001b[1;32min\u001b[0m \u001b[0mevalBGP\u001b[0m\u001b[1;33m(\u001b[0m\u001b[0mc\u001b[0m\u001b[1;33m,\u001b[0m \u001b[0mbgp\u001b[0m\u001b[1;33m[\u001b[0m\u001b[1;36m1\u001b[0m\u001b[1;33m:\u001b[0m\u001b[1;33m]\u001b[0m\u001b[1;33m)\u001b[0m\u001b[1;33m:\u001b[0m\u001b[1;33m\u001b[0m\u001b[1;33m\u001b[0m\u001b[0m\n\u001b[0m\u001b[0;32m     87\u001b[0m             \u001b[1;32myield\u001b[0m \u001b[0mx\u001b[0m\u001b[1;33m\u001b[0m\u001b[1;33m\u001b[0m\u001b[0m\n\u001b[0;32m     88\u001b[0m \u001b[1;33m\u001b[0m\u001b[0m\n",
      "\u001b[1;32m~\\AppData\\Roaming\\Python\\Python39\\site-packages\\rdflib\\plugins\\sparql\\evaluate.py\u001b[0m in \u001b[0;36mevalBGP\u001b[1;34m(ctx, bgp)\u001b[0m\n\u001b[0;32m     84\u001b[0m             \u001b[1;32mcontinue\u001b[0m\u001b[1;33m\u001b[0m\u001b[1;33m\u001b[0m\u001b[0m\n\u001b[0;32m     85\u001b[0m \u001b[1;33m\u001b[0m\u001b[0m\n\u001b[1;32m---> 86\u001b[1;33m         \u001b[1;32mfor\u001b[0m \u001b[0mx\u001b[0m \u001b[1;32min\u001b[0m \u001b[0mevalBGP\u001b[0m\u001b[1;33m(\u001b[0m\u001b[0mc\u001b[0m\u001b[1;33m,\u001b[0m \u001b[0mbgp\u001b[0m\u001b[1;33m[\u001b[0m\u001b[1;36m1\u001b[0m\u001b[1;33m:\u001b[0m\u001b[1;33m]\u001b[0m\u001b[1;33m)\u001b[0m\u001b[1;33m:\u001b[0m\u001b[1;33m\u001b[0m\u001b[1;33m\u001b[0m\u001b[0m\n\u001b[0m\u001b[0;32m     87\u001b[0m             \u001b[1;32myield\u001b[0m \u001b[0mx\u001b[0m\u001b[1;33m\u001b[0m\u001b[1;33m\u001b[0m\u001b[0m\n\u001b[0;32m     88\u001b[0m \u001b[1;33m\u001b[0m\u001b[0m\n",
      "\u001b[1;32m~\\AppData\\Roaming\\Python\\Python39\\site-packages\\rdflib\\plugins\\sparql\\evaluate.py\u001b[0m in \u001b[0;36mevalBGP\u001b[1;34m(ctx, bgp)\u001b[0m\n\u001b[0;32m     63\u001b[0m     \u001b[0m_o\u001b[0m \u001b[1;33m=\u001b[0m \u001b[0mctx\u001b[0m\u001b[1;33m[\u001b[0m\u001b[0mo\u001b[0m\u001b[1;33m]\u001b[0m\u001b[1;33m\u001b[0m\u001b[1;33m\u001b[0m\u001b[0m\n\u001b[0;32m     64\u001b[0m \u001b[1;33m\u001b[0m\u001b[0m\n\u001b[1;32m---> 65\u001b[1;33m     \u001b[1;32mfor\u001b[0m \u001b[0mss\u001b[0m\u001b[1;33m,\u001b[0m \u001b[0msp\u001b[0m\u001b[1;33m,\u001b[0m \u001b[0mso\u001b[0m \u001b[1;32min\u001b[0m \u001b[0mctx\u001b[0m\u001b[1;33m.\u001b[0m\u001b[0mgraph\u001b[0m\u001b[1;33m.\u001b[0m\u001b[0mtriples\u001b[0m\u001b[1;33m(\u001b[0m\u001b[1;33m(\u001b[0m\u001b[0m_s\u001b[0m\u001b[1;33m,\u001b[0m \u001b[0m_p\u001b[0m\u001b[1;33m,\u001b[0m \u001b[0m_o\u001b[0m\u001b[1;33m)\u001b[0m\u001b[1;33m)\u001b[0m\u001b[1;33m:\u001b[0m\u001b[1;33m\u001b[0m\u001b[1;33m\u001b[0m\u001b[0m\n\u001b[0m\u001b[0;32m     66\u001b[0m         \u001b[1;32mif\u001b[0m \u001b[1;32mNone\u001b[0m \u001b[1;32min\u001b[0m \u001b[1;33m(\u001b[0m\u001b[0m_s\u001b[0m\u001b[1;33m,\u001b[0m \u001b[0m_p\u001b[0m\u001b[1;33m,\u001b[0m \u001b[0m_o\u001b[0m\u001b[1;33m)\u001b[0m\u001b[1;33m:\u001b[0m\u001b[1;33m\u001b[0m\u001b[1;33m\u001b[0m\u001b[0m\n\u001b[0;32m     67\u001b[0m             \u001b[0mc\u001b[0m \u001b[1;33m=\u001b[0m \u001b[0mctx\u001b[0m\u001b[1;33m.\u001b[0m\u001b[0mpush\u001b[0m\u001b[1;33m(\u001b[0m\u001b[1;33m)\u001b[0m\u001b[1;33m\u001b[0m\u001b[1;33m\u001b[0m\u001b[0m\n",
      "\u001b[1;32m~\\AppData\\Roaming\\Python\\Python39\\site-packages\\rdflib\\graph.py\u001b[0m in \u001b[0;36mtriples\u001b[1;34m(self, triple)\u001b[0m\n\u001b[0;32m    446\u001b[0m                 \u001b[1;32myield\u001b[0m \u001b[0m_s\u001b[0m\u001b[1;33m,\u001b[0m \u001b[0mp\u001b[0m\u001b[1;33m,\u001b[0m \u001b[0m_o\u001b[0m\u001b[1;33m\u001b[0m\u001b[1;33m\u001b[0m\u001b[0m\n\u001b[0;32m    447\u001b[0m         \u001b[1;32melse\u001b[0m\u001b[1;33m:\u001b[0m\u001b[1;33m\u001b[0m\u001b[1;33m\u001b[0m\u001b[0m\n\u001b[1;32m--> 448\u001b[1;33m             \u001b[1;32mfor\u001b[0m \u001b[1;33m(\u001b[0m\u001b[0ms\u001b[0m\u001b[1;33m,\u001b[0m \u001b[0mp\u001b[0m\u001b[1;33m,\u001b[0m \u001b[0mo\u001b[0m\u001b[1;33m)\u001b[0m\u001b[1;33m,\u001b[0m \u001b[0mcg\u001b[0m \u001b[1;32min\u001b[0m \u001b[0mself\u001b[0m\u001b[1;33m.\u001b[0m\u001b[0m__store\u001b[0m\u001b[1;33m.\u001b[0m\u001b[0mtriples\u001b[0m\u001b[1;33m(\u001b[0m\u001b[1;33m(\u001b[0m\u001b[0ms\u001b[0m\u001b[1;33m,\u001b[0m \u001b[0mp\u001b[0m\u001b[1;33m,\u001b[0m \u001b[0mo\u001b[0m\u001b[1;33m)\u001b[0m\u001b[1;33m,\u001b[0m \u001b[0mcontext\u001b[0m\u001b[1;33m=\u001b[0m\u001b[0mself\u001b[0m\u001b[1;33m)\u001b[0m\u001b[1;33m:\u001b[0m\u001b[1;33m\u001b[0m\u001b[1;33m\u001b[0m\u001b[0m\n\u001b[0m\u001b[0;32m    449\u001b[0m                 \u001b[1;32myield\u001b[0m \u001b[0ms\u001b[0m\u001b[1;33m,\u001b[0m \u001b[0mp\u001b[0m\u001b[1;33m,\u001b[0m \u001b[0mo\u001b[0m\u001b[1;33m\u001b[0m\u001b[1;33m\u001b[0m\u001b[0m\n\u001b[0;32m    450\u001b[0m \u001b[1;33m\u001b[0m\u001b[0m\n",
      "\u001b[1;32m~\\AppData\\Roaming\\Python\\Python39\\site-packages\\rdflib\\plugins\\stores\\memory.py\u001b[0m in \u001b[0;36mtriples\u001b[1;34m(self, triple_pattern, context)\u001b[0m\n\u001b[0;32m    303\u001b[0m             \u001b[0mself\u001b[0m\u001b[1;33m.\u001b[0m\u001b[0m__all_contexts\u001b[0m\u001b[1;33m.\u001b[0m\u001b[0mremove\u001b[0m\u001b[1;33m(\u001b[0m\u001b[0mcontext\u001b[0m\u001b[1;33m)\u001b[0m\u001b[1;33m\u001b[0m\u001b[1;33m\u001b[0m\u001b[0m\n\u001b[0;32m    304\u001b[0m \u001b[1;33m\u001b[0m\u001b[0m\n\u001b[1;32m--> 305\u001b[1;33m     \u001b[1;32mdef\u001b[0m \u001b[0mtriples\u001b[0m\u001b[1;33m(\u001b[0m\u001b[0mself\u001b[0m\u001b[1;33m,\u001b[0m \u001b[0mtriple_pattern\u001b[0m\u001b[1;33m,\u001b[0m \u001b[0mcontext\u001b[0m\u001b[1;33m=\u001b[0m\u001b[1;32mNone\u001b[0m\u001b[1;33m)\u001b[0m\u001b[1;33m:\u001b[0m\u001b[1;33m\u001b[0m\u001b[1;33m\u001b[0m\u001b[0m\n\u001b[0m\u001b[0;32m    306\u001b[0m         \u001b[1;34m\"\"\"A generator over all the triples matching\"\"\"\u001b[0m\u001b[1;33m\u001b[0m\u001b[1;33m\u001b[0m\u001b[0m\n\u001b[0;32m    307\u001b[0m         \u001b[0mreq_ctx\u001b[0m \u001b[1;33m=\u001b[0m \u001b[0mself\u001b[0m\u001b[1;33m.\u001b[0m\u001b[0m__ctx_to_str\u001b[0m\u001b[1;33m(\u001b[0m\u001b[0mcontext\u001b[0m\u001b[1;33m)\u001b[0m\u001b[1;33m\u001b[0m\u001b[1;33m\u001b[0m\u001b[0m\n",
      "\u001b[1;31mKeyboardInterrupt\u001b[0m: "
     ]
    }
   ],
   "source": [
    "cq = '''\n",
    "PREFIX d: <http://icondataset.org/> \n",
    "PREFIX icon: <https://w3id.org/icon/ontology/>  \n",
    "PREFIX cito: <http://purl.org/spar/cito/>\n",
    "PREFIX crm: <http://www.cidoc-crm.org/cidoc-crm/> \n",
    "\n",
    "\n",
    "SELECT DISTINCT ?artwork ?artwork2 WHERE {\n",
    "?artwork a icon:Artwork; \n",
    "    crm:P2_has_type ?style.\n",
    "?style crm:P2_has_type <http://vocab.getty.edu/aat/300015646>. \n",
    "\n",
    "?icrec icon:aboutWorkOfArt ?artwork; \n",
    "    icon:recognizedImage ?img. \n",
    "?img icon:hasCharacter d:cupid. \n",
    "\n",
    "?rec icon:aboutWorkOfArt ?artwork; \n",
    "    icon:recognizedIntrinsicMeaning ?meaning. \n",
    "?meaning icon:recognizedCulturalPhenomenon ?phenomenon. \n",
    "\n",
    "?artwork2 a icon:Artwork; \n",
    "    crm:P2_has_type ?style2.\n",
    "?style2 crm:P2_has_type <http://vocab.getty.edu/aat/300015646>. \n",
    "\n",
    "?icrec2 icon:aboutWorkOfArt ?artwork2; \n",
    "    icon:recognizedImage ?img2. \n",
    "?img2 icon:hasCharacter d:cupid. \n",
    "\n",
    "?rec2 icon:aboutWorkOfArt ?artwork2; \n",
    "    icon:recognizedIntrinsicMeaning ?meaning2. \n",
    "?meaning2 icon:recognizedCulturalPhenomenon ?phenomenon. \n",
    " \n",
    "FILTER (?artwork != ?artwork2)\n",
    "FILTER (?style != ?style2)\n",
    "}\n",
    "'''\n",
    "\n",
    "cqres = newg.query(cq)\n",
    "\n",
    "for row in cqres:\n",
    "    print(row)"
   ]
  },
  {
   "cell_type": "markdown",
   "id": "b9624a71",
   "metadata": {},
   "source": [
    "# Competency questions level 1"
   ]
  },
  {
   "cell_type": "code",
   "execution_count": null,
   "id": "ffee33c8",
   "metadata": {},
   "outputs": [],
   "source": []
  },
  {
   "cell_type": "markdown",
   "id": "27a4c75e",
   "metadata": {},
   "source": [
    "## CQ 1.1\n",
    "What level 1 objects are represented in the artwork?"
   ]
  },
  {
   "cell_type": "markdown",
   "id": "433256f3",
   "metadata": {},
   "source": [
    "### CQ 1.1.1\n",
    "Retrieve all the artistic motifs of artwork ART1004. </br>\n",
    "**Expected results**:ART1004-AM1, ART1004-AM2, ART1004-AM3, ART1004-AM4, ART1004-AM5, ART1004-AM6\n"
   ]
  },
  {
   "cell_type": "code",
   "execution_count": 8,
   "id": "b40c0237",
   "metadata": {},
   "outputs": [
    {
     "name": "stdout",
     "output_type": "stream",
     "text": [
      "(rdflib.term.URIRef('http://icondataset.org/ART1004-AM1'),)\n",
      "(rdflib.term.URIRef('http://icondataset.org/ART1004-AM2'),)\n",
      "(rdflib.term.URIRef('http://icondataset.org/ART1004-AM3'),)\n",
      "(rdflib.term.URIRef('http://icondataset.org/ART1004-AM4'),)\n",
      "(rdflib.term.URIRef('http://icondataset.org/ART1004-AM5'),)\n",
      "(rdflib.term.URIRef('http://icondataset.org/ART1004-AM6'),)\n"
     ]
    }
   ],
   "source": [
    "# in level 1 development:cq 1.1\n",
    "cq = '''\n",
    "PREFIX d: <http://icondataset.org/> \n",
    "PREFIX icon: <https://w3id.org/icon/ontology/> \n",
    "\n",
    "\n",
    "SELECT DISTINCT ?am WHERE {\n",
    "?icrec icon:aboutWorkOfArt d:ART1004; \n",
    "     {?icrec icon:recognizedArtisticMotif ?am} UNION {?icrec icon:recognizedComposition ?comp. ?comp icon:hasPart ?am }\n",
    "\n",
    "}\n",
    "'''\n",
    "\n",
    "cqres = newg.query(cq)\n",
    "\n",
    "for row in cqres:\n",
    "    print(row)"
   ]
  },
  {
   "cell_type": "markdown",
   "id": "e79c1004",
   "metadata": {},
   "source": [
    "### CQ 1.1.2\n",
    "Retrieve all the compositions of artwork ART1004. </br>\n",
    "**Expected results**: ART1004-COMP1, ART1004-COMP2, ART1004-COMP3. "
   ]
  },
  {
   "cell_type": "code",
   "execution_count": 9,
   "id": "5b91c1df",
   "metadata": {},
   "outputs": [
    {
     "name": "stdout",
     "output_type": "stream",
     "text": [
      "(rdflib.term.URIRef('http://icondataset.org/ART1004-COMP1'),)\n",
      "(rdflib.term.URIRef('http://icondataset.org/ART1004-COMP2'),)\n",
      "(rdflib.term.URIRef('http://icondataset.org/ART1004-COMP3'),)\n"
     ]
    }
   ],
   "source": [
    "\n",
    "cq = '''\n",
    "PREFIX d: <http://icondataset.org/> \n",
    "PREFIX icon: <https://w3id.org/icon/ontology/> \n",
    "\n",
    "\n",
    "SELECT DISTINCT ?comp WHERE {\n",
    "?icrec icon:aboutWorkOfArt d:ART1004; \n",
    "  icon:recognizedComposition ?comp. \n",
    "\n",
    "}\n",
    "'''\n",
    "\n",
    "cqres = newg.query(cq)\n",
    "\n",
    "for row in cqres:\n",
    "    print(row)"
   ]
  },
  {
   "cell_type": "markdown",
   "id": "022bf944",
   "metadata": {},
   "source": [
    "### CQ 1.1.3\n",
    "Retrieve all the pre-iconographical descriptions of ART1201 along with the person responsible of the interpretation.</br>\n",
    "**Expected results** : \n",
    "\n",
    "| **description**    | **person**       |\n",
    "|--------------------|------------------|\n",
    "| ART1201-PREICDESC2 | erwin-panofsky   |\n",
    "| ART1201-PREICDESC2 | sofia-baroncini  |\n"
   ]
  },
  {
   "cell_type": "code",
   "execution_count": 10,
   "id": "d39538ad",
   "metadata": {},
   "outputs": [
    {
     "name": "stdout",
     "output_type": "stream",
     "text": [
      "(rdflib.term.URIRef('http://icondataset.org/ART1201-PREICDESC2'), rdflib.term.URIRef('http://icondataset.org/name-erwin-panofsky'))\n",
      "(rdflib.term.URIRef('http://icondataset.org/ART1201-PREICDESC2'), rdflib.term.URIRef('http://icondataset.org/name-sofia-baroncini'))\n"
     ]
    }
   ],
   "source": [
    "\n",
    "cq = '''\n",
    "PREFIX d: <http://icondataset.org/> \n",
    "prefix crm: <http://www.cidoc-crm.org/cidoc-crm/> \n",
    "PREFIX icon: <https://w3id.org/icon/ontology/> \n",
    "\n",
    "\n",
    "SELECT DISTINCT ?desc ?person WHERE {\n",
    "?rec icon:aboutWorkOfArt d:ART1201; # ART1196 . ART1201 ha errore di conversione: non risulta preicdesc1!\n",
    "    icon:isListedIn ?desc; \n",
    "    crm:P14_carried_out_by ?person. \n",
    "?desc a icon:PreiconographicalDescription.\n",
    "\n",
    "\n",
    "\n",
    "\n",
    "} LIMIT 100\n",
    "'''\n",
    "\n",
    "cqres = newg.query(cq)\n",
    "\n",
    "for row in cqres:\n",
    "    print(row)"
   ]
  },
  {
   "cell_type": "markdown",
   "id": "50f25736",
   "metadata": {},
   "source": [
    "## CQ 1.2\n",
    "Which objects are natural elements, expressive characteristics or actions?"
   ]
  },
  {
   "cell_type": "markdown",
   "id": "04c680f8",
   "metadata": {},
   "source": [
    "### CQ 1.2.1\n",
    "\n",
    "Retrieve all the natural, expressional meanings and actions recognized in the artistic motifs of ART1195. </br>\n",
    "**Expected results** : \n",
    "\n",
    "| **natural**    | **expressional**  | **action**  |\n",
    "|----------------|-------------------|-------------|\n",
    "| man   |        |           |\n",
    "|       | dazed  |           |\t\n",
    "|woman\t|        |           |\t\t\n",
    "|\t    |charitable|         |\t\n",
    "|\t\t|\t     |helping    |\n",
    "|group of women\t|    |\t   \t|\n",
    "|natural landscape| | |\t\t\t\n",
    "|dog| | |\n",
    "| | |gathering flowers|\n",
    "| |surprise | |\t\n",
    "| |amusement\t | |\t\t\n",
    "| |pity\t\t | |\t\n",
    "| |protectiveness\t | |\t\t\n",
    "| |kindliness\t | |\t\t\n",
    "| |hospitality\t\t | |\t"
   ]
  },
  {
   "cell_type": "code",
   "execution_count": 11,
   "id": "b6d32909",
   "metadata": {},
   "outputs": [
    {
     "name": "stdout",
     "output_type": "stream",
     "text": [
      "(rdflib.term.URIRef('http://icondataset.org/man'), None, None)\n",
      "(rdflib.term.URIRef('http://icondataset.org/dog'), None, None)\n",
      "(None, None, rdflib.term.URIRef('http://icondataset.org/gathering-flowers'))\n",
      "(None, rdflib.term.URIRef('http://icondataset.org/surprise'), None)\n",
      "(None, rdflib.term.URIRef('http://icondataset.org/amusement'), None)\n",
      "(None, rdflib.term.URIRef('http://icondataset.org/pity'), None)\n",
      "(rdflib.term.URIRef('http://icondataset.org/group-of-women'), None, None)\n",
      "(None, rdflib.term.URIRef('http://icondataset.org/protectiveness'), None)\n",
      "(None, rdflib.term.URIRef('http://icondataset.org/kindliness'), None)\n",
      "(None, rdflib.term.URIRef('http://icondataset.org/hospitality'), None)\n",
      "(None, rdflib.term.URIRef('http://icondataset.org/dazed'), None)\n",
      "(rdflib.term.URIRef('http://icondataset.org/woman'), None, None)\n",
      "(None, rdflib.term.URIRef('http://icondataset.org/charitable'), None)\n",
      "(None, None, rdflib.term.URIRef('http://icondataset.org/helping'))\n",
      "(rdflib.term.URIRef('http://icondataset.org/natural-landscape'), None, None)\n"
     ]
    }
   ],
   "source": [
    "\n",
    "cq = '''\n",
    "PREFIX d: <http://icondataset.org/> \n",
    "prefix crm: <http://www.cidoc-crm.org/cidoc-crm/> \n",
    "PREFIX icon: <https://w3id.org/icon/ontology/> \n",
    "\n",
    "\n",
    "SELECT DISTINCT ?natural ?expressional?action WHERE {\n",
    "?icrec icon:aboutWorkOfArt d:ART1195; \n",
    "     {?icrec icon:recognizedArtisticMotif ?am} UNION {?icrec icon:recognizedComposition ?comp. ?comp icon:hasPart ?am }\n",
    "{?am icon:hasExpressionalMeaning ?expressional} UNION {?am icon:hasFactualMeaning ?natural. ?natural a icon:NaturalElement}\n",
    "UNION {?am icon:hasFactualMeaning ?action. ?action a icon:Action}\n",
    "\n",
    "\n",
    "} LIMIT 100\n",
    "'''\n",
    "\n",
    "cqres = newg.query(cq)\n",
    "\n",
    "for row in cqres:\n",
    "    print(row)"
   ]
  },
  {
   "cell_type": "markdown",
   "id": "ec3b7871",
   "metadata": {},
   "source": [
    "### CQ 1.2.2\n",
    "\n",
    "Which are the natural elements identified in the Preiconographical Description ART1310-PREICDESC? \n",
    "**Expected results**: boy, person, wings, bandage, bow, arrows, griffon claws, crown-of-roses, hearts, skeleton, scythe, scourge, monks-garb, woman, tower. \n"
   ]
  },
  {
   "cell_type": "code",
   "execution_count": 12,
   "id": "9e0f795a",
   "metadata": {},
   "outputs": [
    {
     "name": "stdout",
     "output_type": "stream",
     "text": [
      "(rdflib.term.URIRef('http://icondataset.org/boy'),)\n",
      "(rdflib.term.URIRef('http://icondataset.org/person'),)\n",
      "(rdflib.term.URIRef('http://icondataset.org/skeleton'),)\n",
      "(rdflib.term.URIRef('http://icondataset.org/scythe'),)\n",
      "(rdflib.term.URIRef('http://icondataset.org/wings'),)\n",
      "(rdflib.term.URIRef('http://icondataset.org/scourge'),)\n",
      "(rdflib.term.URIRef('http://icondataset.org/monks-garb'),)\n",
      "(rdflib.term.URIRef('http://icondataset.org/woman'),)\n",
      "(rdflib.term.URIRef('http://icondataset.org/tower'),)\n",
      "(rdflib.term.URIRef('http://icondataset.org/bandage'),)\n",
      "(rdflib.term.URIRef('http://icondataset.org/bow'),)\n",
      "(rdflib.term.URIRef('http://icondataset.org/arrows'),)\n",
      "(rdflib.term.URIRef('http://icondataset.org/griffon-claws'),)\n",
      "(rdflib.term.URIRef('http://icondataset.org/crown-of-roses'),)\n",
      "(rdflib.term.URIRef('http://icondataset.org/hearts'),)\n"
     ]
    }
   ],
   "source": [
    "\n",
    "cq = '''\n",
    "PREFIX d: <http://icondataset.org/> \n",
    "prefix crm: <http://www.cidoc-crm.org/cidoc-crm/> \n",
    "PREFIX icon: <https://w3id.org/icon/ontology/> \n",
    "\n",
    "\n",
    "SELECT DISTINCT ?factual WHERE {\n",
    "?rec icon:isListedIn d:ART1310-PREICDESC. \n",
    "?desc a icon:PreiconographicalDescription.\n",
    "{?rec icon:recognizedArtisticMotif ?am} UNION {?rec icon:recognizedComposition ?comp. ?comp icon:hasPart ?am }\n",
    "?am icon:hasFactualMeaning ?factual. \n",
    "?factual a icon:NaturalElement.\n",
    "\n",
    "\n",
    "\n",
    "\n",
    "\n",
    "} LIMIT 100\n",
    "'''\n",
    "\n",
    "cqres = newg.query(cq)\n",
    "\n",
    "for row in cqres:\n",
    "    print(row)"
   ]
  },
  {
   "cell_type": "markdown",
   "id": "eff51d8f",
   "metadata": {},
   "source": [
    "### CQ 1.2.3\n",
    "Retrieve the artistic motifs of Expressional Meaning \"smiling\". </br>\n",
    "**Expected results**: ART1197-AM18, ART1352-AM16 ."
   ]
  },
  {
   "cell_type": "code",
   "execution_count": 13,
   "id": "14aab8c6",
   "metadata": {},
   "outputs": [
    {
     "name": "stdout",
     "output_type": "stream",
     "text": [
      "(rdflib.term.URIRef('http://icondataset.org/ART1197-AM18'),)\n",
      "(rdflib.term.URIRef('http://icondataset.org/ART1352-AM16'),)\n"
     ]
    }
   ],
   "source": [
    "\n",
    "cq = '''\n",
    "PREFIX d: <http://icondataset.org/> \n",
    "prefix crm: <http://www.cidoc-crm.org/cidoc-crm/> \n",
    "PREFIX icon: <https://w3id.org/icon/ontology/> \n",
    "\n",
    "\n",
    "SELECT DISTINCT ?am WHERE {\n",
    "\n",
    "?am icon:hasExpressionalMeaning d:smiling. \n",
    "\n",
    "} LIMIT 100\n",
    "'''\n",
    "\n",
    "cqres = newg.query(cq)\n",
    "\n",
    "for row in cqres:\n",
    "    print(row)"
   ]
  },
  {
   "cell_type": "markdown",
   "id": "13952b7f",
   "metadata": {},
   "source": [
    "## CQ 1.3 \n",
    "What level 1 subjects are formally derived or copied from other artworks level 1 subjects?"
   ]
  },
  {
   "cell_type": "markdown",
   "id": "5f78f1fe",
   "metadata": {},
   "source": [
    "### CQ 1.3.1\n",
    "What are the level 1 subjects (i.e. copied subjects) copied by ART1284 from ART1285, including the ones identified by a composition? What are the corresponding original subjects in ART1285 (i.e. subjects)? </br>\n",
    "**Expected results** : \n",
    "\n",
    "| **subject**    | **copiedSubject**|\n",
    "|----------------|------------------|\n",
    "| woman          | woman            |\n",
    "| riding-on      |riding-on         |  \n",
    "| unicorn        | ram              |  "
   ]
  },
  {
   "cell_type": "code",
   "execution_count": 36,
   "id": "1dadd50d",
   "metadata": {},
   "outputs": [
    {
     "name": "stdout",
     "output_type": "stream",
     "text": [
      "(rdflib.term.URIRef('http://icondataset.org/woman'), rdflib.term.URIRef('http://icondataset.org/woman'))\n",
      "(rdflib.term.URIRef('http://icondataset.org/riding-on'), rdflib.term.URIRef('http://icondataset.org/riding-on'))\n",
      "(rdflib.term.URIRef('http://icondataset.org/unicorn'), rdflib.term.URIRef('http://icondataset.org/ram'))\n"
     ]
    }
   ],
   "source": [
    "cq = '''\n",
    "PREFIX d: <http://icondataset.org/> \n",
    "prefix crm: <http://www.cidoc-crm.org/cidoc-crm/> \n",
    "PREFIX icon: <https://w3id.org/icon/ontology/> \n",
    "\n",
    "\n",
    "SELECT DISTINCT ?subject ?copiedSubject WHERE {\n",
    "?rec a icon:FormalMotifRecognition; \n",
    "    icon:aboutWorkOfArt d:ART1284, d:ART1285. \n",
    "{?rec icon:hasPrototypicalMotif ?am. ?am a icon:ArtisticMotif} UNION {?rec icon:hasPrototypicalMotif ?comp. ?comp icon:hasPart ?am}\n",
    "?am icon:hasFactualMeaning | icon:hasExpressionalQuality ?subject.\n",
    "{?rec icon:hasCopiedMotif ?copied. ?copied a icon:ArtisticMotif} UNION {?rec icon:hasCopiedlMotif ?comp. ?comp icon:hasPart ?copied}\n",
    "?copied icon:hasFactualMeaning | icon:hasExpressionalQuality ?copiedSubject\n",
    "} LIMIT 100\n",
    "'''\n",
    "\n",
    "cqres = newg.query(cq)\n",
    "\n",
    "for row in cqres:\n",
    "    print(row)"
   ]
  },
  {
   "cell_type": "markdown",
   "id": "951f4790",
   "metadata": {},
   "source": [
    "### CQ 1.3.2\n",
    "Retrieve the prototypical Artistic Motif of the Formal Motif Recognition ART1285ART1284-MOTIFREC2 . </br>\n",
    "**Expected results**:\n",
    "ART1285-AM3"
   ]
  },
  {
   "cell_type": "code",
   "execution_count": 25,
   "id": "745c63bb",
   "metadata": {},
   "outputs": [
    {
     "name": "stdout",
     "output_type": "stream",
     "text": [
      "(rdflib.term.URIRef('http://icondataset.org/ART1285-AM3'),)\n"
     ]
    }
   ],
   "source": [
    "# forse qui dobbiamo aggiungere una relazione che distingua artwork copiato e artwork copiante? \n",
    "cq = '''\n",
    "PREFIX d: <http://icondataset.org/> \n",
    "prefix crm: <http://www.cidoc-crm.org/cidoc-crm/> \n",
    "PREFIX icon: <https://w3id.org/icon/ontology/> \n",
    "\n",
    "\n",
    "SELECT DISTINCT ?am WHERE {\n",
    "d:ART1285ART1284-MOTIFREC2 icon:hasPrototypicalMotif ?am.\n",
    "?am a icon:ArtisticMotif.\n",
    "\n",
    "\n",
    "} LIMIT 100\n",
    "'''\n",
    "\n",
    "cqres = newg.query(cq)\n",
    "\n",
    "for row in cqres:\n",
    "    print(row)"
   ]
  },
  {
   "cell_type": "markdown",
   "id": "000887c1",
   "metadata": {},
   "source": [
    "### CQ 1.3.3\n",
    "Retrieve the copied Artistic Motif of the Formal Motif Recognition ART1285ART1284-MOTIFREC2. </br>\n",
    "**Expected results**: ART1284-AM1"
   ]
  },
  {
   "cell_type": "code",
   "execution_count": 32,
   "id": "92cff7c5",
   "metadata": {},
   "outputs": [
    {
     "name": "stdout",
     "output_type": "stream",
     "text": [
      "(rdflib.term.URIRef('http://icondataset.org/ART1284-AM1'),)\n"
     ]
    }
   ],
   "source": [
    "\n",
    "cq = '''\n",
    "PREFIX d: <http://icondataset.org/> \n",
    "prefix crm: <http://www.cidoc-crm.org/cidoc-crm/> \n",
    "PREFIX icon: <https://w3id.org/icon/ontology/> \n",
    "\n",
    "\n",
    "SELECT DISTINCT ?am WHERE {\n",
    "d:ART1285ART1284-MOTIFREC2 icon:hasCopiedMotif ?am.\n",
    "?am a icon:ArtisticMotif.\n",
    "\n",
    "} LIMIT 100\n",
    "'''\n",
    "\n",
    "cqres = newg.query(cq)\n",
    "\n",
    "for row in cqres:\n",
    "    print(row)"
   ]
  },
  {
   "cell_type": "markdown",
   "id": "ab385ca4",
   "metadata": {},
   "source": [
    "## CQ 1.4 \n",
    "In What compositional structure are the objects organized (e.g. pyramidal arrangement)?"
   ]
  },
  {
   "cell_type": "markdown",
   "id": "1a63d999",
   "metadata": {},
   "source": [
    "### CQ 1.4.1 \n",
    "What is the compositional structure of the first level subjects in ART1384? "
   ]
  },
  {
   "cell_type": "code",
   "execution_count": 15,
   "id": "8b30152c",
   "metadata": {},
   "outputs": [
    {
     "name": "stdout",
     "output_type": "stream",
     "text": [
      "(rdflib.term.URIRef('http://icondataset.org/vertical-arrangement'),)\n"
     ]
    }
   ],
   "source": [
    "\n",
    "cq = '''\n",
    "PREFIX d: <http://icondataset.org/> \n",
    "prefix crm: <http://www.cidoc-crm.org/cidoc-crm/> \n",
    "PREFIX icon: <https://w3id.org/icon/ontology/> \n",
    "\n",
    "\n",
    "SELECT DISTINCT ?compStructure WHERE {\n",
    "?rec icon:aboutWorkOfArt d:ART1384; \n",
    "    icon:recognizedComposition ?comp. \n",
    "?comp icon:hasCompositionalStructure ?compStructure. \n",
    "\n",
    "} LIMIT 100\n",
    "'''\n",
    "\n",
    "cqres = newg.query(cq)\n",
    "\n",
    "for row in cqres:\n",
    "    print(row)"
   ]
  },
  {
   "cell_type": "markdown",
   "id": "992af0b5",
   "metadata": {},
   "source": [
    "### CQ 1.4.2\n",
    "What are the level 1 subjects included in the compotion having the compositional structure \"vertical arrangement\" in ART1384? </br>\n",
    "**Expected results**: horses, falling off, man, chariot, hurling, thunderbolts, eagle, group of figures"
   ]
  },
  {
   "cell_type": "code",
   "execution_count": 16,
   "id": "e3f69039",
   "metadata": {},
   "outputs": [
    {
     "name": "stdout",
     "output_type": "stream",
     "text": [
      "(rdflib.term.URIRef('http://icondataset.org/horses'),)\n",
      "(rdflib.term.URIRef('http://icondataset.org/eagle'),)\n",
      "(rdflib.term.URIRef('http://icondataset.org/group-of-figures'),)\n",
      "(rdflib.term.URIRef('http://icondataset.org/falling-off'),)\n",
      "(rdflib.term.URIRef('http://icondataset.org/man'),)\n",
      "(rdflib.term.URIRef('http://icondataset.org/chariot'),)\n",
      "(rdflib.term.URIRef('http://icondataset.org/hurling'),)\n",
      "(rdflib.term.URIRef('http://icondataset.org/thunderbolts'),)\n"
     ]
    }
   ],
   "source": [
    "cq = '''\n",
    "PREFIX d: <http://icondataset.org/> \n",
    "prefix crm: <http://www.cidoc-crm.org/cidoc-crm/> \n",
    "PREFIX icon: <https://w3id.org/icon/ontology/> \n",
    "\n",
    "\n",
    "SELECT DISTINCT ?lev1 WHERE {\n",
    "?rec icon:aboutWorkOfArt d:ART1384; \n",
    "    icon:recognizedComposition ?comp. \n",
    "?comp icon:hasCompositionalStructure d:vertical-arrangement. \n",
    "?comp icon:hasPart ?am. \n",
    "?am icon:hasFactualMeaning | icon:hasExpressionalMeaning ?lev1.\n",
    "} LIMIT 100\n",
    "'''\n",
    "\n",
    "cqres = newg.query(cq)\n",
    "\n",
    "for row in cqres:\n",
    "    print(row)\n",
    "    \n"
   ]
  },
  {
   "cell_type": "markdown",
   "id": "db2a6d2c",
   "metadata": {},
   "source": [
    "## Level 2"
   ]
  },
  {
   "cell_type": "markdown",
   "id": "ac6b24dc",
   "metadata": {},
   "source": [
    "## CQ 2.1 \n",
    "What level 2 subjects are identified in each artwork?\n",
    "CQ 2.2 Retrieve respectively all the characters, events, personifications, named objects, and places recognised at level 2.\n",
    "CQ 2.3 In which story or allegory are involved the depicted subjects?\n",
    "CQ 2.4 Do the level 2 subjects have a symbolic meaning?"
   ]
  },
  {
   "cell_type": "markdown",
   "id": "00657793",
   "metadata": {},
   "source": [
    "## CQ 2.1 \n",
    "What level 2 subjects are identified in each artwork?"
   ]
  },
  {
   "cell_type": "markdown",
   "id": "709fb6be",
   "metadata": {},
   "source": [
    "### CQ 2.1.1\n",
    "Retrieve the iconographical descriptions that have been made on ART1195. </br>\n",
    "**Expected results**:"
   ]
  },
  {
   "cell_type": "code",
   "execution_count": 18,
   "id": "30e17422",
   "metadata": {},
   "outputs": [],
   "source": [
    "\n",
    "cq = '''\n",
    "PREFIX d: <http://icondataset.org/> \n",
    "PREFIX crm: <http://www.cidoc-crm.org/cidoc-crm/> \n",
    "PREFIX icon: <https://w3id.org/icon/ontology/> \n",
    "\n",
    "\n",
    "SELECT DISTINCT ?desc WHERE {\n",
    "?rec icon:isListedIn ?desc; \n",
    "    icon:aboutWorkOfArt d:ART1195.\n",
    "?desc a icon:IconographicalDescription. \n",
    "\n",
    "\n",
    "} LIMIT 100\n",
    "'''\n",
    "\n",
    "cqres = newg.query(cq)\n",
    "\n",
    "for row in cqres:\n",
    "    print(row)"
   ]
  },
  {
   "cell_type": "markdown",
   "id": "ac34f99d",
   "metadata": {},
   "source": [
    "### CQ 2.1.2\n",
    "Retrieve the compositions that appear in a work of art. **NB**: this is a level 1 question! I changed it in: Retrieve the compositions that are recognized as a level 2 subject in ART1195. </br>\n",
    "**Expected results**: ART1195-COMP1, ART1195-COMP2. "
   ]
  },
  {
   "cell_type": "code",
   "execution_count": 40,
   "id": "2bcac281",
   "metadata": {},
   "outputs": [
    {
     "name": "stdout",
     "output_type": "stream",
     "text": [
      "(rdflib.term.URIRef('http://icondataset.org/ART1195-COMP1'),)\n",
      "(rdflib.term.URIRef('http://icondataset.org/ART1195-COMP2'),)\n"
     ]
    }
   ],
   "source": [
    "\n",
    "cq = '''\n",
    "PREFIX d: <http://icondataset.org/> \n",
    "PREFIX crm: <http://www.cidoc-crm.org/cidoc-crm/> \n",
    "PREFIX icon: <https://w3id.org/icon/ontology/> \n",
    "\n",
    "\n",
    "SELECT DISTINCT ?comp WHERE {\n",
    "{?rec icon:recognizedImage ?img} UNION {?rec icon:recognizedInvenzione ?img}\n",
    "?rec icon:refersToArtisticMotif ?comp; \n",
    "    icon:aboutWorkOfArt d:ART1195;\n",
    "    a icon:IconographicalRecognition.\n",
    "?comp a icon:Composition. \n",
    "\n",
    "\n",
    "} LIMIT 100\n",
    "'''\n",
    "\n",
    "cqres = newg.query(cq)\n",
    "\n",
    "for row in cqres:\n",
    "    print(row)"
   ]
  },
  {
   "cell_type": "markdown",
   "id": "14adebcc",
   "metadata": {},
   "source": [
    "### CQ 2.1.3\n",
    "\n",
    "What are the level 2 subjects depicted in ART1195?\n",
    "**Expected results**:island-of-lemnos, hylas, vulcan, nymphs, the-nymphs-help-vulcan-precipitated-from-mount-olympus-onto-the, island-of-lemnos, era-sub-vulcano. \n",
    "\n",
    "This query works properly on Blazegraph, giving the expected results. "
   ]
  },
  {
   "cell_type": "code",
   "execution_count": 41,
   "id": "11de589d",
   "metadata": {},
   "outputs": [
    {
     "name": "stdout",
     "output_type": "stream",
     "text": [
      "(rdflib.term.URIRef('http://icondataset.org/hylas'),)\n",
      "(rdflib.term.URIRef('http://icondataset.org/vulcan'),)\n",
      "(rdflib.term.URIRef('http://icondataset.org/nymphs'),)\n",
      "(rdflib.term.URIRef('http://icondataset.org/island-of-lemnos'),)\n"
     ]
    },
    {
     "ename": "KeyboardInterrupt",
     "evalue": "",
     "output_type": "error",
     "traceback": [
      "\u001b[1;31m---------------------------------------------------------------------------\u001b[0m",
      "\u001b[1;31mKeyboardInterrupt\u001b[0m                         Traceback (most recent call last)",
      "\u001b[1;32mC:\\Users\\SOFIAB~1\\AppData\\Local\\Temp/ipykernel_19476/2660698905.py\u001b[0m in \u001b[0;36m<module>\u001b[1;34m\u001b[0m\n\u001b[0;32m     18\u001b[0m \u001b[0mcqres\u001b[0m \u001b[1;33m=\u001b[0m \u001b[0mnewg\u001b[0m\u001b[1;33m.\u001b[0m\u001b[0mquery\u001b[0m\u001b[1;33m(\u001b[0m\u001b[0mcq\u001b[0m\u001b[1;33m)\u001b[0m\u001b[1;33m\u001b[0m\u001b[1;33m\u001b[0m\u001b[0m\n\u001b[0;32m     19\u001b[0m \u001b[1;33m\u001b[0m\u001b[0m\n\u001b[1;32m---> 20\u001b[1;33m \u001b[1;32mfor\u001b[0m \u001b[0mrow\u001b[0m \u001b[1;32min\u001b[0m \u001b[0mcqres\u001b[0m\u001b[1;33m:\u001b[0m\u001b[1;33m\u001b[0m\u001b[1;33m\u001b[0m\u001b[0m\n\u001b[0m\u001b[0;32m     21\u001b[0m     \u001b[0mprint\u001b[0m\u001b[1;33m(\u001b[0m\u001b[0mrow\u001b[0m\u001b[1;33m)\u001b[0m\u001b[1;33m\u001b[0m\u001b[1;33m\u001b[0m\u001b[0m\n",
      "\u001b[1;32m~\\AppData\\Roaming\\Python\\Python39\\site-packages\\rdflib\\query.py\u001b[0m in \u001b[0;36m__iter__\u001b[1;34m(self)\u001b[0m\n\u001b[0;32m    290\u001b[0m \u001b[1;33m\u001b[0m\u001b[0m\n\u001b[0;32m    291\u001b[0m             \u001b[1;32mif\u001b[0m \u001b[0mself\u001b[0m\u001b[1;33m.\u001b[0m\u001b[0m_genbindings\u001b[0m\u001b[1;33m:\u001b[0m\u001b[1;33m\u001b[0m\u001b[1;33m\u001b[0m\u001b[0m\n\u001b[1;32m--> 292\u001b[1;33m                 \u001b[1;32mfor\u001b[0m \u001b[0mb\u001b[0m \u001b[1;32min\u001b[0m \u001b[0mself\u001b[0m\u001b[1;33m.\u001b[0m\u001b[0m_genbindings\u001b[0m\u001b[1;33m:\u001b[0m\u001b[1;33m\u001b[0m\u001b[1;33m\u001b[0m\u001b[0m\n\u001b[0m\u001b[0;32m    293\u001b[0m                     \u001b[1;32mif\u001b[0m \u001b[0mb\u001b[0m\u001b[1;33m:\u001b[0m  \u001b[1;31m# don't add a result row in case of empty binding {}\u001b[0m\u001b[1;33m\u001b[0m\u001b[1;33m\u001b[0m\u001b[0m\n\u001b[0;32m    294\u001b[0m                         \u001b[0mself\u001b[0m\u001b[1;33m.\u001b[0m\u001b[0m_bindings\u001b[0m\u001b[1;33m.\u001b[0m\u001b[0mappend\u001b[0m\u001b[1;33m(\u001b[0m\u001b[0mb\u001b[0m\u001b[1;33m)\u001b[0m\u001b[1;33m\u001b[0m\u001b[1;33m\u001b[0m\u001b[0m\n",
      "\u001b[1;32m~\\AppData\\Roaming\\Python\\Python39\\site-packages\\rdflib\\plugins\\sparql\\evaluate.py\u001b[0m in \u001b[0;36mevalDistinct\u001b[1;34m(ctx, part)\u001b[0m\n\u001b[0;32m    499\u001b[0m \u001b[1;33m\u001b[0m\u001b[0m\n\u001b[0;32m    500\u001b[0m     \u001b[0mdone\u001b[0m \u001b[1;33m=\u001b[0m \u001b[0mset\u001b[0m\u001b[1;33m(\u001b[0m\u001b[1;33m)\u001b[0m\u001b[1;33m\u001b[0m\u001b[1;33m\u001b[0m\u001b[0m\n\u001b[1;32m--> 501\u001b[1;33m     \u001b[1;32mfor\u001b[0m \u001b[0mx\u001b[0m \u001b[1;32min\u001b[0m \u001b[0mres\u001b[0m\u001b[1;33m:\u001b[0m\u001b[1;33m\u001b[0m\u001b[1;33m\u001b[0m\u001b[0m\n\u001b[0m\u001b[0;32m    502\u001b[0m         \u001b[1;32mif\u001b[0m \u001b[0mx\u001b[0m \u001b[1;32mnot\u001b[0m \u001b[1;32min\u001b[0m \u001b[0mdone\u001b[0m\u001b[1;33m:\u001b[0m\u001b[1;33m\u001b[0m\u001b[1;33m\u001b[0m\u001b[0m\n\u001b[0;32m    503\u001b[0m             \u001b[1;32myield\u001b[0m \u001b[0mx\u001b[0m\u001b[1;33m\u001b[0m\u001b[1;33m\u001b[0m\u001b[0m\n",
      "\u001b[1;32m~\\AppData\\Roaming\\Python\\Python39\\site-packages\\rdflib\\plugins\\sparql\\evaluate.py\u001b[0m in \u001b[0;36m<genexpr>\u001b[1;34m(.0)\u001b[0m\n\u001b[0;32m    508\u001b[0m     \u001b[0mres\u001b[0m \u001b[1;33m=\u001b[0m \u001b[0mevalPart\u001b[0m\u001b[1;33m(\u001b[0m\u001b[0mctx\u001b[0m\u001b[1;33m,\u001b[0m \u001b[0mproject\u001b[0m\u001b[1;33m.\u001b[0m\u001b[0mp\u001b[0m\u001b[1;33m)\u001b[0m\u001b[1;33m\u001b[0m\u001b[1;33m\u001b[0m\u001b[0m\n\u001b[0;32m    509\u001b[0m \u001b[1;33m\u001b[0m\u001b[0m\n\u001b[1;32m--> 510\u001b[1;33m     \u001b[1;32mreturn\u001b[0m \u001b[1;33m(\u001b[0m\u001b[0mrow\u001b[0m\u001b[1;33m.\u001b[0m\u001b[0mproject\u001b[0m\u001b[1;33m(\u001b[0m\u001b[0mproject\u001b[0m\u001b[1;33m.\u001b[0m\u001b[0mPV\u001b[0m\u001b[1;33m)\u001b[0m \u001b[1;32mfor\u001b[0m \u001b[0mrow\u001b[0m \u001b[1;32min\u001b[0m \u001b[0mres\u001b[0m\u001b[1;33m)\u001b[0m\u001b[1;33m\u001b[0m\u001b[1;33m\u001b[0m\u001b[0m\n\u001b[0m\u001b[0;32m    511\u001b[0m \u001b[1;33m\u001b[0m\u001b[0m\n\u001b[0;32m    512\u001b[0m \u001b[1;33m\u001b[0m\u001b[0m\n",
      "\u001b[1;32m~\\AppData\\Roaming\\Python\\Python39\\site-packages\\rdflib\\plugins\\sparql\\evalutils.py\u001b[0m in \u001b[0;36m_join\u001b[1;34m(a, b)\u001b[0m\n\u001b[0;32m     27\u001b[0m     \u001b[1;32mfor\u001b[0m \u001b[0mx\u001b[0m \u001b[1;32min\u001b[0m \u001b[0ma\u001b[0m\u001b[1;33m:\u001b[0m\u001b[1;33m\u001b[0m\u001b[1;33m\u001b[0m\u001b[0m\n\u001b[0;32m     28\u001b[0m         \u001b[1;32mfor\u001b[0m \u001b[0my\u001b[0m \u001b[1;32min\u001b[0m \u001b[0mb\u001b[0m\u001b[1;33m:\u001b[0m\u001b[1;33m\u001b[0m\u001b[1;33m\u001b[0m\u001b[0m\n\u001b[1;32m---> 29\u001b[1;33m             \u001b[1;32mif\u001b[0m \u001b[0mx\u001b[0m\u001b[1;33m.\u001b[0m\u001b[0mcompatible\u001b[0m\u001b[1;33m(\u001b[0m\u001b[0my\u001b[0m\u001b[1;33m)\u001b[0m\u001b[1;33m:\u001b[0m\u001b[1;33m\u001b[0m\u001b[1;33m\u001b[0m\u001b[0m\n\u001b[0m\u001b[0;32m     30\u001b[0m                 \u001b[1;32myield\u001b[0m \u001b[0mx\u001b[0m\u001b[1;33m.\u001b[0m\u001b[0mmerge\u001b[0m\u001b[1;33m(\u001b[0m\u001b[0my\u001b[0m\u001b[1;33m)\u001b[0m\u001b[1;33m\u001b[0m\u001b[1;33m\u001b[0m\u001b[0m\n\u001b[0;32m     31\u001b[0m \u001b[1;33m\u001b[0m\u001b[0m\n",
      "\u001b[1;32m~\\AppData\\Roaming\\Python\\Python39\\site-packages\\rdflib\\plugins\\sparql\\sparql.py\u001b[0m in \u001b[0;36mcompatible\u001b[1;34m(self, other)\u001b[0m\n\u001b[0;32m    137\u001b[0m         \u001b[1;32mfor\u001b[0m \u001b[0mk\u001b[0m \u001b[1;32min\u001b[0m \u001b[0mself\u001b[0m\u001b[1;33m:\u001b[0m\u001b[1;33m\u001b[0m\u001b[1;33m\u001b[0m\u001b[0m\n\u001b[0;32m    138\u001b[0m             \u001b[1;32mtry\u001b[0m\u001b[1;33m:\u001b[0m\u001b[1;33m\u001b[0m\u001b[1;33m\u001b[0m\u001b[0m\n\u001b[1;32m--> 139\u001b[1;33m                 \u001b[1;32mif\u001b[0m \u001b[0mself\u001b[0m\u001b[1;33m[\u001b[0m\u001b[0mk\u001b[0m\u001b[1;33m]\u001b[0m \u001b[1;33m!=\u001b[0m \u001b[0mother\u001b[0m\u001b[1;33m[\u001b[0m\u001b[0mk\u001b[0m\u001b[1;33m]\u001b[0m\u001b[1;33m:\u001b[0m\u001b[1;33m\u001b[0m\u001b[1;33m\u001b[0m\u001b[0m\n\u001b[0m\u001b[0;32m    140\u001b[0m                     \u001b[1;32mreturn\u001b[0m \u001b[1;32mFalse\u001b[0m\u001b[1;33m\u001b[0m\u001b[1;33m\u001b[0m\u001b[0m\n\u001b[0;32m    141\u001b[0m             \u001b[1;32mexcept\u001b[0m \u001b[0mKeyError\u001b[0m\u001b[1;33m:\u001b[0m\u001b[1;33m\u001b[0m\u001b[1;33m\u001b[0m\u001b[0m\n",
      "\u001b[1;32m~\\AppData\\Roaming\\Python\\Python39\\site-packages\\rdflib\\plugins\\sparql\\sparql.py\u001b[0m in \u001b[0;36m__getitem__\u001b[1;34m(self, key)\u001b[0m\n\u001b[0;32m    172\u001b[0m             \u001b[1;32mreturn\u001b[0m \u001b[0mself\u001b[0m\u001b[1;33m.\u001b[0m\u001b[0mctx\u001b[0m\u001b[1;33m.\u001b[0m\u001b[0minitBindings\u001b[0m\u001b[1;33m[\u001b[0m\u001b[0mkey\u001b[0m\u001b[1;33m]\u001b[0m\u001b[1;33m\u001b[0m\u001b[1;33m\u001b[0m\u001b[0m\n\u001b[0;32m    173\u001b[0m         \u001b[1;32melse\u001b[0m\u001b[1;33m:\u001b[0m\u001b[1;33m\u001b[0m\u001b[1;33m\u001b[0m\u001b[0m\n\u001b[1;32m--> 174\u001b[1;33m             \u001b[1;32mreturn\u001b[0m \u001b[0mself\u001b[0m\u001b[1;33m.\u001b[0m\u001b[0m_d\u001b[0m\u001b[1;33m[\u001b[0m\u001b[0mkey\u001b[0m\u001b[1;33m]\u001b[0m\u001b[1;33m\u001b[0m\u001b[1;33m\u001b[0m\u001b[0m\n\u001b[0m\u001b[0;32m    175\u001b[0m \u001b[1;33m\u001b[0m\u001b[0m\n\u001b[0;32m    176\u001b[0m     \u001b[1;32mdef\u001b[0m \u001b[0mproject\u001b[0m\u001b[1;33m(\u001b[0m\u001b[0mself\u001b[0m\u001b[1;33m,\u001b[0m \u001b[0mvars\u001b[0m\u001b[1;33m)\u001b[0m\u001b[1;33m:\u001b[0m\u001b[1;33m\u001b[0m\u001b[1;33m\u001b[0m\u001b[0m\n",
      "\u001b[1;32m~\\AppData\\Roaming\\Python\\Python39\\site-packages\\rdflib\\term.py\u001b[0m in \u001b[0;36m__eq__\u001b[1;34m(self, other)\u001b[0m\n\u001b[0;32m    164\u001b[0m \u001b[1;33m\u001b[0m\u001b[0m\n\u001b[0;32m    165\u001b[0m         \u001b[1;32mif\u001b[0m \u001b[0mtype\u001b[0m\u001b[1;33m(\u001b[0m\u001b[0mself\u001b[0m\u001b[1;33m)\u001b[0m \u001b[1;33m==\u001b[0m \u001b[0mtype\u001b[0m\u001b[1;33m(\u001b[0m\u001b[0mother\u001b[0m\u001b[1;33m)\u001b[0m\u001b[1;33m:\u001b[0m\u001b[1;33m\u001b[0m\u001b[1;33m\u001b[0m\u001b[0m\n\u001b[1;32m--> 166\u001b[1;33m             \u001b[1;32mreturn\u001b[0m \u001b[0mstr\u001b[0m\u001b[1;33m(\u001b[0m\u001b[0mself\u001b[0m\u001b[1;33m)\u001b[0m \u001b[1;33m==\u001b[0m \u001b[0mstr\u001b[0m\u001b[1;33m(\u001b[0m\u001b[0mother\u001b[0m\u001b[1;33m)\u001b[0m\u001b[1;33m\u001b[0m\u001b[1;33m\u001b[0m\u001b[0m\n\u001b[0m\u001b[0;32m    167\u001b[0m         \u001b[1;32melse\u001b[0m\u001b[1;33m:\u001b[0m\u001b[1;33m\u001b[0m\u001b[1;33m\u001b[0m\u001b[0m\n\u001b[0;32m    168\u001b[0m             \u001b[1;32mreturn\u001b[0m \u001b[1;32mFalse\u001b[0m\u001b[1;33m\u001b[0m\u001b[1;33m\u001b[0m\u001b[0m\n",
      "\u001b[1;31mKeyboardInterrupt\u001b[0m: "
     ]
    }
   ],
   "source": [
    "cq = '''\n",
    "PREFIX d: <http://icondataset.org/> \n",
    "PREFIX crm: <http://www.cidoc-crm.org/cidoc-crm/> \n",
    "PREFIX icon: <https://w3id.org/icon/ontology/> \n",
    "\n",
    "\n",
    "SELECT DISTINCT ?lev2 WHERE {\n",
    "VALUES ?rel {icon:hasCharacter icon:hasPlace icon:hasNamedObject icon:hasPersonification icon:hasEvent}\n",
    "{?rec icon:recognizedImage ?img} UNION {?rec icon:recognizedInvenzione ?img}\n",
    "?rec icon:aboutWorkOfArt d:ART1195;\n",
    "    a icon:IconographicalRecognition.\n",
    "?img ?rel ?lev2.  \n",
    "\n",
    "\n",
    "} LIMIT 100\n",
    "'''\n",
    "\n",
    "cqres = newg.query(cq)\n",
    "\n",
    "for row in cqres:\n",
    "    print(row)"
   ]
  },
  {
   "cell_type": "markdown",
   "id": "3736e409",
   "metadata": {},
   "source": [
    "## CQ 2.2 \n",
    "Retrieve respectively all the characters, events, personifications, named objects, and places recognised at level 2."
   ]
  },
  {
   "cell_type": "markdown",
   "id": "6cd4a01f",
   "metadata": {},
   "source": [
    "### CQ 2.2.1\n",
    "Retrieve, from all the iconographical interpretations made on ART1290, all the personifications associated with an artistic motif through an image. </br>\n",
    "**Expected results**: poverty, labour, wealth, luxury, time-as-a-cosmic-power, sun-on-his-chariot"
   ]
  },
  {
   "cell_type": "code",
   "execution_count": 51,
   "id": "c64e00d3",
   "metadata": {},
   "outputs": [
    {
     "name": "stdout",
     "output_type": "stream",
     "text": [
      "(rdflib.term.URIRef('http://icondataset.org/poverty'),)\n",
      "(rdflib.term.URIRef('http://icondataset.org/labour'),)\n",
      "(rdflib.term.URIRef('http://icondataset.org/wealth'),)\n",
      "(rdflib.term.URIRef('http://icondataset.org/luxury'),)\n",
      "(rdflib.term.URIRef('http://icondataset.org/time-as-a-cosmic-power'),)\n",
      "(rdflib.term.URIRef('http://icondataset.org/sun-on-his-chariot'),)\n"
     ]
    }
   ],
   "source": [
    "\n",
    "cq = '''\n",
    "PREFIX d: <http://icondataset.org/> \n",
    "PREFIX crm: <http://www.cidoc-crm.org/cidoc-crm/> \n",
    "PREFIX icon: <https://w3id.org/icon/ontology/> \n",
    "\n",
    "\n",
    "SELECT DISTINCT ?subject WHERE {\n",
    "?rec a icon:IconographicalRecognition; \n",
    "    icon:aboutWorkOfArt d:ART1290;  \n",
    "    icon:recognizedImage ?img. \n",
    "?img icon:hasPersonification ?subject.  \n",
    "{?rec icon:refersToArtisticMotif ?am. \n",
    "?am a icon:ArtisticMotif} \n",
    "UNION \n",
    "{?rec icon:refersToArtisticMotif ?comp.\n",
    "?comp icon:hasPart ?am} \n",
    "\n",
    "\n",
    "} LIMIT 100\n",
    "'''\n",
    "\n",
    "cqres = newg.query(cq)\n",
    "\n",
    "for row in cqres:\n",
    "    print(row)"
   ]
  },
  {
   "cell_type": "markdown",
   "id": "28bb3203",
   "metadata": {},
   "source": [
    "### CQ 2.2.2 \n",
    "Retrieve all the compositions and their artistic motifs linked by an image to a character in all the iconographical descriptions of ART1195. </br>\n",
    "**Expected results**: \n",
    "\n",
    "| **comp**      | **am**       |\n",
    "|---------------|--------------|\n",
    "| ART1195-COMP1 | ART1195-AM1  |\n",
    "| ART1195-COMP1 | ART1195-AM2  |\n",
    "| ART1195-COMP2 | ART1195-AM3  |\n",
    "| ART1195-COMP2 | ART1195-AM4  |\n",
    "| ART1195-COMP2 | ART1195-AM5  |\n",
    "| ART1195-COMP2 | ART1195-AM6  |\n",
    "| ART1195-COMP2 | ART1195-AM16 |"
   ]
  },
  {
   "cell_type": "code",
   "execution_count": 53,
   "id": "1151a8f3",
   "metadata": {},
   "outputs": [
    {
     "name": "stdout",
     "output_type": "stream",
     "text": [
      "(rdflib.term.URIRef('http://icondataset.org/ART1195-COMP1'), rdflib.term.URIRef('http://icondataset.org/ART1195-AM1'))\n",
      "(rdflib.term.URIRef('http://icondataset.org/ART1195-COMP1'), rdflib.term.URIRef('http://icondataset.org/ART1195-AM2'))\n",
      "(rdflib.term.URIRef('http://icondataset.org/ART1195-COMP2'), rdflib.term.URIRef('http://icondataset.org/ART1195-AM16'))\n",
      "(rdflib.term.URIRef('http://icondataset.org/ART1195-COMP2'), rdflib.term.URIRef('http://icondataset.org/ART1195-AM3'))\n",
      "(rdflib.term.URIRef('http://icondataset.org/ART1195-COMP2'), rdflib.term.URIRef('http://icondataset.org/ART1195-AM4'))\n",
      "(rdflib.term.URIRef('http://icondataset.org/ART1195-COMP2'), rdflib.term.URIRef('http://icondataset.org/ART1195-AM5'))\n",
      "(rdflib.term.URIRef('http://icondataset.org/ART1195-COMP2'), rdflib.term.URIRef('http://icondataset.org/ART1195-AM6'))\n"
     ]
    }
   ],
   "source": [
    "\n",
    "cq = '''\n",
    "PREFIX d: <http://icondataset.org/> \n",
    "PREFIX crm: <http://www.cidoc-crm.org/cidoc-crm/> \n",
    "PREFIX icon: <https://w3id.org/icon/ontology/> \n",
    "\n",
    "\n",
    "SELECT DISTINCT ?comp ?am WHERE {\n",
    "?rec a icon:IconographicalRecognition; \n",
    "    icon:aboutWorkOfArt d:ART1195;\n",
    "    icon:recognizedImage ?img; \n",
    "    icon:refersToArtisticMotif ?comp.\n",
    "?comp icon:hasPart ?am.\n",
    "\n",
    "\n",
    "} LIMIT 100\n",
    "'''\n",
    "\n",
    "cqres = newg.query(cq)\n",
    "\n",
    "for row in cqres:\n",
    "    print(row)"
   ]
  },
  {
   "cell_type": "code",
   "execution_count": null,
   "id": "358ea166",
   "metadata": {},
   "outputs": [],
   "source": []
  },
  {
   "cell_type": "markdown",
   "id": "b4610e6b",
   "metadata": {},
   "source": [
    "### CQ 2.2.3\n",
    "Retrieve all the places that are recognized to be in ART1195 according to an Image.\n",
    "**Expected result**: island-of-lemnos ."
   ]
  },
  {
   "cell_type": "code",
   "execution_count": 28,
   "id": "23ecc146",
   "metadata": {},
   "outputs": [
    {
     "name": "stdout",
     "output_type": "stream",
     "text": [
      "(rdflib.term.URIRef('http://icondataset.org/island-of-lemnos'),)\n"
     ]
    }
   ],
   "source": [
    "\n",
    "cq = '''\n",
    "PREFIX d: <http://icondataset.org/> \n",
    "PREFIX crm: <http://www.cidoc-crm.org/cidoc-crm/> \n",
    "PREFIX icon: <https://w3id.org/icon/ontology/> \n",
    "\n",
    "\n",
    "SELECT DISTINCT ?place WHERE {\n",
    "?rec a icon:IconographicalRecognition; \n",
    "    icon:aboutWorkOfArt d:ART1195;\n",
    "    icon:recognizedImage ?img. \n",
    "?img icon:hasPlace ?place. \n",
    "\n",
    "\n",
    "\n",
    "} LIMIT 100\n",
    "'''\n",
    "\n",
    "cqres = newg.query(cq)\n",
    "\n",
    "for row in cqres:\n",
    "    print(row)"
   ]
  },
  {
   "cell_type": "markdown",
   "id": "958f9774",
   "metadata": {},
   "source": [
    "### CQ 2.2.4\n",
    "Retrieve all the works of art that have an artistic motif or composition associated with the Character \"Venus\" through the recognition of an image.</br>\n",
    "**Expected results**:: ART1201, ART1288, ART1338, ART1339"
   ]
  },
  {
   "cell_type": "code",
   "execution_count": 30,
   "id": "b05d51e2",
   "metadata": {},
   "outputs": [
    {
     "name": "stdout",
     "output_type": "stream",
     "text": [
      "(rdflib.term.URIRef('http://icondataset.org/ART1201'),)\n",
      "(rdflib.term.URIRef('http://icondataset.org/ART1288'),)\n",
      "(rdflib.term.URIRef('http://icondataset.org/ART1338'),)\n",
      "(rdflib.term.URIRef('http://icondataset.org/ART1339'),)\n"
     ]
    }
   ],
   "source": [
    "\n",
    "cq = '''\n",
    "PREFIX d: <http://icondataset.org/> \n",
    "PREFIX crm: <http://www.cidoc-crm.org/cidoc-crm/> \n",
    "PREFIX icon: <https://w3id.org/icon/ontology/> \n",
    "\n",
    "\n",
    "SELECT DISTINCT ?art WHERE {\n",
    "?rec a icon:IconographicalRecognition; \n",
    "    icon:aboutWorkOfArt ?art;\n",
    "    icon:refersToArtisticMotif ?am;\n",
    "    icon:recognizedImage ?img. \n",
    "?img icon:hasCharacter d:venus. \n",
    "\n",
    "\n",
    "\n",
    "\n",
    "} LIMIT 100\n",
    "'''\n",
    "\n",
    "cqres = newg.query(cq)\n",
    "\n",
    "for row in cqres:\n",
    "    print(row)"
   ]
  },
  {
   "cell_type": "markdown",
   "id": "100e99b8",
   "metadata": {},
   "source": [
    "### CQ 2.2.5\n",
    "Retrieve all the level 2 subjects in ART1253 with their type. \n",
    "\n",
    "**Expected results**: \n",
    "\n",
    "|**lev2**|**type**   |\n",
    "|---------|----------|\n",
    "|ariadne|Character   |\n",
    "|bacchus| Character  |\n",
    "|era-sub-vulcano|Event|\n",
    "|lapiths| Character|\n",
    "|silenus| Character|\n",
    "\n",
    "<br>\n",
    "Note: query checked on blazegraph. "
   ]
  },
  {
   "cell_type": "code",
   "execution_count": 58,
   "id": "d8f22c33",
   "metadata": {},
   "outputs": [
    {
     "name": "stdout",
     "output_type": "stream",
     "text": [
      "(rdflib.term.URIRef('http://icondataset.org/bacchus'), rdflib.term.URIRef('https://w3id.org/icon/ontology/Character'))\n",
      "(rdflib.term.URIRef('http://icondataset.org/ariadne'), rdflib.term.URIRef('https://w3id.org/icon/ontology/Character'))\n",
      "(rdflib.term.URIRef('http://icondataset.org/silenus'), rdflib.term.URIRef('https://w3id.org/icon/ontology/Character'))\n",
      "(rdflib.term.URIRef('http://icondataset.org/lapiths'), rdflib.term.URIRef('https://w3id.org/icon/ontology/Character'))\n",
      "(rdflib.term.URIRef('http://icondataset.org/era-sub-vulcano'), rdflib.term.URIRef('https://w3id.org/icon/ontology/Event'))\n"
     ]
    },
    {
     "ename": "KeyboardInterrupt",
     "evalue": "",
     "output_type": "error",
     "traceback": [
      "\u001b[1;31m---------------------------------------------------------------------------\u001b[0m",
      "\u001b[1;31mKeyboardInterrupt\u001b[0m                         Traceback (most recent call last)",
      "\u001b[1;32mC:\\Users\\SOFIAB~1\\AppData\\Local\\Temp/ipykernel_19476/1839434728.py\u001b[0m in \u001b[0;36m<module>\u001b[1;34m\u001b[0m\n\u001b[0;32m     19\u001b[0m \u001b[0mcqres\u001b[0m \u001b[1;33m=\u001b[0m \u001b[0mnewg\u001b[0m\u001b[1;33m.\u001b[0m\u001b[0mquery\u001b[0m\u001b[1;33m(\u001b[0m\u001b[0mcq\u001b[0m\u001b[1;33m)\u001b[0m\u001b[1;33m\u001b[0m\u001b[1;33m\u001b[0m\u001b[0m\n\u001b[0;32m     20\u001b[0m \u001b[1;33m\u001b[0m\u001b[0m\n\u001b[1;32m---> 21\u001b[1;33m \u001b[1;32mfor\u001b[0m \u001b[0mrow\u001b[0m \u001b[1;32min\u001b[0m \u001b[0mcqres\u001b[0m\u001b[1;33m:\u001b[0m\u001b[1;33m\u001b[0m\u001b[1;33m\u001b[0m\u001b[0m\n\u001b[0m\u001b[0;32m     22\u001b[0m     \u001b[0mprint\u001b[0m\u001b[1;33m(\u001b[0m\u001b[0mrow\u001b[0m\u001b[1;33m)\u001b[0m\u001b[1;33m\u001b[0m\u001b[1;33m\u001b[0m\u001b[0m\n",
      "\u001b[1;32m~\\AppData\\Roaming\\Python\\Python39\\site-packages\\rdflib\\query.py\u001b[0m in \u001b[0;36m__iter__\u001b[1;34m(self)\u001b[0m\n\u001b[0;32m    290\u001b[0m \u001b[1;33m\u001b[0m\u001b[0m\n\u001b[0;32m    291\u001b[0m             \u001b[1;32mif\u001b[0m \u001b[0mself\u001b[0m\u001b[1;33m.\u001b[0m\u001b[0m_genbindings\u001b[0m\u001b[1;33m:\u001b[0m\u001b[1;33m\u001b[0m\u001b[1;33m\u001b[0m\u001b[0m\n\u001b[1;32m--> 292\u001b[1;33m                 \u001b[1;32mfor\u001b[0m \u001b[0mb\u001b[0m \u001b[1;32min\u001b[0m \u001b[0mself\u001b[0m\u001b[1;33m.\u001b[0m\u001b[0m_genbindings\u001b[0m\u001b[1;33m:\u001b[0m\u001b[1;33m\u001b[0m\u001b[1;33m\u001b[0m\u001b[0m\n\u001b[0m\u001b[0;32m    293\u001b[0m                     \u001b[1;32mif\u001b[0m \u001b[0mb\u001b[0m\u001b[1;33m:\u001b[0m  \u001b[1;31m# don't add a result row in case of empty binding {}\u001b[0m\u001b[1;33m\u001b[0m\u001b[1;33m\u001b[0m\u001b[0m\n\u001b[0;32m    294\u001b[0m                         \u001b[0mself\u001b[0m\u001b[1;33m.\u001b[0m\u001b[0m_bindings\u001b[0m\u001b[1;33m.\u001b[0m\u001b[0mappend\u001b[0m\u001b[1;33m(\u001b[0m\u001b[0mb\u001b[0m\u001b[1;33m)\u001b[0m\u001b[1;33m\u001b[0m\u001b[1;33m\u001b[0m\u001b[0m\n",
      "\u001b[1;32m~\\AppData\\Roaming\\Python\\Python39\\site-packages\\rdflib\\plugins\\sparql\\evaluate.py\u001b[0m in \u001b[0;36mevalDistinct\u001b[1;34m(ctx, part)\u001b[0m\n\u001b[0;32m    499\u001b[0m \u001b[1;33m\u001b[0m\u001b[0m\n\u001b[0;32m    500\u001b[0m     \u001b[0mdone\u001b[0m \u001b[1;33m=\u001b[0m \u001b[0mset\u001b[0m\u001b[1;33m(\u001b[0m\u001b[1;33m)\u001b[0m\u001b[1;33m\u001b[0m\u001b[1;33m\u001b[0m\u001b[0m\n\u001b[1;32m--> 501\u001b[1;33m     \u001b[1;32mfor\u001b[0m \u001b[0mx\u001b[0m \u001b[1;32min\u001b[0m \u001b[0mres\u001b[0m\u001b[1;33m:\u001b[0m\u001b[1;33m\u001b[0m\u001b[1;33m\u001b[0m\u001b[0m\n\u001b[0m\u001b[0;32m    502\u001b[0m         \u001b[1;32mif\u001b[0m \u001b[0mx\u001b[0m \u001b[1;32mnot\u001b[0m \u001b[1;32min\u001b[0m \u001b[0mdone\u001b[0m\u001b[1;33m:\u001b[0m\u001b[1;33m\u001b[0m\u001b[1;33m\u001b[0m\u001b[0m\n\u001b[0;32m    503\u001b[0m             \u001b[1;32myield\u001b[0m \u001b[0mx\u001b[0m\u001b[1;33m\u001b[0m\u001b[1;33m\u001b[0m\u001b[0m\n",
      "\u001b[1;32m~\\AppData\\Roaming\\Python\\Python39\\site-packages\\rdflib\\plugins\\sparql\\evaluate.py\u001b[0m in \u001b[0;36m<genexpr>\u001b[1;34m(.0)\u001b[0m\n\u001b[0;32m    508\u001b[0m     \u001b[0mres\u001b[0m \u001b[1;33m=\u001b[0m \u001b[0mevalPart\u001b[0m\u001b[1;33m(\u001b[0m\u001b[0mctx\u001b[0m\u001b[1;33m,\u001b[0m \u001b[0mproject\u001b[0m\u001b[1;33m.\u001b[0m\u001b[0mp\u001b[0m\u001b[1;33m)\u001b[0m\u001b[1;33m\u001b[0m\u001b[1;33m\u001b[0m\u001b[0m\n\u001b[0;32m    509\u001b[0m \u001b[1;33m\u001b[0m\u001b[0m\n\u001b[1;32m--> 510\u001b[1;33m     \u001b[1;32mreturn\u001b[0m \u001b[1;33m(\u001b[0m\u001b[0mrow\u001b[0m\u001b[1;33m.\u001b[0m\u001b[0mproject\u001b[0m\u001b[1;33m(\u001b[0m\u001b[0mproject\u001b[0m\u001b[1;33m.\u001b[0m\u001b[0mPV\u001b[0m\u001b[1;33m)\u001b[0m \u001b[1;32mfor\u001b[0m \u001b[0mrow\u001b[0m \u001b[1;32min\u001b[0m \u001b[0mres\u001b[0m\u001b[1;33m)\u001b[0m\u001b[1;33m\u001b[0m\u001b[1;33m\u001b[0m\u001b[0m\n\u001b[0m\u001b[0;32m    511\u001b[0m \u001b[1;33m\u001b[0m\u001b[0m\n\u001b[0;32m    512\u001b[0m \u001b[1;33m\u001b[0m\u001b[0m\n",
      "\u001b[1;32m~\\AppData\\Roaming\\Python\\Python39\\site-packages\\rdflib\\plugins\\sparql\\evalutils.py\u001b[0m in \u001b[0;36m_join\u001b[1;34m(a, b)\u001b[0m\n\u001b[0;32m     27\u001b[0m     \u001b[1;32mfor\u001b[0m \u001b[0mx\u001b[0m \u001b[1;32min\u001b[0m \u001b[0ma\u001b[0m\u001b[1;33m:\u001b[0m\u001b[1;33m\u001b[0m\u001b[1;33m\u001b[0m\u001b[0m\n\u001b[0;32m     28\u001b[0m         \u001b[1;32mfor\u001b[0m \u001b[0my\u001b[0m \u001b[1;32min\u001b[0m \u001b[0mb\u001b[0m\u001b[1;33m:\u001b[0m\u001b[1;33m\u001b[0m\u001b[1;33m\u001b[0m\u001b[0m\n\u001b[1;32m---> 29\u001b[1;33m             \u001b[1;32mif\u001b[0m \u001b[0mx\u001b[0m\u001b[1;33m.\u001b[0m\u001b[0mcompatible\u001b[0m\u001b[1;33m(\u001b[0m\u001b[0my\u001b[0m\u001b[1;33m)\u001b[0m\u001b[1;33m:\u001b[0m\u001b[1;33m\u001b[0m\u001b[1;33m\u001b[0m\u001b[0m\n\u001b[0m\u001b[0;32m     30\u001b[0m                 \u001b[1;32myield\u001b[0m \u001b[0mx\u001b[0m\u001b[1;33m.\u001b[0m\u001b[0mmerge\u001b[0m\u001b[1;33m(\u001b[0m\u001b[0my\u001b[0m\u001b[1;33m)\u001b[0m\u001b[1;33m\u001b[0m\u001b[1;33m\u001b[0m\u001b[0m\n\u001b[0;32m     31\u001b[0m \u001b[1;33m\u001b[0m\u001b[0m\n",
      "\u001b[1;32m~\\AppData\\Roaming\\Python\\Python39\\site-packages\\rdflib\\plugins\\sparql\\sparql.py\u001b[0m in \u001b[0;36mcompatible\u001b[1;34m(self, other)\u001b[0m\n\u001b[0;32m    137\u001b[0m         \u001b[1;32mfor\u001b[0m \u001b[0mk\u001b[0m \u001b[1;32min\u001b[0m \u001b[0mself\u001b[0m\u001b[1;33m:\u001b[0m\u001b[1;33m\u001b[0m\u001b[1;33m\u001b[0m\u001b[0m\n\u001b[0;32m    138\u001b[0m             \u001b[1;32mtry\u001b[0m\u001b[1;33m:\u001b[0m\u001b[1;33m\u001b[0m\u001b[1;33m\u001b[0m\u001b[0m\n\u001b[1;32m--> 139\u001b[1;33m                 \u001b[1;32mif\u001b[0m \u001b[0mself\u001b[0m\u001b[1;33m[\u001b[0m\u001b[0mk\u001b[0m\u001b[1;33m]\u001b[0m \u001b[1;33m!=\u001b[0m \u001b[0mother\u001b[0m\u001b[1;33m[\u001b[0m\u001b[0mk\u001b[0m\u001b[1;33m]\u001b[0m\u001b[1;33m:\u001b[0m\u001b[1;33m\u001b[0m\u001b[1;33m\u001b[0m\u001b[0m\n\u001b[0m\u001b[0;32m    140\u001b[0m                     \u001b[1;32mreturn\u001b[0m \u001b[1;32mFalse\u001b[0m\u001b[1;33m\u001b[0m\u001b[1;33m\u001b[0m\u001b[0m\n\u001b[0;32m    141\u001b[0m             \u001b[1;32mexcept\u001b[0m \u001b[0mKeyError\u001b[0m\u001b[1;33m:\u001b[0m\u001b[1;33m\u001b[0m\u001b[1;33m\u001b[0m\u001b[0m\n",
      "\u001b[1;32m~\\AppData\\Roaming\\Python\\Python39\\site-packages\\rdflib\\plugins\\sparql\\sparql.py\u001b[0m in \u001b[0;36m__getitem__\u001b[1;34m(self, key)\u001b[0m\n\u001b[0;32m    169\u001b[0m             \u001b[1;32mreturn\u001b[0m \u001b[0mkey\u001b[0m\u001b[1;33m\u001b[0m\u001b[1;33m\u001b[0m\u001b[0m\n\u001b[0;32m    170\u001b[0m \u001b[1;33m\u001b[0m\u001b[0m\n\u001b[1;32m--> 171\u001b[1;33m         \u001b[1;32mif\u001b[0m \u001b[0mkey\u001b[0m \u001b[1;32mnot\u001b[0m \u001b[1;32min\u001b[0m \u001b[0mself\u001b[0m\u001b[1;33m.\u001b[0m\u001b[0m_d\u001b[0m\u001b[1;33m:\u001b[0m\u001b[1;33m\u001b[0m\u001b[1;33m\u001b[0m\u001b[0m\n\u001b[0m\u001b[0;32m    172\u001b[0m             \u001b[1;32mreturn\u001b[0m \u001b[0mself\u001b[0m\u001b[1;33m.\u001b[0m\u001b[0mctx\u001b[0m\u001b[1;33m.\u001b[0m\u001b[0minitBindings\u001b[0m\u001b[1;33m[\u001b[0m\u001b[0mkey\u001b[0m\u001b[1;33m]\u001b[0m\u001b[1;33m\u001b[0m\u001b[1;33m\u001b[0m\u001b[0m\n\u001b[0;32m    173\u001b[0m         \u001b[1;32melse\u001b[0m\u001b[1;33m:\u001b[0m\u001b[1;33m\u001b[0m\u001b[1;33m\u001b[0m\u001b[0m\n",
      "\u001b[1;31mKeyboardInterrupt\u001b[0m: "
     ]
    }
   ],
   "source": [
    "\n",
    "cq = '''\n",
    "PREFIX d: <http://icondataset.org/> \n",
    "PREFIX crm: <http://www.cidoc-crm.org/cidoc-crm/> \n",
    "PREFIX icon: <https://w3id.org/icon/ontology/> \n",
    "\n",
    "\n",
    "SELECT DISTINCT ?lev2 ?type WHERE {\n",
    "VALUES ?rel {icon:hasCharacter icon:hasPlace icon:hasNamedObject icon:hasPersonification icon:hasEvent}\n",
    "{?rec icon:recognizedImage ?img} UNION {?rec icon:recognizedInvenzione ?img}\n",
    "?rec icon:aboutWorkOfArt d:ART1253;\n",
    "    a icon:IconographicalRecognition.\n",
    "?img ?rel ?lev2.  \n",
    "?lev2 a ?type. \n",
    "\n",
    "\n",
    "}\n",
    "'''\n",
    "\n",
    "cqres = newg.query(cq)\n",
    "\n",
    "for row in cqres:\n",
    "    print(row)"
   ]
  },
  {
   "cell_type": "markdown",
   "id": "faedc706",
   "metadata": {},
   "source": [
    "## CQ 2.3 \n",
    "In which story or allegory are involved the depicted subjects?"
   ]
  },
  {
   "cell_type": "markdown",
   "id": "a7dd5a41",
   "metadata": {},
   "source": [
    "### CQ 2.3.1\n",
    "Retrieve all the images associated to a second level subject which is part of a story in ART1197. <br>**Expected results**: ART1197-IMG1, ART1197-IMG2, ART1197-IMG3 ."
   ]
  },
  {
   "cell_type": "code",
   "execution_count": 49,
   "id": "2f93f6b5",
   "metadata": {},
   "outputs": [
    {
     "name": "stdout",
     "output_type": "stream",
     "text": [
      "(rdflib.term.URIRef('http://icondataset.org/ART1197-IMG1'),)\n",
      "(rdflib.term.URIRef('http://icondataset.org/ART1197-IMG2'),)\n",
      "(rdflib.term.URIRef('http://icondataset.org/ART1197-IMG3'),)\n"
     ]
    }
   ],
   "source": [
    "cq = '''\n",
    "PREFIX d: <http://icondataset.org/> \n",
    "PREFIX crm: <http://www.cidoc-crm.org/cidoc-crm/> \n",
    "PREFIX icon: <https://w3id.org/icon/ontology/> \n",
    "\n",
    "\n",
    "SELECT DISTINCT ?img WHERE {\n",
    "VALUES ?rel {icon:hasCharacter icon:hasPlace icon:hasNamedObject icon:hasPersonification icon:hasEvent}\n",
    "?rec icon:recognizedImage ?img; \n",
    "    icon:aboutWorkOfArt d:ART1197;\n",
    "    a icon:IconographicalRecognition.\n",
    "?img ?rel ?lev2. \n",
    "?rec2 icon:recognizedInvenzione ?story;\n",
    "        icon:aboutWorkOfArt d:ART1197.\n",
    "?lev2 icon:partOf ?story.\n",
    "?story a icon:Story.\n",
    "\n",
    "} LIMIT 100\n",
    "'''\n",
    "\n",
    "cqres = newg.query(cq)\n",
    "\n",
    "for row in cqres:\n",
    "    print(row)"
   ]
  },
  {
   "cell_type": "markdown",
   "id": "013c7370",
   "metadata": {},
   "source": [
    "### CQ 2.3.2 \n",
    "Retrieve all the second level subjects associated to a story in ART1195.</br>\n",
    "**Expected results**: 'http://icondataset.org/island-of-lemnos', 'http://icondataset.org/vulcan', 'http://icondataset.org/nymphs',\n",
    "'http://icondataset.org/the-nymphs-help-vulcan-precipitated-from-mount-olympus-onto-the-island-of-lemnos' (note: the last URI is an Event in the data)\n",
    "\n"
   ]
  },
  {
   "cell_type": "code",
   "execution_count": 50,
   "id": "a73b01b4",
   "metadata": {},
   "outputs": [
    {
     "name": "stdout",
     "output_type": "stream",
     "text": [
      "(rdflib.term.URIRef('http://icondataset.org/island-of-lemnos'),)\n",
      "(rdflib.term.URIRef('http://icondataset.org/vulcan'),)\n",
      "(rdflib.term.URIRef('http://icondataset.org/nymphs'),)\n",
      "(rdflib.term.URIRef('http://icondataset.org/the-nymphs-help-vulcan-precipitated-from-mount-olympus-onto-the-island-of-lemnos'),)\n"
     ]
    }
   ],
   "source": [
    "\n",
    "cq = '''\n",
    "PREFIX d: <http://icondataset.org/> \n",
    "PREFIX crm: <http://www.cidoc-crm.org/cidoc-crm/> \n",
    "PREFIX icon: <https://w3id.org/icon/ontology/> \n",
    "\n",
    "\n",
    "SELECT DISTINCT ?subject WHERE {\n",
    "?rec a icon:IconographicalRecognition; \n",
    "    icon:aboutWorkOfArt d:ART1195; \n",
    "    icon:recognizedImage ?img. \n",
    "?img ?rel ?subject. \n",
    "?subject icon:partOf ?story. \n",
    "?story a icon:Story. \n",
    "?rec2 a icon:IconographicalRecognition; \n",
    "    icon:aboutWorkOfArt d:ART1195; \n",
    "    icon:recognizedInvenzione ?story. \n",
    "\n",
    "\n",
    "} LIMIT 100\n",
    "'''\n",
    "\n",
    "cqres = newg.query(cq)\n",
    "\n",
    "for row in cqres:\n",
    "    print(row)"
   ]
  },
  {
   "cell_type": "markdown",
   "id": "cf6f8e38",
   "metadata": {},
   "source": [
    "### CQ 2.3.3\n",
    "Retrieve all the iconographical descriptions on ART1379 that contain at least one second level subject that refers to a story and at least a second level subject that refers to an allegory. </br>\n",
    "**Expected results**: ART1379-ICDESC"
   ]
  },
  {
   "cell_type": "code",
   "execution_count": 52,
   "id": "c1acf284",
   "metadata": {},
   "outputs": [
    {
     "name": "stdout",
     "output_type": "stream",
     "text": [
      "(rdflib.term.URIRef('http://icondataset.org/ART1379-ICDESC'),)\n"
     ]
    }
   ],
   "source": [
    "\n",
    "cq = '''\n",
    "PREFIX d: <http://icondataset.org/> \n",
    "PREFIX crm: <http://www.cidoc-crm.org/cidoc-crm/> \n",
    "PREFIX icon: <https://w3id.org/icon/ontology/> \n",
    "\n",
    "\n",
    "SELECT DISTINCT ?desc WHERE {\n",
    "?rec a icon:IconographicalRecognition; \n",
    "    icon:aboutWorkOfArt d:ART1379; \n",
    "    icon:recognizedImage ?img; \n",
    "    icon:isListedIn ?desc. \n",
    "?img ?rel ?subject. \n",
    "{?subject icon:partOf ?story. ?story a icon:Story.} UNION {?subject icon:partOf ?allegory. ?allegory a icon:Allegory. }\n",
    "\n",
    "\n",
    "\n",
    "} LIMIT 100\n",
    "'''\n",
    "\n",
    "cqres = newg.query(cq)\n",
    "\n",
    "for row in cqres:\n",
    "    print(row)"
   ]
  },
  {
   "cell_type": "code",
   "execution_count": null,
   "id": "bb0fe84c",
   "metadata": {},
   "outputs": [],
   "source": []
  },
  {
   "cell_type": "code",
   "execution_count": null,
   "id": "d04a235d",
   "metadata": {},
   "outputs": [],
   "source": []
  },
  {
   "cell_type": "markdown",
   "id": "8b19ef8b",
   "metadata": {},
   "source": [
    "### CQ 2.4.1\n",
    "Retrieve all artistic motifs associated to a symbol through the recognition of an image in ART1254. </br>\n",
    "**Expected result**: ART1254-AM1."
   ]
  },
  {
   "cell_type": "code",
   "execution_count": 40,
   "id": "7dac6a27",
   "metadata": {},
   "outputs": [
    {
     "name": "stdout",
     "output_type": "stream",
     "text": [
      "(rdflib.term.URIRef('http://icondataset.org/ART1254-AM1'),)\n"
     ]
    }
   ],
   "source": [
    "\n",
    "cq = '''\n",
    "PREFIX d: <http://icondataset.org/> \n",
    "PREFIX crm: <http://www.cidoc-crm.org/cidoc-crm/> \n",
    "PREFIX icon: <https://w3id.org/icon/ontology/> \n",
    "\n",
    "\n",
    "SELECT DISTINCT ?am WHERE {\n",
    "?rec a icon:IconographicalRecognition; \n",
    "    icon:aboutWorkOfArt d:ART1254;\n",
    "    icon:refersToArtisticMotif ?am;\n",
    "    icon:recognizedImage ?img. \n",
    "?img icon:hasSymbol ?symbol. \n",
    "?am a icon:ArtisticMotif. \n",
    "\n",
    "\n",
    "\n",
    "\n",
    "} LIMIT 100\n",
    "'''\n",
    "\n",
    "cqres = newg.query(cq)\n",
    "\n",
    "for row in cqres:\n",
    "    print(row)"
   ]
  },
  {
   "cell_type": "markdown",
   "id": "3be2fcde",
   "metadata": {},
   "source": [
    "### CQ 2.4.2\n",
    "Retrieve all the iconographical descriptions in which the symbol \"Phaeton symbol of the presumptuous\" is associated to an artistic motif or a composition in a work of art.</br>\n",
    "**Expected results**: ART1382-ICDESC, ART1383-ICDESC, ART1390-ICDESC"
   ]
  },
  {
   "cell_type": "code",
   "execution_count": 54,
   "id": "34801610",
   "metadata": {},
   "outputs": [
    {
     "name": "stdout",
     "output_type": "stream",
     "text": [
      "(rdflib.term.URIRef('http://icondataset.org/ART1382-ICDESC'),)\n",
      "(rdflib.term.URIRef('http://icondataset.org/ART1383-ICDESC'),)\n",
      "(rdflib.term.URIRef('http://icondataset.org/ART1390-ICDESC'),)\n"
     ]
    }
   ],
   "source": [
    "\n",
    "cq = '''\n",
    "PREFIX d: <http://icondataset.org/> \n",
    "PREFIX crm: <http://www.cidoc-crm.org/cidoc-crm/> \n",
    "PREFIX icon: <https://w3id.org/icon/ontology/> \n",
    "\n",
    "\n",
    "SELECT DISTINCT ?desc WHERE {\n",
    "?rec a icon:IconographicalRecognition; \n",
    "    icon:isListedIn ?desc;\n",
    "    icon:recognizedImage ?img. \n",
    "?img icon:hasSymbol d:phaeton-the-presumptuous. \n",
    "?am a icon:ArtisticMotif. \n",
    "{?rec icon:refersToArtisticMotif ?am. \n",
    "?am a icon:ArtisticMotif} \n",
    "UNION \n",
    "{?rec icon:refersToArtisticMotif ?comp.\n",
    "?comp icon:hasPart ?am} \n",
    "\n",
    "\n",
    "\n",
    "\n",
    "} LIMIT 100\n",
    "'''\n",
    "\n",
    "cqres = newg.query(cq)\n",
    "\n",
    "for row in cqres:\n",
    "    print(row)"
   ]
  },
  {
   "cell_type": "markdown",
   "id": "80370f38",
   "metadata": {},
   "source": [
    "### CQ 2.4.3\n",
    "Retrieve all the characters that are linked to symbol by means of a common artistic motif or composition in ART1329. </br>\n",
    "**Expected results**: venus coelestis, venus vulgaris, cupid "
   ]
  },
  {
   "cell_type": "code",
   "execution_count": 59,
   "id": "abb98b03",
   "metadata": {},
   "outputs": [
    {
     "name": "stdout",
     "output_type": "stream",
     "text": [
      "(rdflib.term.URIRef('http://icondataset.org/venus-coelestis'),)\n",
      "(rdflib.term.URIRef('http://icondataset.org/venus-vulgaris'),)\n",
      "(rdflib.term.URIRef('http://icondataset.org/cupid'),)\n"
     ]
    }
   ],
   "source": [
    "\n",
    "cq = '''\n",
    "PREFIX d: <http://icondataset.org/> \n",
    "PREFIX crm: <http://www.cidoc-crm.org/cidoc-crm/> \n",
    "PREFIX icon: <https://w3id.org/icon/ontology/> \n",
    "\n",
    "\n",
    "SELECT DISTINCT ?char WHERE {\n",
    "?rec a icon:IconographicalRecognition; \n",
    "    icon:aboutWorkOfArt d:ART1329;\n",
    "    icon:refersToArtisticMotif ?amOrComp;\n",
    "    icon:recognizedImage ?img. \n",
    "?img icon:hasSymbol ?symbol. \n",
    "?rec2 a icon:IconographicalRecognition; \n",
    "    icon:aboutWorkOfArt d:ART1329;\n",
    "    icon:refersToArtisticMotif ?amOrComp;\n",
    "    icon:recognizedImage ?img2. \n",
    "?img2 icon:hasCharacter ?char. \n",
    "\n",
    "\n",
    "\n",
    "\n",
    "} LIMIT 100\n",
    "'''\n",
    "\n",
    "cqres = newg.query(cq)\n",
    "\n",
    "for row in cqres:\n",
    "    print(row)"
   ]
  },
  {
   "cell_type": "markdown",
   "id": "dddbd875",
   "metadata": {},
   "source": [
    "New CQs\n",
    "## CQ 2.5\n",
    "which is the object that allows the character recognition at level 2, i.e. the character’s attribute?"
   ]
  },
  {
   "cell_type": "markdown",
   "id": "ef499a0a",
   "metadata": {},
   "source": [
    "### CQ 2.5.1 \n",
    "Which are the attributes that allows the recognition of Cupid in ART1123? \n",
    "\n",
    "**Expected results**: bandage, wings, arrows, bow. "
   ]
  },
  {
   "cell_type": "code",
   "execution_count": 61,
   "id": "c69ad5e8",
   "metadata": {},
   "outputs": [
    {
     "name": "stdout",
     "output_type": "stream",
     "text": [
      "(rdflib.term.URIRef('http://icondataset.org/bandage'),)\n",
      "(rdflib.term.URIRef('http://icondataset.org/wings'),)\n",
      "(rdflib.term.URIRef('http://icondataset.org/arrows'),)\n",
      "(rdflib.term.URIRef('http://icondataset.org/bow'),)\n"
     ]
    }
   ],
   "source": [
    "\n",
    "cq = '''\n",
    "PREFIX d: <http://icondataset.org/> \n",
    "PREFIX crm: <http://www.cidoc-crm.org/cidoc-crm/> \n",
    "PREFIX icon: <https://w3id.org/icon/ontology/> \n",
    "\n",
    "\n",
    "SELECT DISTINCT ?lev1 WHERE {\n",
    "?rec a icon:IconographicalRecognition; \n",
    "    icon:aboutWorkOfArt d:ART1123;\n",
    "    icon:recognizedImage ?img. \n",
    "?img icon:hasCharacter d:cupid; \n",
    "    icon:hasRecAttribute ?am.\n",
    "?am icon:hasFactualMeaning | icon:hasExpressionalMeaning ?lev1. \n",
    "\n",
    "\n",
    "\n",
    "\n",
    "\n",
    "} LIMIT 100\n",
    "'''\n",
    "\n",
    "cqres = newg.query(cq)\n",
    "\n",
    "for row in cqres:\n",
    "    print(row)"
   ]
  },
  {
   "cell_type": "code",
   "execution_count": null,
   "id": "cbfb9902",
   "metadata": {},
   "outputs": [],
   "source": [
    "### CQ 2.5.2 \n",
    "What are the level 1 objects recognized as attributes of Cupid? \n",
    "\n",
    "**Expected results**: bandage, wings, arrows, bow. "
   ]
  },
  {
   "cell_type": "code",
   "execution_count": 62,
   "id": "cfa33fd2",
   "metadata": {},
   "outputs": [
    {
     "name": "stdout",
     "output_type": "stream",
     "text": [
      "(rdflib.term.URIRef('http://icondataset.org/wings'),)\n",
      "(rdflib.term.URIRef('http://icondataset.org/arrow'),)\n",
      "(rdflib.term.URIRef('http://icondataset.org/shooting-an-arrow'),)\n",
      "(rdflib.term.URIRef('http://icondataset.org/bow'),)\n",
      "(rdflib.term.URIRef('http://icondataset.org/torch'),)\n",
      "(rdflib.term.URIRef('http://icondataset.org/arrows'),)\n",
      "(rdflib.term.URIRef('http://icondataset.org/bandage'),)\n"
     ]
    }
   ],
   "source": [
    "cq = '''\n",
    "PREFIX d: <http://icondataset.org/> \n",
    "PREFIX crm: <http://www.cidoc-crm.org/cidoc-crm/> \n",
    "PREFIX icon: <https://w3id.org/icon/ontology/> \n",
    "\n",
    "\n",
    "SELECT DISTINCT ?lev1 WHERE {\n",
    "\n",
    "?img icon:hasCharacter d:cupid; \n",
    "    icon:hasRecAttribute ?am.\n",
    "?am icon:hasFactualMeaning | icon:hasExpressionalMeaning ?lev1. \n",
    "\n",
    "\n",
    "\n",
    "\n",
    "\n",
    "} LIMIT 100\n",
    "'''\n",
    "\n",
    "cqres = newg.query(cq)\n",
    "\n",
    "for row in cqres:\n",
    "    print(row)"
   ]
  },
  {
   "cell_type": "markdown",
   "id": "3d3bb19e",
   "metadata": {},
   "source": [
    "## CQ 2.6 \n",
    "What are the representative variations at level 1 of the same level 2 subject in different artworks?\n",
    "\n"
   ]
  },
  {
   "cell_type": "markdown",
   "id": "5159294f",
   "metadata": {},
   "source": [
    "## CQ 2.6.1\n",
    "What are the variants of the subject \"blindfold Cupid\"? Retrieve all the level 1 subjects corresponding to this subject along with how many times do they appear. \n",
    "</br>\n",
    "**Expected results**: \n",
    "\n",
    "| **lev1** | **tot**    |\n",
    "|----------|-----------|\n",
    "|wings |8|\n",
    "|bandage |7|\n",
    "|bow |6|\n",
    "|arrows |6|\n",
    "|boy |4|\n",
    "|child |4|\n",
    "|griffon-claws |3|\n",
    "|crown-of-roses | 2 |\n",
    "|hearts| 1 |\n",
    "|string-of-hearts | 1 |\n",
    "|throne | 1 |\n",
    "|arrow | 1 |\n",
    "|band | 1 |\n",
    "|spear| 1 |\n",
    "|standing-on-a-horse | 1 |\n",
    "|horse | 1 |\n",
    "|running | 1 |\n",
    "|sleeping | 1 |\n",
    "|natural-landscape| 1 |\n",
    "|standing-on | 1 |\n",
    "|sphere | 1 |\n",
    "|putto | 1 |\n",
    "|snuggling-in-her-lap | 1 |\n",
    "|talons| 1 |\n"
   ]
  },
  {
   "cell_type": "code",
   "execution_count": 37,
   "id": "e2f306e8",
   "metadata": {},
   "outputs": [
    {
     "name": "stdout",
     "output_type": "stream",
     "text": [
      "(rdflib.term.URIRef('http://icondataset.org/wings'), rdflib.term.Literal('8', datatype=rdflib.term.URIRef('http://www.w3.org/2001/XMLSchema#integer')))\n",
      "(rdflib.term.URIRef('http://icondataset.org/bandage'), rdflib.term.Literal('7', datatype=rdflib.term.URIRef('http://www.w3.org/2001/XMLSchema#integer')))\n",
      "(rdflib.term.URIRef('http://icondataset.org/arrows'), rdflib.term.Literal('6', datatype=rdflib.term.URIRef('http://www.w3.org/2001/XMLSchema#integer')))\n",
      "(rdflib.term.URIRef('http://icondataset.org/bow'), rdflib.term.Literal('6', datatype=rdflib.term.URIRef('http://www.w3.org/2001/XMLSchema#integer')))\n",
      "(rdflib.term.URIRef('http://icondataset.org/boy'), rdflib.term.Literal('4', datatype=rdflib.term.URIRef('http://www.w3.org/2001/XMLSchema#integer')))\n",
      "(rdflib.term.URIRef('http://icondataset.org/child'), rdflib.term.Literal('4', datatype=rdflib.term.URIRef('http://www.w3.org/2001/XMLSchema#integer')))\n",
      "(rdflib.term.URIRef('http://icondataset.org/griffon-claws'), rdflib.term.Literal('3', datatype=rdflib.term.URIRef('http://www.w3.org/2001/XMLSchema#integer')))\n",
      "(rdflib.term.URIRef('http://icondataset.org/crown-of-roses'), rdflib.term.Literal('2', datatype=rdflib.term.URIRef('http://www.w3.org/2001/XMLSchema#integer')))\n",
      "(rdflib.term.URIRef('http://icondataset.org/hearts'), rdflib.term.Literal('1', datatype=rdflib.term.URIRef('http://www.w3.org/2001/XMLSchema#integer')))\n",
      "(rdflib.term.URIRef('http://icondataset.org/string-of-hearts'), rdflib.term.Literal('1', datatype=rdflib.term.URIRef('http://www.w3.org/2001/XMLSchema#integer')))\n",
      "(rdflib.term.URIRef('http://icondataset.org/throne'), rdflib.term.Literal('1', datatype=rdflib.term.URIRef('http://www.w3.org/2001/XMLSchema#integer')))\n",
      "(rdflib.term.URIRef('http://icondataset.org/arrow'), rdflib.term.Literal('1', datatype=rdflib.term.URIRef('http://www.w3.org/2001/XMLSchema#integer')))\n",
      "(rdflib.term.URIRef('http://icondataset.org/band'), rdflib.term.Literal('1', datatype=rdflib.term.URIRef('http://www.w3.org/2001/XMLSchema#integer')))\n",
      "(rdflib.term.URIRef('http://icondataset.org/standing-on-a-horse'), rdflib.term.Literal('1', datatype=rdflib.term.URIRef('http://www.w3.org/2001/XMLSchema#integer')))\n",
      "(rdflib.term.URIRef('http://icondataset.org/spear'), rdflib.term.Literal('1', datatype=rdflib.term.URIRef('http://www.w3.org/2001/XMLSchema#integer')))\n",
      "(rdflib.term.URIRef('http://icondataset.org/horse'), rdflib.term.Literal('1', datatype=rdflib.term.URIRef('http://www.w3.org/2001/XMLSchema#integer')))\n",
      "(rdflib.term.URIRef('http://icondataset.org/running'), rdflib.term.Literal('1', datatype=rdflib.term.URIRef('http://www.w3.org/2001/XMLSchema#integer')))\n",
      "(rdflib.term.URIRef('http://icondataset.org/sleeping'), rdflib.term.Literal('1', datatype=rdflib.term.URIRef('http://www.w3.org/2001/XMLSchema#integer')))\n",
      "(rdflib.term.URIRef('http://icondataset.org/natural-landscape'), rdflib.term.Literal('1', datatype=rdflib.term.URIRef('http://www.w3.org/2001/XMLSchema#integer')))\n",
      "(rdflib.term.URIRef('http://icondataset.org/standing-on'), rdflib.term.Literal('1', datatype=rdflib.term.URIRef('http://www.w3.org/2001/XMLSchema#integer')))\n",
      "(rdflib.term.URIRef('http://icondataset.org/sphere'), rdflib.term.Literal('1', datatype=rdflib.term.URIRef('http://www.w3.org/2001/XMLSchema#integer')))\n",
      "(rdflib.term.URIRef('http://icondataset.org/snuggling-in-her-lap'), rdflib.term.Literal('1', datatype=rdflib.term.URIRef('http://www.w3.org/2001/XMLSchema#integer')))\n",
      "(rdflib.term.URIRef('http://icondataset.org/putto'), rdflib.term.Literal('1', datatype=rdflib.term.URIRef('http://www.w3.org/2001/XMLSchema#integer')))\n",
      "(rdflib.term.URIRef('http://icondataset.org/talons'), rdflib.term.Literal('1', datatype=rdflib.term.URIRef('http://www.w3.org/2001/XMLSchema#integer')))\n"
     ]
    }
   ],
   "source": [
    "\n",
    "cq = '''\n",
    "PREFIX d: <http://icondataset.org/> \n",
    "PREFIX crm: <http://www.cidoc-crm.org/cidoc-crm/> \n",
    "PREFIX icon: <https://w3id.org/icon/ontology/>  \n",
    "\n",
    "\n",
    "SELECT DISTINCT ?lev1 (count(?lev1) as ?tot) WHERE {\n",
    "VALUES ?rel {icon:hasFactualMeaning icon:hasExpressionalMeaning}\n",
    "?rec icon:recognizedImage ?img; \n",
    "    icon:aboutWorkOfArt ?art;\n",
    "    icon:refersToArtisticMotif ?am;\n",
    "    icon:recognizedImage ?img. \n",
    "?img icon:hasCharacter d:blindfold-cupid. \n",
    "{?am a icon:ArtisticMotif; ?rel ?lev1} UNION \n",
    "{?am icon:hasPart ?a. ?a ?rel ?lev1}\n",
    "\n",
    "\n",
    "} GROUP BY ?lev1\n",
    "ORDER BY DESC(?tot)\n",
    "'''\n",
    "\n",
    "cqres = newg.query(cq)\n",
    "\n",
    "for row in cqres:\n",
    "    print(row)"
   ]
  },
  {
   "cell_type": "markdown",
   "id": "98455f6e",
   "metadata": {},
   "source": [
    "## CQ 2.7 \n",
    "What are the level 1 variations of the same level 2 subject involved in different stories or allegories?"
   ]
  },
  {
   "cell_type": "code",
   "execution_count": null,
   "id": "fae949b3",
   "metadata": {},
   "outputs": [],
   "source": [
    "### CQ 2.7.1 \n",
    "What are the level 1 subject of Christ when he is involved in a story?"
   ]
  },
  {
   "cell_type": "code",
   "execution_count": 71,
   "id": "11937c74",
   "metadata": {},
   "outputs": [
    {
     "name": "stdout",
     "output_type": "stream",
     "text": [
      "(rdflib.term.URIRef('http://icondataset.org/cross'),)\n",
      "(rdflib.term.URIRef('http://icondataset.org/man'),)\n",
      "(rdflib.term.URIRef('http://icondataset.org/crown'),)\n"
     ]
    }
   ],
   "source": [
    "\n",
    "cq = '''\n",
    "PREFIX d: <http://icondataset.org/> \n",
    "PREFIX crm: <http://www.cidoc-crm.org/cidoc-crm/> \n",
    "PREFIX icon: <https://w3id.org/icon/ontology/>  \n",
    "\n",
    "\n",
    "SELECT DISTINCT ?lev1 WHERE {\n",
    "VALUES ?rel {icon:hasFactualMeaning icon:hasExpressionalMeaning}\n",
    "?rec icon:recognizedImage ?img; \n",
    "    icon:aboutWorkOfArt ?art;\n",
    "    icon:refersToArtisticMotif ?am. \n",
    "    \n",
    "?img icon:hasCharacter d:christ. \n",
    "d:christ icon:partOf ?story. \n",
    "\n",
    "?rec2 icon:recognizedInvenzione ?story; \n",
    "    icon:aboutWorkOfArt ?art. \n",
    "?story a icon:Story. \n",
    "\n",
    "{?am a icon:ArtisticMotif; ?rel ?lev1} UNION \n",
    "{?am icon:hasPart ?a. ?a ?rel ?lev1}\n",
    "\n",
    "\n",
    "}\n",
    "'''\n",
    "\n",
    "cqres = newg.query(cq)\n",
    "\n",
    "for row in cqres:\n",
    "    print(row)"
   ]
  },
  {
   "cell_type": "code",
   "execution_count": null,
   "id": "4fa4d684",
   "metadata": {},
   "outputs": [],
   "source": [
    "### CQ 2.7.1 \n",
    "What are the level 1 subject of Christ when he is involved in an allegory?"
   ]
  },
  {
   "cell_type": "code",
   "execution_count": 72,
   "id": "1e83bbe0",
   "metadata": {},
   "outputs": [
    {
     "name": "stdout",
     "output_type": "stream",
     "text": [
      "(rdflib.term.URIRef('http://icondataset.org/carrying-on-shoulders'),)\n",
      "(rdflib.term.URIRef('http://icondataset.org/man'),)\n",
      "(rdflib.term.URIRef('http://icondataset.org/cloth'),)\n"
     ]
    }
   ],
   "source": [
    "\n",
    "cq = '''\n",
    "PREFIX d: <http://icondataset.org/> \n",
    "PREFIX crm: <http://www.cidoc-crm.org/cidoc-crm/> \n",
    "PREFIX icon: <https://w3id.org/icon/ontology/>  \n",
    "\n",
    "\n",
    "SELECT DISTINCT ?lev1 WHERE {\n",
    "VALUES ?rel {icon:hasFactualMeaning icon:hasExpressionalMeaning}\n",
    "?rec icon:recognizedImage ?img; \n",
    "    icon:aboutWorkOfArt ?art;\n",
    "    icon:refersToArtisticMotif ?am. \n",
    "    \n",
    "?img icon:hasCharacter d:christ. \n",
    "d:christ icon:partOf ?allegory. \n",
    "\n",
    "?rec2 icon:recognizedInvenzione ?allegory; \n",
    "    icon:aboutWorkOfArt ?art. \n",
    "?allegory a icon:Allegory. \n",
    "\n",
    "{?am a icon:ArtisticMotif; ?rel ?lev1} UNION \n",
    "{?am icon:hasPart ?a. ?a ?rel ?lev1}\n",
    "\n",
    "\n",
    "}\n",
    "'''\n",
    "\n",
    "cqres = newg.query(cq)\n",
    "\n",
    "for row in cqres:\n",
    "    print(row)"
   ]
  },
  {
   "cell_type": "markdown",
   "id": "ec30b230",
   "metadata": {},
   "source": [
    "## CQ 2.8\n",
    "what are the level 1 subjects having multiple interpretations at level 2? Which of them are made in the same\n",
    "descriptive situation?\n",
    "\n",
    "### CQ 2.8.1\n",
    "what are the level 1 subjects having multiple interpretations at level 2 in ART1250? Which of them are made in the same\n",
    "descriptive situation?\n",
    "\n",
    "\n",
    "**Expected results**: \n",
    "?lev1:\n",
    "tree-trunks, caned-boats, rafts, people, skins, hides, wearing, forest-fire, unbridled-passions, human-figures-with-animal-legs, creature-with-human-upper-body-and-legs-and-lower-body-of-horse, loving, mating, paying-no-attention-to-the-fire. <br>\n",
    "?desc: ART1250-ICDESC\n"
   ]
  },
  {
   "cell_type": "code",
   "execution_count": 78,
   "id": "5849f2d9",
   "metadata": {},
   "outputs": [
    {
     "name": "stdout",
     "output_type": "stream",
     "text": [
      "(rdflib.term.URIRef('http://icondataset.org/people'), rdflib.term.URIRef('http://icondataset.org/ART1250-ICDESC'))\n",
      "(rdflib.term.URIRef('http://icondataset.org/mating'), rdflib.term.URIRef('http://icondataset.org/ART1250-ICDESC'))\n",
      "(rdflib.term.URIRef('http://icondataset.org/paying-no-attention-to-the-fire'), rdflib.term.URIRef('http://icondataset.org/ART1250-ICDESC'))\n",
      "(rdflib.term.URIRef('http://icondataset.org/skins'), rdflib.term.URIRef('http://icondataset.org/ART1250-ICDESC'))\n",
      "(rdflib.term.URIRef('http://icondataset.org/hides'), rdflib.term.URIRef('http://icondataset.org/ART1250-ICDESC'))\n",
      "(rdflib.term.URIRef('http://icondataset.org/wearing'), rdflib.term.URIRef('http://icondataset.org/ART1250-ICDESC'))\n",
      "(rdflib.term.URIRef('http://icondataset.org/caned-boats'), rdflib.term.URIRef('http://icondataset.org/ART1250-ICDESC'))\n",
      "(rdflib.term.URIRef('http://icondataset.org/rafts'), rdflib.term.URIRef('http://icondataset.org/ART1250-ICDESC'))\n",
      "(rdflib.term.URIRef('http://icondataset.org/creature-with-human-upper-body-and-legs-and-lower-body-of-horse'), rdflib.term.URIRef('http://icondataset.org/ART1250-ICDESC'))\n",
      "(rdflib.term.URIRef('http://icondataset.org/loving'), rdflib.term.URIRef('http://icondataset.org/ART1250-ICDESC'))\n",
      "(rdflib.term.URIRef('http://icondataset.org/human-figures-with-animal-legs'), rdflib.term.URIRef('http://icondataset.org/ART1250-ICDESC'))\n",
      "(rdflib.term.URIRef('http://icondataset.org/forest-fire'), rdflib.term.URIRef('http://icondataset.org/ART1250-ICDESC'))\n",
      "(rdflib.term.URIRef('http://icondataset.org/tree-trunks'), rdflib.term.URIRef('http://icondataset.org/ART1250-ICDESC'))\n",
      "(rdflib.term.URIRef('http://icondataset.org/unbridled-passions'), rdflib.term.URIRef('http://icondataset.org/ART1250-ICDESC'))\n"
     ]
    }
   ],
   "source": [
    "\n",
    "cq = '''\n",
    "PREFIX d: <http://icondataset.org/> \n",
    "PREFIX crm: <http://www.cidoc-crm.org/cidoc-crm/> \n",
    "PREFIX icon: <https://w3id.org/icon/ontology/> \n",
    "\n",
    "\n",
    "SELECT DISTINCT ?lev1 ?desc WHERE {\n",
    "VALUES ?rel {icon:hasCharacter icon:hasPlace icon:hasNamedObject icon:hasPersonification icon:hasEvent}\n",
    "VALUES ?rel1 {icon:hasFactualMeaning icon:hasExpressionalMeaning}\n",
    "?rec a icon:IconographicalRecognition; \n",
    "    icon:aboutWorkOfArt d:ART1250;\n",
    "    icon:isListedIn ?desc;\n",
    "    icon:refersToArtisticMotif ?amOrComp;\n",
    "    icon:recognizedImage ?img. \n",
    "?img ?rel ?lev2a. \n",
    "?rec2 a icon:IconographicalRecognition; \n",
    "    icon:aboutWorkOfArt d:ART1250;\n",
    "    icon:isListedIn ?desc;\n",
    "    icon:refersToArtisticMotif ?amOrComp;\n",
    "    icon:recognizedImage ?img2. \n",
    "?img2 ?rel ?lev2b. \n",
    "FILTER (?lev2a != ?lev2b)\n",
    "\n",
    "{?amOrComp a icon:ArtisticMotif; ?rel1 ?lev1} UNION \n",
    "{?amOrComp icon:hasPart ?am. ?am ?rel1 ?lev1}\n",
    "\n",
    "\n",
    "} LIMIT 100\n",
    "'''\n",
    "\n",
    "cqres = newg.query(cq)\n",
    "\n",
    "for row in cqres:\n",
    "    print(row)"
   ]
  },
  {
   "cell_type": "markdown",
   "id": "85a8d322",
   "metadata": {},
   "source": [
    "## Level 3\n",
    "\n"
   ]
  },
  {
   "cell_type": "markdown",
   "id": "aaa5b74e",
   "metadata": {},
   "source": [
    "## CQ 3.1 \n",
    "What meanings are expressed by the artworks?"
   ]
  },
  {
   "cell_type": "markdown",
   "id": "2b15f3f2",
   "metadata": {},
   "source": [
    "### CQ 3.1.1\n",
    "\n",
    "What are the concepts expressed by ART1284? <br>\n",
    "\n",
    "**Expected results**: youth, air, sanguigne-temperament, gaiety, love"
   ]
  },
  {
   "cell_type": "code",
   "execution_count": 14,
   "id": "3b797111",
   "metadata": {},
   "outputs": [
    {
     "name": "stdout",
     "output_type": "stream",
     "text": [
      "(rdflib.term.URIRef('http://icondataset.org/youth'),)\n",
      "(rdflib.term.URIRef('http://icondataset.org/air'),)\n",
      "(rdflib.term.URIRef('http://icondataset.org/sanguigne-temperament'),)\n",
      "(rdflib.term.URIRef('http://icondataset.org/gaiety'),)\n",
      "(rdflib.term.URIRef('http://icondataset.org/love'),)\n"
     ]
    }
   ],
   "source": [
    "\n",
    "cq = '''\n",
    "PREFIX d: <http://icondataset.org/> \n",
    "PREFIX crm: <http://www.cidoc-crm.org/cidoc-crm/> \n",
    "PREFIX icon: <https://w3id.org/icon/ontology/> \n",
    "\n",
    "\n",
    "SELECT DISTINCT ?concept WHERE {\n",
    "\n",
    "?rec a icon:IconologicalRecognition; \n",
    "    icon:aboutWorkOfArt d:ART1284;\n",
    "    icon:recognizedIntrinsicMeaning ?intrinsic. \n",
    "\n",
    "?intrinsic icon:recognizedConceptualObject ?concept. \n",
    "\n",
    "} \n",
    "'''\n",
    "\n",
    "cqres = newg.query(cq)\n",
    "\n",
    "for row in cqres:\n",
    "    print(row)"
   ]
  },
  {
   "cell_type": "markdown",
   "id": "7e90a1fe",
   "metadata": {},
   "source": [
    "### CQ 3.1.2 \n",
    "Retrieve the intrinsic meanings of ART1284. <br>\n",
    "\n",
    "**Expected results**: \n",
    "\n",
    "| **intrinsic**      |\n",
    "|---------------|\n",
    "| ART1284-INTRINSIC1-1 | \n",
    "| ART1284-INTRINSIC1-2 | \n",
    "| ART1284-INTRINSIC1-3 | \n",
    "| ART1284-INTRINSIC1-4 | \n",
    "| ART1284-INTRINSIC1-5 | \n",
    "| ART1284-INTRINSIC1-6 |\n"
   ]
  },
  {
   "cell_type": "code",
   "execution_count": 16,
   "id": "5c3e63f2",
   "metadata": {},
   "outputs": [
    {
     "name": "stdout",
     "output_type": "stream",
     "text": [
      "(rdflib.term.URIRef('http://icondataset.org/ART1284-INTRINSIC1'),)\n",
      "(rdflib.term.URIRef('http://icondataset.org/ART1284-INTRINSIC2'),)\n",
      "(rdflib.term.URIRef('http://icondataset.org/ART1284-INTRINSIC3'),)\n",
      "(rdflib.term.URIRef('http://icondataset.org/ART1284-INTRINSIC4'),)\n",
      "(rdflib.term.URIRef('http://icondataset.org/ART1284-INTRINSIC5'),)\n",
      "(rdflib.term.URIRef('http://icondataset.org/ART1284-INTRINSIC6'),)\n"
     ]
    }
   ],
   "source": [
    "\n",
    "cq = '''\n",
    "PREFIX d: <http://icondataset.org/> \n",
    "PREFIX crm: <http://www.cidoc-crm.org/cidoc-crm/> \n",
    "PREFIX icon: <https://w3id.org/icon/ontology/> \n",
    "\n",
    "\n",
    "SELECT DISTINCT ?intrinsic WHERE {\n",
    "?rec icon:aboutWorkOfArt d:ART1284;\n",
    "    a icon:IconologicalRecognition;\n",
    "    icon:recognizedIntrinsicMeaning ?intrinsic. \n",
    "\n",
    "\n",
    "\n",
    "} LIMIT 100\n",
    "'''\n",
    "\n",
    "cqres = newg.query(cq)\n",
    "\n",
    "for row in cqres:\n",
    "    print(row)"
   ]
  },
  {
   "cell_type": "markdown",
   "id": "c5344f7c",
   "metadata": {},
   "source": [
    "## CQ 3.2 \n",
    "What cultural phenomena are identified in an artwork?"
   ]
  },
  {
   "cell_type": "markdown",
   "id": "a1a8d864",
   "metadata": {},
   "source": [
    "## CQ 3.2.1 \n",
    "What cultural phenomena are identified in ART1346? Retrieve them along with their label. <br/>\n",
    "\n",
    "**Expected results**: \n",
    "\n",
    "| **phenomenon** |**label**     |\n",
    "|---------------|----------|\n",
    "| CF1270 | The borrowings of motifs made by Michelangelo reveal his peculiar style and compositional principles |\n",
    "|  CF1186 | Michelangelo's style reveals his personality and beliefs |"
   ]
  },
  {
   "cell_type": "code",
   "execution_count": null,
   "id": "c88d7fa3",
   "metadata": {},
   "outputs": [],
   "source": []
  },
  {
   "cell_type": "code",
   "execution_count": 19,
   "id": "870321a6",
   "metadata": {},
   "outputs": [
    {
     "name": "stdout",
     "output_type": "stream",
     "text": [
      "(rdflib.term.URIRef('http://icondataset.org/CF1186'), rdflib.term.Literal(\"Michelangelo's style reveals his personality and beliefs\"))\n",
      "(rdflib.term.URIRef('http://icondataset.org/CF1270'), rdflib.term.Literal('The borrowings of motifs made by Michelangelo reveal his peculiar style and compositional principles'))\n"
     ]
    }
   ],
   "source": [
    "\n",
    "cq = '''\n",
    "PREFIX d: <http://icondataset.org/> \n",
    "PREFIX crm: <http://www.cidoc-crm.org/cidoc-crm/> \n",
    "PREFIX icon: <https://w3id.org/icon/ontology/> \n",
    "\n",
    "\n",
    "SELECT DISTINCT ?phenomenon ?label WHERE {\n",
    "?rec icon:aboutWorkOfArt d:ART1346;\n",
    "    a icon:IconologicalRecognition;\n",
    "    icon:recognizedIntrinsicMeaning ?intrinsic. \n",
    "?intrinsic icon:recognizedCulturalPhenomenon ?phenomenon. \n",
    "?phenomenon rdfs:label ?label. \n",
    "\n",
    "\n",
    "\n",
    "} LIMIT 100\n",
    "'''\n",
    "\n",
    "cqres = newg.query(cq)\n",
    "\n",
    "for row in cqres:\n",
    "    print(row)"
   ]
  },
  {
   "cell_type": "markdown",
   "id": "59811602",
   "metadata": {},
   "source": [
    "## CQ 3.3\n",
    "\n",
    "Who identified the cultural phenomena and on which basis?"
   ]
  },
  {
   "cell_type": "markdown",
   "id": "165192e7",
   "metadata": {},
   "source": [
    "### CQ 3.3.1 \n",
    "Who identified the cultural phenomenon CF1204 \"Piero di Cosimo paintings representing the Era ante Vulcanum and sub Vulcanum were planned as part of the same cycle for Francesco del Pugliese\" in ART1196? What evidences does the person responsible cite?\n",
    "\n",
    "**Expected results**: \n",
    "\n",
    "| **person** |**evidence**     |\n",
    "|---------------|----------|\n",
    "| erwin-panofsky | 1164bibl-content|\n",
    "| erwin-panofsky | 1164bibl-content-vol-IV |\n",
    "| erwin-panofsky |ART1195 |\n",
    "| erwin-panofsky | ART1249|\n",
    "| erwin-panofsky | ART1250| \n",
    "| erwin-panofsky | ART1251|\n"
   ]
  },
  {
   "cell_type": "code",
   "execution_count": 20,
   "id": "2555645b",
   "metadata": {},
   "outputs": [
    {
     "name": "stdout",
     "output_type": "stream",
     "text": [
      "(rdflib.term.URIRef('http://icondataset.org/name-erwin-panofsky'), rdflib.term.URIRef('http://icondataset.org/1164bibl-content'))\n",
      "(rdflib.term.URIRef('http://icondataset.org/name-erwin-panofsky'), rdflib.term.URIRef('http://icondataset.org/1164bibl-content-vol-iv'))\n",
      "(rdflib.term.URIRef('http://icondataset.org/name-erwin-panofsky'), rdflib.term.URIRef('http://icondataset.org/ART1195'))\n",
      "(rdflib.term.URIRef('http://icondataset.org/name-erwin-panofsky'), rdflib.term.URIRef('http://icondataset.org/ART1249'))\n",
      "(rdflib.term.URIRef('http://icondataset.org/name-erwin-panofsky'), rdflib.term.URIRef('http://icondataset.org/ART1250'))\n",
      "(rdflib.term.URIRef('http://icondataset.org/name-erwin-panofsky'), rdflib.term.URIRef('http://icondataset.org/ART1251'))\n"
     ]
    }
   ],
   "source": [
    "cq = '''\n",
    "PREFIX d: <http://icondataset.org/> \n",
    "PREFIX crm: <http://www.cidoc-crm.org/cidoc-crm/> \n",
    "PREFIX icon: <https://w3id.org/icon/ontology/> \n",
    "PREFIX cito: <http://purl.org/spar/cito/>\n",
    "\n",
    "\n",
    "SELECT DISTINCT ?person ?evidence WHERE {\n",
    "?rec icon:aboutWorkOfArt d:ART1196;\n",
    "    a icon:IconologicalRecognition;\n",
    "    crm:P14_carried_out_by ?person; \n",
    "    cito:citesAsEvidence ?evidence;\n",
    "    icon:recognizedIntrinsicMeaning ?intrinsic. \n",
    "?intrinsic icon:recognizedCulturalPhenomenon d:CF1204. \n",
    "\n",
    "\n",
    "} LIMIT 100\n",
    "'''\n",
    "\n",
    "cqres = newg.query(cq)\n",
    "\n",
    "for row in cqres:\n",
    "    print(row)"
   ]
  },
  {
   "cell_type": "markdown",
   "id": "85b1be3b",
   "metadata": {},
   "source": [
    "## CQ 3.4 \n",
    "What are the artworks are associated to the same cultural phenomenon?"
   ]
  },
  {
   "cell_type": "markdown",
   "id": "035c6108",
   "metadata": {},
   "source": [
    "### CQ 3.4.1 \n",
    "Retrieve the artworks where an intrinsic meaning is associated to the cultural phenomenon CF1087 \"Evolution of the iconography of Saturn\"\n",
    "\n",
    "**Expected results**: \n",
    "\n",
    "| **artwork** |\n",
    "|-------------|\n",
    "| ART1269 | \n",
    "| ART1270 | \n",
    "| ART1266 | \n",
    "| ART1267 | \n",
    "| ART1268 | \n",
    "| ART1534 | \n",
    "| ART1535 | \n",
    "| ART1289 | \n",
    "| ART1275 | \n",
    "| ART1276 | \n",
    "| ART1277 | \n",
    "| ART1273 | \n",
    "| ART1274 | "
   ]
  },
  {
   "cell_type": "code",
   "execution_count": 21,
   "id": "362e2196",
   "metadata": {},
   "outputs": [
    {
     "name": "stdout",
     "output_type": "stream",
     "text": [
      "(rdflib.term.URIRef('http://icondataset.org/ART1266'),)\n",
      "(rdflib.term.URIRef('http://icondataset.org/ART1267'),)\n",
      "(rdflib.term.URIRef('http://icondataset.org/ART1268'),)\n",
      "(rdflib.term.URIRef('http://icondataset.org/ART1269'),)\n",
      "(rdflib.term.URIRef('http://icondataset.org/ART1270'),)\n",
      "(rdflib.term.URIRef('http://icondataset.org/ART1273'),)\n",
      "(rdflib.term.URIRef('http://icondataset.org/ART1274'),)\n",
      "(rdflib.term.URIRef('http://icondataset.org/ART1275'),)\n",
      "(rdflib.term.URIRef('http://icondataset.org/ART1276'),)\n",
      "(rdflib.term.URIRef('http://icondataset.org/ART1277'),)\n",
      "(rdflib.term.URIRef('http://icondataset.org/ART1289'),)\n",
      "(rdflib.term.URIRef('http://icondataset.org/ART1534'),)\n",
      "(rdflib.term.URIRef('http://icondataset.org/ART1535'),)\n"
     ]
    }
   ],
   "source": [
    "\n",
    "cq = '''\n",
    "PREFIX d: <http://icondataset.org/> \n",
    "PREFIX crm: <http://www.cidoc-crm.org/cidoc-crm/> \n",
    "PREFIX icon: <https://w3id.org/icon/ontology/> \n",
    "\n",
    "\n",
    "SELECT DISTINCT ?artwork WHERE {\n",
    "?rec icon:aboutWorkOfArt ?artwork;\n",
    "    a icon:IconologicalRecognition;\n",
    "    icon:recognizedIntrinsicMeaning ?intrinsic. \n",
    "?intrinsic icon:recognizedCulturalPhenomenon d:CF1087. \n",
    "\n",
    "\n",
    "\n",
    "} LIMIT 100\n",
    "'''\n",
    "\n",
    "cqres = newg.query(cq)\n",
    "\n",
    "for row in cqres:\n",
    "    print(row)\n",
    "    \n"
   ]
  },
  {
   "cell_type": "markdown",
   "id": "e29c4f05",
   "metadata": {},
   "source": [
    "## CQ 3.5\n",
    "To which specific subjects at level 1 and 2 does the level 3 recognition refers?"
   ]
  },
  {
   "cell_type": "markdown",
   "id": "11e3dc7f",
   "metadata": {},
   "source": [
    "### CQ 3.5.1\n",
    "Retrieve the iconological recognitions where the intrinsic meaning refers to an image.  </br>\n",
    "**Expected results**:\n",
    "\n",
    "* `ART1004-ICONOLREC3`\n",
    "* `ART1043-ICONOLREC7`\n",
    "* `ART1122-ICONOLREC4`\n",
    "* `ART1123-ICONOLREC4`\n",
    "* `ART1195-ICONOLREC1-1`\n",
    "* `ART1201-ICONOLREC1`\n",
    "* `ART1314-ICONOLREC2`\n",
    "* `ART1323-ICONOLREC1`\n",
    "* `ART1325-ICONOLREC1`\n",
    "* `ART1326-ICONOLREC1`\n",
    "* `ART1353-ICONOLREC1`\n",
    "* `ART1354-ICONOLREC1`\n",
    "* `ART1269-ICONOLREC3`"
   ]
  },
  {
   "cell_type": "code",
   "execution_count": 34,
   "id": "9419e267",
   "metadata": {},
   "outputs": [
    {
     "name": "stdout",
     "output_type": "stream",
     "text": [
      "(rdflib.term.URIRef('http://icondataset.org/ART1004-ICONOLREC3'),)\n",
      "(rdflib.term.URIRef('http://icondataset.org/ART1043-ICONOLREC7'),)\n",
      "(rdflib.term.URIRef('http://icondataset.org/ART1122-ICONOLREC4'),)\n",
      "(rdflib.term.URIRef('http://icondataset.org/ART1123-ICONOLREC4'),)\n",
      "(rdflib.term.URIRef('http://icondataset.org/ART1195-PREICREC1-1'),)\n",
      "(rdflib.term.URIRef('http://icondataset.org/ART1201-ICONOLREC1'),)\n",
      "(rdflib.term.URIRef('http://icondataset.org/ART1314-ICONOLREC2'),)\n",
      "(rdflib.term.URIRef('http://icondataset.org/ART1323-ICONOLREC1'),)\n",
      "(rdflib.term.URIRef('http://icondataset.org/ART1325-ICONOLREC1'),)\n",
      "(rdflib.term.URIRef('http://icondataset.org/ART1326-ICONOLREC1'),)\n",
      "(rdflib.term.URIRef('http://icondataset.org/ART1353-ICONOLREC1'),)\n",
      "(rdflib.term.URIRef('http://icondataset.org/ART1354-ICONOLREC1'),)\n",
      "(rdflib.term.URIRef('http://icondataset.org/ART1269-ICONOLREC3'),)\n"
     ]
    }
   ],
   "source": [
    "\n",
    "cq = '''\n",
    "PREFIX d: <http://icondataset.org/> \n",
    "PREFIX crm: <http://www.cidoc-crm.org/cidoc-crm/> \n",
    "PREFIX icon: <https://w3id.org/icon/ontology/> \n",
    "\n",
    "\n",
    "SELECT DISTINCT ?rec WHERE {\n",
    "?rec icon:aboutWorkOfArt ?artwork;\n",
    "    icon:recognizedIntrinsicMeaning ?intrinsic.\n",
    "?intrinsic icon:hasImage ?img.\n",
    "\n",
    "\n",
    "} LIMIT 100\n",
    "'''\n",
    "\n",
    "cqres = newg.query(cq)\n",
    "\n",
    "for row in cqres:\n",
    "    print(row)\n",
    "    \n"
   ]
  },
  {
   "cell_type": "markdown",
   "id": "18faa9ca",
   "metadata": {},
   "source": [
    "## CQ 3.6 \n",
    "What are the artworks having both a common cultural phenomenon and a common level 2 subject?"
   ]
  },
  {
   "cell_type": "markdown",
   "id": "2761d552",
   "metadata": {},
   "source": [
    "### CQ 3.6.1\n",
    "Retrieve the arworks to which are associated at least a common cultural phenomenon and the common character \"Cupid\". </br>\n",
    "**Expected results**:\n",
    "\n",
    "| **artwork** | **artwork2** |\n",
    "|-------------|---------|\n",
    "| ART1122 | ART1123 |\n",
    "| ART1122 | ART1312 |\n",
    "| ART1123 | ART1312 |\n",
    "| ART1325 | ART1321 | \n",
    "| ART1329 | ART1201 |\n",
    "| ART1329 | ART1338 |\n",
    "| ART1329 | ART1339 |\n",
    "| ART1201 | ART1338 |\n",
    "| ART1201 | ART1339 |\n",
    "| ART1338 | ART1339 |\n",
    "| ART1291 | ART1292 | \n",
    "| ART1291 | ART1315 |\n",
    "| ART1291 | ART1294 |\n",
    "| ART1292 | ART1315 |\n",
    "| ART1292 | ART1294 |\n",
    "| ART1315 | ART1294 |\n",
    "| ART1318 | ART1319 |\n",
    "| ART1319 | ART1200 |\n",
    "\n",
    "This query was verified on Blazegraph. "
   ]
  },
  {
   "cell_type": "code",
   "execution_count": 3,
   "id": "8c76bbdb",
   "metadata": {},
   "outputs": [
    {
     "ename": "KeyboardInterrupt",
     "evalue": "",
     "output_type": "error",
     "traceback": [
      "\u001b[1;31m---------------------------------------------------------------------------\u001b[0m",
      "\u001b[1;31mKeyboardInterrupt\u001b[0m                         Traceback (most recent call last)",
      "\u001b[1;32mC:\\Users\\SOFIAB~1\\AppData\\Local\\Temp/ipykernel_5328/3642229997.py\u001b[0m in \u001b[0;36m<module>\u001b[1;34m\u001b[0m\n\u001b[0;32m     34\u001b[0m \u001b[0mcqres\u001b[0m \u001b[1;33m=\u001b[0m \u001b[0mnewg\u001b[0m\u001b[1;33m.\u001b[0m\u001b[0mquery\u001b[0m\u001b[1;33m(\u001b[0m\u001b[0mcq\u001b[0m\u001b[1;33m)\u001b[0m\u001b[1;33m\u001b[0m\u001b[1;33m\u001b[0m\u001b[0m\n\u001b[0;32m     35\u001b[0m \u001b[1;33m\u001b[0m\u001b[0m\n\u001b[1;32m---> 36\u001b[1;33m \u001b[1;32mfor\u001b[0m \u001b[0mrow\u001b[0m \u001b[1;32min\u001b[0m \u001b[0mcqres\u001b[0m\u001b[1;33m:\u001b[0m\u001b[1;33m\u001b[0m\u001b[1;33m\u001b[0m\u001b[0m\n\u001b[0m\u001b[0;32m     37\u001b[0m     \u001b[0mprint\u001b[0m\u001b[1;33m(\u001b[0m\u001b[0mrow\u001b[0m\u001b[1;33m)\u001b[0m\u001b[1;33m\u001b[0m\u001b[1;33m\u001b[0m\u001b[0m\n\u001b[0;32m     38\u001b[0m \u001b[1;33m\u001b[0m\u001b[0m\n",
      "\u001b[1;32m~\\AppData\\Roaming\\Python\\Python39\\site-packages\\rdflib\\query.py\u001b[0m in \u001b[0;36m__iter__\u001b[1;34m(self)\u001b[0m\n\u001b[0;32m    290\u001b[0m \u001b[1;33m\u001b[0m\u001b[0m\n\u001b[0;32m    291\u001b[0m             \u001b[1;32mif\u001b[0m \u001b[0mself\u001b[0m\u001b[1;33m.\u001b[0m\u001b[0m_genbindings\u001b[0m\u001b[1;33m:\u001b[0m\u001b[1;33m\u001b[0m\u001b[1;33m\u001b[0m\u001b[0m\n\u001b[1;32m--> 292\u001b[1;33m                 \u001b[1;32mfor\u001b[0m \u001b[0mb\u001b[0m \u001b[1;32min\u001b[0m \u001b[0mself\u001b[0m\u001b[1;33m.\u001b[0m\u001b[0m_genbindings\u001b[0m\u001b[1;33m:\u001b[0m\u001b[1;33m\u001b[0m\u001b[1;33m\u001b[0m\u001b[0m\n\u001b[0m\u001b[0;32m    293\u001b[0m                     \u001b[1;32mif\u001b[0m \u001b[0mb\u001b[0m\u001b[1;33m:\u001b[0m  \u001b[1;31m# don't add a result row in case of empty binding {}\u001b[0m\u001b[1;33m\u001b[0m\u001b[1;33m\u001b[0m\u001b[0m\n\u001b[0;32m    294\u001b[0m                         \u001b[0mself\u001b[0m\u001b[1;33m.\u001b[0m\u001b[0m_bindings\u001b[0m\u001b[1;33m.\u001b[0m\u001b[0mappend\u001b[0m\u001b[1;33m(\u001b[0m\u001b[0mb\u001b[0m\u001b[1;33m)\u001b[0m\u001b[1;33m\u001b[0m\u001b[1;33m\u001b[0m\u001b[0m\n",
      "\u001b[1;32m~\\AppData\\Roaming\\Python\\Python39\\site-packages\\rdflib\\plugins\\sparql\\evaluate.py\u001b[0m in \u001b[0;36mevalDistinct\u001b[1;34m(ctx, part)\u001b[0m\n\u001b[0;32m    499\u001b[0m \u001b[1;33m\u001b[0m\u001b[0m\n\u001b[0;32m    500\u001b[0m     \u001b[0mdone\u001b[0m \u001b[1;33m=\u001b[0m \u001b[0mset\u001b[0m\u001b[1;33m(\u001b[0m\u001b[1;33m)\u001b[0m\u001b[1;33m\u001b[0m\u001b[1;33m\u001b[0m\u001b[0m\n\u001b[1;32m--> 501\u001b[1;33m     \u001b[1;32mfor\u001b[0m \u001b[0mx\u001b[0m \u001b[1;32min\u001b[0m \u001b[0mres\u001b[0m\u001b[1;33m:\u001b[0m\u001b[1;33m\u001b[0m\u001b[1;33m\u001b[0m\u001b[0m\n\u001b[0m\u001b[0;32m    502\u001b[0m         \u001b[1;32mif\u001b[0m \u001b[0mx\u001b[0m \u001b[1;32mnot\u001b[0m \u001b[1;32min\u001b[0m \u001b[0mdone\u001b[0m\u001b[1;33m:\u001b[0m\u001b[1;33m\u001b[0m\u001b[1;33m\u001b[0m\u001b[0m\n\u001b[0;32m    503\u001b[0m             \u001b[1;32myield\u001b[0m \u001b[0mx\u001b[0m\u001b[1;33m\u001b[0m\u001b[1;33m\u001b[0m\u001b[0m\n",
      "\u001b[1;32m~\\AppData\\Roaming\\Python\\Python39\\site-packages\\rdflib\\plugins\\sparql\\evaluate.py\u001b[0m in \u001b[0;36m<genexpr>\u001b[1;34m(.0)\u001b[0m\n\u001b[0;32m    508\u001b[0m     \u001b[0mres\u001b[0m \u001b[1;33m=\u001b[0m \u001b[0mevalPart\u001b[0m\u001b[1;33m(\u001b[0m\u001b[0mctx\u001b[0m\u001b[1;33m,\u001b[0m \u001b[0mproject\u001b[0m\u001b[1;33m.\u001b[0m\u001b[0mp\u001b[0m\u001b[1;33m)\u001b[0m\u001b[1;33m\u001b[0m\u001b[1;33m\u001b[0m\u001b[0m\n\u001b[0;32m    509\u001b[0m \u001b[1;33m\u001b[0m\u001b[0m\n\u001b[1;32m--> 510\u001b[1;33m     \u001b[1;32mreturn\u001b[0m \u001b[1;33m(\u001b[0m\u001b[0mrow\u001b[0m\u001b[1;33m.\u001b[0m\u001b[0mproject\u001b[0m\u001b[1;33m(\u001b[0m\u001b[0mproject\u001b[0m\u001b[1;33m.\u001b[0m\u001b[0mPV\u001b[0m\u001b[1;33m)\u001b[0m \u001b[1;32mfor\u001b[0m \u001b[0mrow\u001b[0m \u001b[1;32min\u001b[0m \u001b[0mres\u001b[0m\u001b[1;33m)\u001b[0m\u001b[1;33m\u001b[0m\u001b[1;33m\u001b[0m\u001b[0m\n\u001b[0m\u001b[0;32m    511\u001b[0m \u001b[1;33m\u001b[0m\u001b[0m\n\u001b[0;32m    512\u001b[0m \u001b[1;33m\u001b[0m\u001b[0m\n",
      "\u001b[1;32m~\\AppData\\Roaming\\Python\\Python39\\site-packages\\rdflib\\plugins\\sparql\\evaluate.py\u001b[0m in \u001b[0;36mevalFilter\u001b[1;34m(ctx, part)\u001b[0m\n\u001b[0;32m    170\u001b[0m \u001b[1;32mdef\u001b[0m \u001b[0mevalFilter\u001b[0m\u001b[1;33m(\u001b[0m\u001b[0mctx\u001b[0m\u001b[1;33m,\u001b[0m \u001b[0mpart\u001b[0m\u001b[1;33m)\u001b[0m\u001b[1;33m:\u001b[0m\u001b[1;33m\u001b[0m\u001b[1;33m\u001b[0m\u001b[0m\n\u001b[0;32m    171\u001b[0m     \u001b[1;31m# TODO: Deal with dict returned from evalPart!\u001b[0m\u001b[1;33m\u001b[0m\u001b[1;33m\u001b[0m\u001b[1;33m\u001b[0m\u001b[0m\n\u001b[1;32m--> 172\u001b[1;33m     \u001b[1;32mfor\u001b[0m \u001b[0mc\u001b[0m \u001b[1;32min\u001b[0m \u001b[0mevalPart\u001b[0m\u001b[1;33m(\u001b[0m\u001b[0mctx\u001b[0m\u001b[1;33m,\u001b[0m \u001b[0mpart\u001b[0m\u001b[1;33m.\u001b[0m\u001b[0mp\u001b[0m\u001b[1;33m)\u001b[0m\u001b[1;33m:\u001b[0m\u001b[1;33m\u001b[0m\u001b[1;33m\u001b[0m\u001b[0m\n\u001b[0m\u001b[0;32m    173\u001b[0m         if _ebv(\n\u001b[0;32m    174\u001b[0m             \u001b[0mpart\u001b[0m\u001b[1;33m.\u001b[0m\u001b[0mexpr\u001b[0m\u001b[1;33m,\u001b[0m\u001b[1;33m\u001b[0m\u001b[1;33m\u001b[0m\u001b[0m\n",
      "\u001b[1;32m~\\AppData\\Roaming\\Python\\Python39\\site-packages\\rdflib\\plugins\\sparql\\evaluate.py\u001b[0m in \u001b[0;36mevalBGP\u001b[1;34m(ctx, bgp)\u001b[0m\n\u001b[0;32m     84\u001b[0m             \u001b[1;32mcontinue\u001b[0m\u001b[1;33m\u001b[0m\u001b[1;33m\u001b[0m\u001b[0m\n\u001b[0;32m     85\u001b[0m \u001b[1;33m\u001b[0m\u001b[0m\n\u001b[1;32m---> 86\u001b[1;33m         \u001b[1;32mfor\u001b[0m \u001b[0mx\u001b[0m \u001b[1;32min\u001b[0m \u001b[0mevalBGP\u001b[0m\u001b[1;33m(\u001b[0m\u001b[0mc\u001b[0m\u001b[1;33m,\u001b[0m \u001b[0mbgp\u001b[0m\u001b[1;33m[\u001b[0m\u001b[1;36m1\u001b[0m\u001b[1;33m:\u001b[0m\u001b[1;33m]\u001b[0m\u001b[1;33m)\u001b[0m\u001b[1;33m:\u001b[0m\u001b[1;33m\u001b[0m\u001b[1;33m\u001b[0m\u001b[0m\n\u001b[0m\u001b[0;32m     87\u001b[0m             \u001b[1;32myield\u001b[0m \u001b[0mx\u001b[0m\u001b[1;33m\u001b[0m\u001b[1;33m\u001b[0m\u001b[0m\n\u001b[0;32m     88\u001b[0m \u001b[1;33m\u001b[0m\u001b[0m\n",
      "\u001b[1;32m~\\AppData\\Roaming\\Python\\Python39\\site-packages\\rdflib\\plugins\\sparql\\evaluate.py\u001b[0m in \u001b[0;36mevalBGP\u001b[1;34m(ctx, bgp)\u001b[0m\n\u001b[0;32m     84\u001b[0m             \u001b[1;32mcontinue\u001b[0m\u001b[1;33m\u001b[0m\u001b[1;33m\u001b[0m\u001b[0m\n\u001b[0;32m     85\u001b[0m \u001b[1;33m\u001b[0m\u001b[0m\n\u001b[1;32m---> 86\u001b[1;33m         \u001b[1;32mfor\u001b[0m \u001b[0mx\u001b[0m \u001b[1;32min\u001b[0m \u001b[0mevalBGP\u001b[0m\u001b[1;33m(\u001b[0m\u001b[0mc\u001b[0m\u001b[1;33m,\u001b[0m \u001b[0mbgp\u001b[0m\u001b[1;33m[\u001b[0m\u001b[1;36m1\u001b[0m\u001b[1;33m:\u001b[0m\u001b[1;33m]\u001b[0m\u001b[1;33m)\u001b[0m\u001b[1;33m:\u001b[0m\u001b[1;33m\u001b[0m\u001b[1;33m\u001b[0m\u001b[0m\n\u001b[0m\u001b[0;32m     87\u001b[0m             \u001b[1;32myield\u001b[0m \u001b[0mx\u001b[0m\u001b[1;33m\u001b[0m\u001b[1;33m\u001b[0m\u001b[0m\n\u001b[0;32m     88\u001b[0m \u001b[1;33m\u001b[0m\u001b[0m\n",
      "\u001b[1;32m~\\AppData\\Roaming\\Python\\Python39\\site-packages\\rdflib\\plugins\\sparql\\evaluate.py\u001b[0m in \u001b[0;36mevalBGP\u001b[1;34m(ctx, bgp)\u001b[0m\n\u001b[0;32m     84\u001b[0m             \u001b[1;32mcontinue\u001b[0m\u001b[1;33m\u001b[0m\u001b[1;33m\u001b[0m\u001b[0m\n\u001b[0;32m     85\u001b[0m \u001b[1;33m\u001b[0m\u001b[0m\n\u001b[1;32m---> 86\u001b[1;33m         \u001b[1;32mfor\u001b[0m \u001b[0mx\u001b[0m \u001b[1;32min\u001b[0m \u001b[0mevalBGP\u001b[0m\u001b[1;33m(\u001b[0m\u001b[0mc\u001b[0m\u001b[1;33m,\u001b[0m \u001b[0mbgp\u001b[0m\u001b[1;33m[\u001b[0m\u001b[1;36m1\u001b[0m\u001b[1;33m:\u001b[0m\u001b[1;33m]\u001b[0m\u001b[1;33m)\u001b[0m\u001b[1;33m:\u001b[0m\u001b[1;33m\u001b[0m\u001b[1;33m\u001b[0m\u001b[0m\n\u001b[0m\u001b[0;32m     87\u001b[0m             \u001b[1;32myield\u001b[0m \u001b[0mx\u001b[0m\u001b[1;33m\u001b[0m\u001b[1;33m\u001b[0m\u001b[0m\n\u001b[0;32m     88\u001b[0m \u001b[1;33m\u001b[0m\u001b[0m\n",
      "\u001b[1;32m~\\AppData\\Roaming\\Python\\Python39\\site-packages\\rdflib\\plugins\\sparql\\evaluate.py\u001b[0m in \u001b[0;36mevalBGP\u001b[1;34m(ctx, bgp)\u001b[0m\n\u001b[0;32m     84\u001b[0m             \u001b[1;32mcontinue\u001b[0m\u001b[1;33m\u001b[0m\u001b[1;33m\u001b[0m\u001b[0m\n\u001b[0;32m     85\u001b[0m \u001b[1;33m\u001b[0m\u001b[0m\n\u001b[1;32m---> 86\u001b[1;33m         \u001b[1;32mfor\u001b[0m \u001b[0mx\u001b[0m \u001b[1;32min\u001b[0m \u001b[0mevalBGP\u001b[0m\u001b[1;33m(\u001b[0m\u001b[0mc\u001b[0m\u001b[1;33m,\u001b[0m \u001b[0mbgp\u001b[0m\u001b[1;33m[\u001b[0m\u001b[1;36m1\u001b[0m\u001b[1;33m:\u001b[0m\u001b[1;33m]\u001b[0m\u001b[1;33m)\u001b[0m\u001b[1;33m:\u001b[0m\u001b[1;33m\u001b[0m\u001b[1;33m\u001b[0m\u001b[0m\n\u001b[0m\u001b[0;32m     87\u001b[0m             \u001b[1;32myield\u001b[0m \u001b[0mx\u001b[0m\u001b[1;33m\u001b[0m\u001b[1;33m\u001b[0m\u001b[0m\n\u001b[0;32m     88\u001b[0m \u001b[1;33m\u001b[0m\u001b[0m\n",
      "\u001b[1;32m~\\AppData\\Roaming\\Python\\Python39\\site-packages\\rdflib\\plugins\\sparql\\evaluate.py\u001b[0m in \u001b[0;36mevalBGP\u001b[1;34m(ctx, bgp)\u001b[0m\n\u001b[0;32m     84\u001b[0m             \u001b[1;32mcontinue\u001b[0m\u001b[1;33m\u001b[0m\u001b[1;33m\u001b[0m\u001b[0m\n\u001b[0;32m     85\u001b[0m \u001b[1;33m\u001b[0m\u001b[0m\n\u001b[1;32m---> 86\u001b[1;33m         \u001b[1;32mfor\u001b[0m \u001b[0mx\u001b[0m \u001b[1;32min\u001b[0m \u001b[0mevalBGP\u001b[0m\u001b[1;33m(\u001b[0m\u001b[0mc\u001b[0m\u001b[1;33m,\u001b[0m \u001b[0mbgp\u001b[0m\u001b[1;33m[\u001b[0m\u001b[1;36m1\u001b[0m\u001b[1;33m:\u001b[0m\u001b[1;33m]\u001b[0m\u001b[1;33m)\u001b[0m\u001b[1;33m:\u001b[0m\u001b[1;33m\u001b[0m\u001b[1;33m\u001b[0m\u001b[0m\n\u001b[0m\u001b[0;32m     87\u001b[0m             \u001b[1;32myield\u001b[0m \u001b[0mx\u001b[0m\u001b[1;33m\u001b[0m\u001b[1;33m\u001b[0m\u001b[0m\n\u001b[0;32m     88\u001b[0m \u001b[1;33m\u001b[0m\u001b[0m\n",
      "\u001b[1;32m~\\AppData\\Roaming\\Python\\Python39\\site-packages\\rdflib\\plugins\\sparql\\evaluate.py\u001b[0m in \u001b[0;36mevalBGP\u001b[1;34m(ctx, bgp)\u001b[0m\n\u001b[0;32m     84\u001b[0m             \u001b[1;32mcontinue\u001b[0m\u001b[1;33m\u001b[0m\u001b[1;33m\u001b[0m\u001b[0m\n\u001b[0;32m     85\u001b[0m \u001b[1;33m\u001b[0m\u001b[0m\n\u001b[1;32m---> 86\u001b[1;33m         \u001b[1;32mfor\u001b[0m \u001b[0mx\u001b[0m \u001b[1;32min\u001b[0m \u001b[0mevalBGP\u001b[0m\u001b[1;33m(\u001b[0m\u001b[0mc\u001b[0m\u001b[1;33m,\u001b[0m \u001b[0mbgp\u001b[0m\u001b[1;33m[\u001b[0m\u001b[1;36m1\u001b[0m\u001b[1;33m:\u001b[0m\u001b[1;33m]\u001b[0m\u001b[1;33m)\u001b[0m\u001b[1;33m:\u001b[0m\u001b[1;33m\u001b[0m\u001b[1;33m\u001b[0m\u001b[0m\n\u001b[0m\u001b[0;32m     87\u001b[0m             \u001b[1;32myield\u001b[0m \u001b[0mx\u001b[0m\u001b[1;33m\u001b[0m\u001b[1;33m\u001b[0m\u001b[0m\n\u001b[0;32m     88\u001b[0m \u001b[1;33m\u001b[0m\u001b[0m\n",
      "\u001b[1;32m~\\AppData\\Roaming\\Python\\Python39\\site-packages\\rdflib\\plugins\\sparql\\evaluate.py\u001b[0m in \u001b[0;36mevalBGP\u001b[1;34m(ctx, bgp)\u001b[0m\n\u001b[0;32m     63\u001b[0m     \u001b[0m_o\u001b[0m \u001b[1;33m=\u001b[0m \u001b[0mctx\u001b[0m\u001b[1;33m[\u001b[0m\u001b[0mo\u001b[0m\u001b[1;33m]\u001b[0m\u001b[1;33m\u001b[0m\u001b[1;33m\u001b[0m\u001b[0m\n\u001b[0;32m     64\u001b[0m \u001b[1;33m\u001b[0m\u001b[0m\n\u001b[1;32m---> 65\u001b[1;33m     \u001b[1;32mfor\u001b[0m \u001b[0mss\u001b[0m\u001b[1;33m,\u001b[0m \u001b[0msp\u001b[0m\u001b[1;33m,\u001b[0m \u001b[0mso\u001b[0m \u001b[1;32min\u001b[0m \u001b[0mctx\u001b[0m\u001b[1;33m.\u001b[0m\u001b[0mgraph\u001b[0m\u001b[1;33m.\u001b[0m\u001b[0mtriples\u001b[0m\u001b[1;33m(\u001b[0m\u001b[1;33m(\u001b[0m\u001b[0m_s\u001b[0m\u001b[1;33m,\u001b[0m \u001b[0m_p\u001b[0m\u001b[1;33m,\u001b[0m \u001b[0m_o\u001b[0m\u001b[1;33m)\u001b[0m\u001b[1;33m)\u001b[0m\u001b[1;33m:\u001b[0m\u001b[1;33m\u001b[0m\u001b[1;33m\u001b[0m\u001b[0m\n\u001b[0m\u001b[0;32m     66\u001b[0m         \u001b[1;32mif\u001b[0m \u001b[1;32mNone\u001b[0m \u001b[1;32min\u001b[0m \u001b[1;33m(\u001b[0m\u001b[0m_s\u001b[0m\u001b[1;33m,\u001b[0m \u001b[0m_p\u001b[0m\u001b[1;33m,\u001b[0m \u001b[0m_o\u001b[0m\u001b[1;33m)\u001b[0m\u001b[1;33m:\u001b[0m\u001b[1;33m\u001b[0m\u001b[1;33m\u001b[0m\u001b[0m\n\u001b[0;32m     67\u001b[0m             \u001b[0mc\u001b[0m \u001b[1;33m=\u001b[0m \u001b[0mctx\u001b[0m\u001b[1;33m.\u001b[0m\u001b[0mpush\u001b[0m\u001b[1;33m(\u001b[0m\u001b[1;33m)\u001b[0m\u001b[1;33m\u001b[0m\u001b[1;33m\u001b[0m\u001b[0m\n",
      "\u001b[1;32m~\\AppData\\Roaming\\Python\\Python39\\site-packages\\rdflib\\graph.py\u001b[0m in \u001b[0;36mtriples\u001b[1;34m(self, triple)\u001b[0m\n\u001b[0;32m    446\u001b[0m                 \u001b[1;32myield\u001b[0m \u001b[0m_s\u001b[0m\u001b[1;33m,\u001b[0m \u001b[0mp\u001b[0m\u001b[1;33m,\u001b[0m \u001b[0m_o\u001b[0m\u001b[1;33m\u001b[0m\u001b[1;33m\u001b[0m\u001b[0m\n\u001b[0;32m    447\u001b[0m         \u001b[1;32melse\u001b[0m\u001b[1;33m:\u001b[0m\u001b[1;33m\u001b[0m\u001b[1;33m\u001b[0m\u001b[0m\n\u001b[1;32m--> 448\u001b[1;33m             \u001b[1;32mfor\u001b[0m \u001b[1;33m(\u001b[0m\u001b[0ms\u001b[0m\u001b[1;33m,\u001b[0m \u001b[0mp\u001b[0m\u001b[1;33m,\u001b[0m \u001b[0mo\u001b[0m\u001b[1;33m)\u001b[0m\u001b[1;33m,\u001b[0m \u001b[0mcg\u001b[0m \u001b[1;32min\u001b[0m \u001b[0mself\u001b[0m\u001b[1;33m.\u001b[0m\u001b[0m__store\u001b[0m\u001b[1;33m.\u001b[0m\u001b[0mtriples\u001b[0m\u001b[1;33m(\u001b[0m\u001b[1;33m(\u001b[0m\u001b[0ms\u001b[0m\u001b[1;33m,\u001b[0m \u001b[0mp\u001b[0m\u001b[1;33m,\u001b[0m \u001b[0mo\u001b[0m\u001b[1;33m)\u001b[0m\u001b[1;33m,\u001b[0m \u001b[0mcontext\u001b[0m\u001b[1;33m=\u001b[0m\u001b[0mself\u001b[0m\u001b[1;33m)\u001b[0m\u001b[1;33m:\u001b[0m\u001b[1;33m\u001b[0m\u001b[1;33m\u001b[0m\u001b[0m\n\u001b[0m\u001b[0;32m    449\u001b[0m                 \u001b[1;32myield\u001b[0m \u001b[0ms\u001b[0m\u001b[1;33m,\u001b[0m \u001b[0mp\u001b[0m\u001b[1;33m,\u001b[0m \u001b[0mo\u001b[0m\u001b[1;33m\u001b[0m\u001b[1;33m\u001b[0m\u001b[0m\n\u001b[0;32m    450\u001b[0m \u001b[1;33m\u001b[0m\u001b[0m\n",
      "\u001b[1;32m~\\AppData\\Roaming\\Python\\Python39\\site-packages\\rdflib\\plugins\\stores\\memory.py\u001b[0m in \u001b[0;36mtriples\u001b[1;34m(self, triple_pattern, context)\u001b[0m\n\u001b[0;32m    305\u001b[0m     \u001b[1;32mdef\u001b[0m \u001b[0mtriples\u001b[0m\u001b[1;33m(\u001b[0m\u001b[0mself\u001b[0m\u001b[1;33m,\u001b[0m \u001b[0mtriple_pattern\u001b[0m\u001b[1;33m,\u001b[0m \u001b[0mcontext\u001b[0m\u001b[1;33m=\u001b[0m\u001b[1;32mNone\u001b[0m\u001b[1;33m)\u001b[0m\u001b[1;33m:\u001b[0m\u001b[1;33m\u001b[0m\u001b[1;33m\u001b[0m\u001b[0m\n\u001b[0;32m    306\u001b[0m         \u001b[1;34m\"\"\"A generator over all the triples matching\"\"\"\u001b[0m\u001b[1;33m\u001b[0m\u001b[1;33m\u001b[0m\u001b[0m\n\u001b[1;32m--> 307\u001b[1;33m         \u001b[0mreq_ctx\u001b[0m \u001b[1;33m=\u001b[0m \u001b[0mself\u001b[0m\u001b[1;33m.\u001b[0m\u001b[0m__ctx_to_str\u001b[0m\u001b[1;33m(\u001b[0m\u001b[0mcontext\u001b[0m\u001b[1;33m)\u001b[0m\u001b[1;33m\u001b[0m\u001b[1;33m\u001b[0m\u001b[0m\n\u001b[0m\u001b[0;32m    308\u001b[0m         \u001b[0msubject\u001b[0m\u001b[1;33m,\u001b[0m \u001b[0mpredicate\u001b[0m\u001b[1;33m,\u001b[0m \u001b[0mobject_\u001b[0m \u001b[1;33m=\u001b[0m \u001b[0mtriple_pattern\u001b[0m\u001b[1;33m\u001b[0m\u001b[1;33m\u001b[0m\u001b[0m\n\u001b[0;32m    309\u001b[0m \u001b[1;33m\u001b[0m\u001b[0m\n",
      "\u001b[1;32m~\\AppData\\Roaming\\Python\\Python39\\site-packages\\rdflib\\plugins\\stores\\memory.py\u001b[0m in \u001b[0;36m__ctx_to_str\u001b[1;34m(self, ctx)\u001b[0m\n\u001b[0;32m    526\u001b[0m             \u001b[0mctx_str\u001b[0m \u001b[1;33m=\u001b[0m \u001b[1;34m\"{}:{}\"\u001b[0m\u001b[1;33m.\u001b[0m\u001b[0mformat\u001b[0m\u001b[1;33m(\u001b[0m\u001b[0mctx\u001b[0m\u001b[1;33m.\u001b[0m\u001b[0midentifier\u001b[0m\u001b[1;33m.\u001b[0m\u001b[0m__class__\u001b[0m\u001b[1;33m.\u001b[0m\u001b[0m__name__\u001b[0m\u001b[1;33m,\u001b[0m \u001b[0mctx\u001b[0m\u001b[1;33m.\u001b[0m\u001b[0midentifier\u001b[0m\u001b[1;33m)\u001b[0m\u001b[1;33m\u001b[0m\u001b[1;33m\u001b[0m\u001b[0m\n\u001b[0;32m    527\u001b[0m             \u001b[0mself\u001b[0m\u001b[1;33m.\u001b[0m\u001b[0m__context_obj_map\u001b[0m\u001b[1;33m[\u001b[0m\u001b[0mctx_str\u001b[0m\u001b[1;33m]\u001b[0m \u001b[1;33m=\u001b[0m \u001b[0mctx\u001b[0m\u001b[1;33m\u001b[0m\u001b[1;33m\u001b[0m\u001b[0m\n\u001b[1;32m--> 528\u001b[1;33m             \u001b[1;32mreturn\u001b[0m \u001b[0mctx_str\u001b[0m\u001b[1;33m\u001b[0m\u001b[1;33m\u001b[0m\u001b[0m\n\u001b[0m\u001b[0;32m    529\u001b[0m         \u001b[1;32mexcept\u001b[0m \u001b[0mAttributeError\u001b[0m\u001b[1;33m:\u001b[0m\u001b[1;33m\u001b[0m\u001b[1;33m\u001b[0m\u001b[0m\n\u001b[0;32m    530\u001b[0m             \u001b[1;31m# otherwise, ctx should be a URIRef or BNode or str\u001b[0m\u001b[1;33m\u001b[0m\u001b[1;33m\u001b[0m\u001b[1;33m\u001b[0m\u001b[0m\n",
      "\u001b[1;31mKeyboardInterrupt\u001b[0m: "
     ]
    }
   ],
   "source": [
    "\n",
    "cq = '''\n",
    "PREFIX d: <http://icondataset.org/> \n",
    "PREFIX crm: <http://www.cidoc-crm.org/cidoc-crm/> \n",
    "PREFIX icon: <https://w3id.org/icon/ontology/> \n",
    "\n",
    "\n",
    "SELECT DISTINCT ?artwork ?artwork2 WHERE {\n",
    "\n",
    "?rec icon:aboutWorkOfArt ?artwork;\n",
    "    a icon:IconologicalRecognition;\n",
    "    icon:recognizedIntrinsicMeaning ?intrinsic.\n",
    "?intrinsic icon:recognizedCulturalPhenomenon ?phenomenon. \n",
    "?icrec icon:aboutWorkOfArt ?artwork;\n",
    "    a icon:IconographicalRecognition;\n",
    "    icon:recognizedImage ?img. \n",
    "?img icon:hasCharacter d:cupid. \n",
    "\n",
    "\n",
    "?rec2 icon:aboutWorkOfArt ?artwork2;\n",
    "    a icon:IconologicalRecognition;\n",
    "    icon:recognizedIntrinsicMeaning ?intrinsic2.\n",
    "?intrinsic2 icon:recognizedCulturalPhenomenon ?phenomenon. \n",
    "?icrec2 icon:aboutWorkOfArt ?artwork2;\n",
    "    a icon:IconographicalRecognition;\n",
    "    icon:recognizedImage ?img2. \n",
    "?img2 icon:hasCharacter d:cupid. \n",
    "\n",
    "FILTER(?artwork != ?artwork2)\n",
    "\n",
    "\n",
    "} LIMIT 100\n",
    "'''\n",
    "\n",
    "cqres = newg.query(cq)\n",
    "\n",
    "for row in cqres:\n",
    "    print(row)\n",
    "    \n"
   ]
  },
  {
   "cell_type": "code",
   "execution_count": null,
   "id": "06d6a494",
   "metadata": {},
   "outputs": [],
   "source": []
  }
 ],
 "metadata": {
  "kernelspec": {
   "display_name": "Python 3 (ipykernel)",
   "language": "python",
   "name": "python3"
  },
  "language_info": {
   "codemirror_mode": {
    "name": "ipython",
    "version": 3
   },
   "file_extension": ".py",
   "mimetype": "text/x-python",
   "name": "python",
   "nbconvert_exporter": "python",
   "pygments_lexer": "ipython3",
   "version": "3.9.0"
  }
 },
 "nbformat": 4,
 "nbformat_minor": 5
}
